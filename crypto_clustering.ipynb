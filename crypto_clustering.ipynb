{
 "cells": [
  {
   "cell_type": "markdown",
   "metadata": {},
   "source": [
    "# Clustering Crypto"
   ]
  },
  {
   "cell_type": "code",
   "execution_count": 6,
   "metadata": {},
   "outputs": [],
   "source": [
    "# Initial imports\n",
    "import requests\n",
    "import pandas as pd\n",
    "import matplotlib.pyplot as plt\n",
    "import hvplot.pandas\n",
    "from sklearn.preprocessing import StandardScaler, MinMaxScaler\n",
    "from sklearn.decomposition import PCA\n",
    "from sklearn.cluster import KMeans\n",
    "from urllib.request import Request, urlopen\n",
    "import json\n",
    "from path import Path\n",
    "import plotly.express as px"
   ]
  },
  {
   "cell_type": "markdown",
   "metadata": {},
   "source": [
    "### Fetching Cryptocurrency Data"
   ]
  },
  {
   "cell_type": "code",
   "execution_count": 7,
   "metadata": {},
   "outputs": [],
   "source": [
    "# Use the following endpoint to fetch json data\n",
    "url = \"https://min-api.cryptocompare.com/data/all/coinlist\"\n",
    "json_request = Request(url)\n",
    "json_response = urlopen(json_request)\n",
    "data = json_response.read()\n",
    "json_data = json.loads(data)"
   ]
  },
  {
   "cell_type": "code",
   "execution_count": 8,
   "metadata": {},
   "outputs": [
    {
     "output_type": "execute_result",
     "data": {
      "text/plain": [
       "         Id                  Url                         ImageUrl  \\\n",
       "42     4321   /coins/42/overview           /media/35650717/42.jpg   \n",
       "300  749869  /coins/300/overview          /media/27010595/300.png   \n",
       "365   33639  /coins/365/overview            /media/352070/365.png   \n",
       "404   21227  /coins/404/overview  /media/35650851/404-300x300.jpg   \n",
       "433  926547  /coins/433/overview          /media/34836095/433.png   \n",
       "\n",
       "    ContentCreatedOn Name Symbol   CoinName         FullName  \\\n",
       "42        1427211129   42     42    42 Coin     42 Coin (42)   \n",
       "300       1517935016  300    300  300 token  300 token (300)   \n",
       "365       1480032918  365    365    365Coin    365Coin (365)   \n",
       "404       1466100361  404    404    404Coin    404Coin (404)   \n",
       "433       1541597321  433    433  433 Token  433 Token (433)   \n",
       "\n",
       "                                           Description AssetTokenStatus  ...  \\\n",
       "42   Everything about 42 coin is 42 - apart from th...              N/A  ...   \n",
       "300  300 token is an ERC20 token. This Token was cr...              N/A  ...   \n",
       "365  365Coin is a Proof of Work and Proof of Stake ...              N/A  ...   \n",
       "404  404 is a PoW/PoS hybrid cryptocurrency that al...              N/A  ...   \n",
       "433  433 Token is a decentralised soccer platform t...         Finished  ...   \n",
       "\n",
       "    AssetLaunchDate MaxSupply MktCapPenalty PlatformType BuiltOn  \\\n",
       "42       0000-00-00         0             0          NaN     NaN   \n",
       "300      2017-07-01       300             0        token     ETH   \n",
       "365      0000-00-00         0             0          NaN     NaN   \n",
       "404      0000-00-00         0             0          NaN     NaN   \n",
       "433             NaN       NaN           NaN          NaN     NaN   \n",
       "\n",
       "                           SmartContractAddress DecimalPoints Difficulty  \\\n",
       "42                                          NaN           NaN        NaN   \n",
       "300  0xaec98a708810414878c3bcdf46aad31ded4a4557            18        NaN   \n",
       "365                                         NaN           NaN        NaN   \n",
       "404                                         NaN           NaN        NaN   \n",
       "433                                         NaN           NaN        NaN   \n",
       "\n",
       "    IsUsedInDefi IsUsedInNft  \n",
       "42           NaN         NaN  \n",
       "300          NaN         NaN  \n",
       "365          NaN         NaN  \n",
       "404          NaN         NaN  \n",
       "433          NaN         NaN  \n",
       "\n",
       "[5 rows x 32 columns]"
      ],
      "text/html": "<div>\n<style scoped>\n    .dataframe tbody tr th:only-of-type {\n        vertical-align: middle;\n    }\n\n    .dataframe tbody tr th {\n        vertical-align: top;\n    }\n\n    .dataframe thead th {\n        text-align: right;\n    }\n</style>\n<table border=\"1\" class=\"dataframe\">\n  <thead>\n    <tr style=\"text-align: right;\">\n      <th></th>\n      <th>Id</th>\n      <th>Url</th>\n      <th>ImageUrl</th>\n      <th>ContentCreatedOn</th>\n      <th>Name</th>\n      <th>Symbol</th>\n      <th>CoinName</th>\n      <th>FullName</th>\n      <th>Description</th>\n      <th>AssetTokenStatus</th>\n      <th>...</th>\n      <th>AssetLaunchDate</th>\n      <th>MaxSupply</th>\n      <th>MktCapPenalty</th>\n      <th>PlatformType</th>\n      <th>BuiltOn</th>\n      <th>SmartContractAddress</th>\n      <th>DecimalPoints</th>\n      <th>Difficulty</th>\n      <th>IsUsedInDefi</th>\n      <th>IsUsedInNft</th>\n    </tr>\n  </thead>\n  <tbody>\n    <tr>\n      <th>42</th>\n      <td>4321</td>\n      <td>/coins/42/overview</td>\n      <td>/media/35650717/42.jpg</td>\n      <td>1427211129</td>\n      <td>42</td>\n      <td>42</td>\n      <td>42 Coin</td>\n      <td>42 Coin (42)</td>\n      <td>Everything about 42 coin is 42 - apart from th...</td>\n      <td>N/A</td>\n      <td>...</td>\n      <td>0000-00-00</td>\n      <td>0</td>\n      <td>0</td>\n      <td>NaN</td>\n      <td>NaN</td>\n      <td>NaN</td>\n      <td>NaN</td>\n      <td>NaN</td>\n      <td>NaN</td>\n      <td>NaN</td>\n    </tr>\n    <tr>\n      <th>300</th>\n      <td>749869</td>\n      <td>/coins/300/overview</td>\n      <td>/media/27010595/300.png</td>\n      <td>1517935016</td>\n      <td>300</td>\n      <td>300</td>\n      <td>300 token</td>\n      <td>300 token (300)</td>\n      <td>300 token is an ERC20 token. This Token was cr...</td>\n      <td>N/A</td>\n      <td>...</td>\n      <td>2017-07-01</td>\n      <td>300</td>\n      <td>0</td>\n      <td>token</td>\n      <td>ETH</td>\n      <td>0xaec98a708810414878c3bcdf46aad31ded4a4557</td>\n      <td>18</td>\n      <td>NaN</td>\n      <td>NaN</td>\n      <td>NaN</td>\n    </tr>\n    <tr>\n      <th>365</th>\n      <td>33639</td>\n      <td>/coins/365/overview</td>\n      <td>/media/352070/365.png</td>\n      <td>1480032918</td>\n      <td>365</td>\n      <td>365</td>\n      <td>365Coin</td>\n      <td>365Coin (365)</td>\n      <td>365Coin is a Proof of Work and Proof of Stake ...</td>\n      <td>N/A</td>\n      <td>...</td>\n      <td>0000-00-00</td>\n      <td>0</td>\n      <td>0</td>\n      <td>NaN</td>\n      <td>NaN</td>\n      <td>NaN</td>\n      <td>NaN</td>\n      <td>NaN</td>\n      <td>NaN</td>\n      <td>NaN</td>\n    </tr>\n    <tr>\n      <th>404</th>\n      <td>21227</td>\n      <td>/coins/404/overview</td>\n      <td>/media/35650851/404-300x300.jpg</td>\n      <td>1466100361</td>\n      <td>404</td>\n      <td>404</td>\n      <td>404Coin</td>\n      <td>404Coin (404)</td>\n      <td>404 is a PoW/PoS hybrid cryptocurrency that al...</td>\n      <td>N/A</td>\n      <td>...</td>\n      <td>0000-00-00</td>\n      <td>0</td>\n      <td>0</td>\n      <td>NaN</td>\n      <td>NaN</td>\n      <td>NaN</td>\n      <td>NaN</td>\n      <td>NaN</td>\n      <td>NaN</td>\n      <td>NaN</td>\n    </tr>\n    <tr>\n      <th>433</th>\n      <td>926547</td>\n      <td>/coins/433/overview</td>\n      <td>/media/34836095/433.png</td>\n      <td>1541597321</td>\n      <td>433</td>\n      <td>433</td>\n      <td>433 Token</td>\n      <td>433 Token (433)</td>\n      <td>433 Token is a decentralised soccer platform t...</td>\n      <td>Finished</td>\n      <td>...</td>\n      <td>NaN</td>\n      <td>NaN</td>\n      <td>NaN</td>\n      <td>NaN</td>\n      <td>NaN</td>\n      <td>NaN</td>\n      <td>NaN</td>\n      <td>NaN</td>\n      <td>NaN</td>\n      <td>NaN</td>\n    </tr>\n  </tbody>\n</table>\n<p>5 rows × 32 columns</p>\n</div>"
     },
     "metadata": {},
     "execution_count": 8
    }
   ],
   "source": [
    "# Create a DataFrame \n",
    "# HINT: You will need to use the 'Data' key from the json response, then transpose the DataFrame.\n",
    "api_crypto_df = pd.DataFrame(json_data['Data']).T\n",
    "api_crypto_df.head()\n"
   ]
  },
  {
   "cell_type": "code",
   "execution_count": 11,
   "metadata": {},
   "outputs": [
    {
     "output_type": "execute_result",
     "data": {
      "text/plain": [
       "  Unnamed: 0   CoinName Algorithm  IsTrading ProofType  TotalCoinsMined  \\\n",
       "0         42    42 Coin    Scrypt       True   PoW/PoS     4.199995e+01   \n",
       "1        365    365Coin       X11       True   PoW/PoS              NaN   \n",
       "2        404    404Coin    Scrypt       True   PoW/PoS     1.055185e+09   \n",
       "3        611  SixEleven   SHA-256       True       PoW              NaN   \n",
       "4        808        808   SHA-256       True   PoW/PoS     0.000000e+00   \n",
       "\n",
       "  TotalCoinSupply  \n",
       "0              42  \n",
       "1      2300000000  \n",
       "2       532000000  \n",
       "3          611000  \n",
       "4               0  "
      ],
      "text/html": "<div>\n<style scoped>\n    .dataframe tbody tr th:only-of-type {\n        vertical-align: middle;\n    }\n\n    .dataframe tbody tr th {\n        vertical-align: top;\n    }\n\n    .dataframe thead th {\n        text-align: right;\n    }\n</style>\n<table border=\"1\" class=\"dataframe\">\n  <thead>\n    <tr style=\"text-align: right;\">\n      <th></th>\n      <th>Unnamed: 0</th>\n      <th>CoinName</th>\n      <th>Algorithm</th>\n      <th>IsTrading</th>\n      <th>ProofType</th>\n      <th>TotalCoinsMined</th>\n      <th>TotalCoinSupply</th>\n    </tr>\n  </thead>\n  <tbody>\n    <tr>\n      <th>0</th>\n      <td>42</td>\n      <td>42 Coin</td>\n      <td>Scrypt</td>\n      <td>True</td>\n      <td>PoW/PoS</td>\n      <td>4.199995e+01</td>\n      <td>42</td>\n    </tr>\n    <tr>\n      <th>1</th>\n      <td>365</td>\n      <td>365Coin</td>\n      <td>X11</td>\n      <td>True</td>\n      <td>PoW/PoS</td>\n      <td>NaN</td>\n      <td>2300000000</td>\n    </tr>\n    <tr>\n      <th>2</th>\n      <td>404</td>\n      <td>404Coin</td>\n      <td>Scrypt</td>\n      <td>True</td>\n      <td>PoW/PoS</td>\n      <td>1.055185e+09</td>\n      <td>532000000</td>\n    </tr>\n    <tr>\n      <th>3</th>\n      <td>611</td>\n      <td>SixEleven</td>\n      <td>SHA-256</td>\n      <td>True</td>\n      <td>PoW</td>\n      <td>NaN</td>\n      <td>611000</td>\n    </tr>\n    <tr>\n      <th>4</th>\n      <td>808</td>\n      <td>808</td>\n      <td>SHA-256</td>\n      <td>True</td>\n      <td>PoW/PoS</td>\n      <td>0.000000e+00</td>\n      <td>0</td>\n    </tr>\n  </tbody>\n</table>\n</div>"
     },
     "metadata": {},
     "execution_count": 11
    }
   ],
   "source": [
    "# Alternatively, use the provided csv file:\n",
    "file_path = Path(\"/Users/Jimmy/Dropbox/rice-hou-fin-pt-12-2020-u-c copy/2_Homeworks/13-AWS-Lex/Instructions/Starter_Files/Resources/crypto_data.csv\")\n",
    "df_crypto = pd.read_csv(file_path)\n",
    "df_crypto.head()\n",
    "# file_path = Path(\"Resources/crypto_data.csv\")\n",
    "\n",
    "# Create a DataFrame\n",
    "df_crypto = pd.DataFrame(df_crypto) \n",
    "df_crypto.head()"
   ]
  },
  {
   "cell_type": "markdown",
   "metadata": {},
   "source": [
    "### Data Preprocessing"
   ]
  },
  {
   "cell_type": "code",
   "execution_count": 12,
   "metadata": {},
   "outputs": [
    {
     "output_type": "execute_result",
     "data": {
      "text/plain": [
       "    CoinName Algorithm  IsTrading ProofType  TotalCoinsMined TotalCoinSupply\n",
       "0    42 Coin    Scrypt       True   PoW/PoS     4.199995e+01              42\n",
       "1    365Coin       X11       True   PoW/PoS              NaN      2300000000\n",
       "2    404Coin    Scrypt       True   PoW/PoS     1.055185e+09       532000000\n",
       "3  SixEleven   SHA-256       True       PoW              NaN          611000\n",
       "4        808   SHA-256       True   PoW/PoS     0.000000e+00               0"
      ],
      "text/html": "<div>\n<style scoped>\n    .dataframe tbody tr th:only-of-type {\n        vertical-align: middle;\n    }\n\n    .dataframe tbody tr th {\n        vertical-align: top;\n    }\n\n    .dataframe thead th {\n        text-align: right;\n    }\n</style>\n<table border=\"1\" class=\"dataframe\">\n  <thead>\n    <tr style=\"text-align: right;\">\n      <th></th>\n      <th>CoinName</th>\n      <th>Algorithm</th>\n      <th>IsTrading</th>\n      <th>ProofType</th>\n      <th>TotalCoinsMined</th>\n      <th>TotalCoinSupply</th>\n    </tr>\n  </thead>\n  <tbody>\n    <tr>\n      <th>0</th>\n      <td>42 Coin</td>\n      <td>Scrypt</td>\n      <td>True</td>\n      <td>PoW/PoS</td>\n      <td>4.199995e+01</td>\n      <td>42</td>\n    </tr>\n    <tr>\n      <th>1</th>\n      <td>365Coin</td>\n      <td>X11</td>\n      <td>True</td>\n      <td>PoW/PoS</td>\n      <td>NaN</td>\n      <td>2300000000</td>\n    </tr>\n    <tr>\n      <th>2</th>\n      <td>404Coin</td>\n      <td>Scrypt</td>\n      <td>True</td>\n      <td>PoW/PoS</td>\n      <td>1.055185e+09</td>\n      <td>532000000</td>\n    </tr>\n    <tr>\n      <th>3</th>\n      <td>SixEleven</td>\n      <td>SHA-256</td>\n      <td>True</td>\n      <td>PoW</td>\n      <td>NaN</td>\n      <td>611000</td>\n    </tr>\n    <tr>\n      <th>4</th>\n      <td>808</td>\n      <td>SHA-256</td>\n      <td>True</td>\n      <td>PoW/PoS</td>\n      <td>0.000000e+00</td>\n      <td>0</td>\n    </tr>\n  </tbody>\n</table>\n</div>"
     },
     "metadata": {},
     "execution_count": 12
    }
   ],
   "source": [
    "# Keep only necessary columns:\n",
    "# 'CoinName','Algorithm','IsTrading','ProofType','TotalCoinsMined','TotalCoinSupply'\n",
    "df =df_crypto[['CoinName','Algorithm','IsTrading','ProofType','TotalCoinsMined','TotalCoinSupply']]\n",
    "df.head()"
   ]
  },
  {
   "cell_type": "code",
   "execution_count": 13,
   "metadata": {},
   "outputs": [],
   "source": [
    "# Keep only cryptocurrencies that are trading\n",
    "crypto_df = df.loc[df['IsTrading'] == True]"
   ]
  },
  {
   "cell_type": "code",
   "execution_count": 14,
   "metadata": {},
   "outputs": [],
   "source": [
    "# Keep only cryptocurrencies with a working algorithm\n",
    "crypto_df = crypto_df.loc[df_crypto['Algorithm'] != 'N/A']"
   ]
  },
  {
   "cell_type": "code",
   "execution_count": 15,
   "metadata": {},
   "outputs": [],
   "source": [
    "# Remove the \"IsTrading\" column\n",
    "crypto_df = crypto_df.drop(columns='IsTrading')"
   ]
  },
  {
   "cell_type": "code",
   "execution_count": 16,
   "metadata": {},
   "outputs": [],
   "source": [
    "# Remove rows with at least 1 null value\n",
    "crypto_df= crypto_df.dropna()"
   ]
  },
  {
   "cell_type": "code",
   "execution_count": 17,
   "metadata": {},
   "outputs": [],
   "source": [
    "# Remove rows with cryptocurrencies having no coins mined\n",
    "crypto_df = crypto_df.loc[crypto_df['TotalCoinsMined'] != 0]"
   ]
  },
  {
   "cell_type": "code",
   "execution_count": 18,
   "metadata": {},
   "outputs": [],
   "source": [
    "# Drop rows where there are 'N/A' text values\n",
    "crypto_df = crypto_df.loc[crypto_df['TotalCoinSupply'] != 'N/A']\n",
    "crypto_df = crypto_df.loc[crypto_df['ProofType'] != 'N/A']\n"
   ]
  },
  {
   "cell_type": "code",
   "execution_count": 20,
   "metadata": {},
   "outputs": [
    {
     "output_type": "execute_result",
     "data": {
      "text/plain": [
       "    CoinName Algorithm ProofType  TotalCoinsMined TotalCoinSupply\n",
       "0    42 Coin    Scrypt   PoW/PoS     4.199995e+01              42\n",
       "2    404Coin    Scrypt   PoW/PoS     1.055185e+09       532000000\n",
       "5  EliteCoin       X13   PoW/PoS     2.927942e+10    314159265359\n",
       "7    Bitcoin   SHA-256       PoW     1.792718e+07        21000000\n",
       "8   Ethereum    Ethash       PoW     1.076842e+08               0"
      ],
      "text/html": "<div>\n<style scoped>\n    .dataframe tbody tr th:only-of-type {\n        vertical-align: middle;\n    }\n\n    .dataframe tbody tr th {\n        vertical-align: top;\n    }\n\n    .dataframe thead th {\n        text-align: right;\n    }\n</style>\n<table border=\"1\" class=\"dataframe\">\n  <thead>\n    <tr style=\"text-align: right;\">\n      <th></th>\n      <th>CoinName</th>\n      <th>Algorithm</th>\n      <th>ProofType</th>\n      <th>TotalCoinsMined</th>\n      <th>TotalCoinSupply</th>\n    </tr>\n  </thead>\n  <tbody>\n    <tr>\n      <th>0</th>\n      <td>42 Coin</td>\n      <td>Scrypt</td>\n      <td>PoW/PoS</td>\n      <td>4.199995e+01</td>\n      <td>42</td>\n    </tr>\n    <tr>\n      <th>2</th>\n      <td>404Coin</td>\n      <td>Scrypt</td>\n      <td>PoW/PoS</td>\n      <td>1.055185e+09</td>\n      <td>532000000</td>\n    </tr>\n    <tr>\n      <th>5</th>\n      <td>EliteCoin</td>\n      <td>X13</td>\n      <td>PoW/PoS</td>\n      <td>2.927942e+10</td>\n      <td>314159265359</td>\n    </tr>\n    <tr>\n      <th>7</th>\n      <td>Bitcoin</td>\n      <td>SHA-256</td>\n      <td>PoW</td>\n      <td>1.792718e+07</td>\n      <td>21000000</td>\n    </tr>\n    <tr>\n      <th>8</th>\n      <td>Ethereum</td>\n      <td>Ethash</td>\n      <td>PoW</td>\n      <td>1.076842e+08</td>\n      <td>0</td>\n    </tr>\n  </tbody>\n</table>\n</div>"
     },
     "metadata": {},
     "execution_count": 20
    }
   ],
   "source": [
    "# Store the 'CoinName'column in its own DataFrame prior to dropping it from crypto_df\n",
    "names = crypto_df\n",
    "crypto_df.head()"
   ]
  },
  {
   "cell_type": "code",
   "execution_count": 21,
   "metadata": {},
   "outputs": [],
   "source": [
    "# Drop the 'CoinName' column since it's not going to be used on the clustering algorithm\n",
    "crypto_df = crypto_df.drop(columns='CoinName')\n",
    "\n"
   ]
  },
  {
   "cell_type": "code",
   "execution_count": 23,
   "metadata": {},
   "outputs": [],
   "source": [
    "# Create dummy variables for text features\n",
    "crypto_encoded = pd.get_dummies(data=crypto_df, columns=['Algorithm', 'ProofType' ])"
   ]
  },
  {
   "cell_type": "code",
   "execution_count": 24,
   "metadata": {},
   "outputs": [],
   "source": [
    "# Standardize data\n",
    "crypto_df_scaled = StandardScaler().fit_transform(crypto_encoded)"
   ]
  },
  {
   "cell_type": "markdown",
   "metadata": {},
   "source": [
    "### Reducing Dimensions Using PCA"
   ]
  },
  {
   "cell_type": "code",
   "execution_count": 25,
   "metadata": {},
   "outputs": [],
   "source": [
    "# Use PCA to reduce dimensions to 3 principal components\n",
    "pca = PCA(n_components=3)\n",
    "crypto_pca = pca.fit_transform(crypto_df_scaled)"
   ]
  },
  {
   "cell_type": "code",
   "execution_count": 26,
   "metadata": {},
   "outputs": [
    {
     "output_type": "execute_result",
     "data": {
      "text/plain": [
       "       PC 1      PC 2      PC 3\n",
       "0 -0.326659  0.978550 -0.622080\n",
       "2 -0.309975  0.978662 -0.622456\n",
       "5  2.310757  1.651394 -0.730346\n",
       "7 -0.146255 -1.259505  0.196369\n",
       "8 -0.159401 -1.985125  0.376481"
      ],
      "text/html": "<div>\n<style scoped>\n    .dataframe tbody tr th:only-of-type {\n        vertical-align: middle;\n    }\n\n    .dataframe tbody tr th {\n        vertical-align: top;\n    }\n\n    .dataframe thead th {\n        text-align: right;\n    }\n</style>\n<table border=\"1\" class=\"dataframe\">\n  <thead>\n    <tr style=\"text-align: right;\">\n      <th></th>\n      <th>PC 1</th>\n      <th>PC 2</th>\n      <th>PC 3</th>\n    </tr>\n  </thead>\n  <tbody>\n    <tr>\n      <th>0</th>\n      <td>-0.326659</td>\n      <td>0.978550</td>\n      <td>-0.622080</td>\n    </tr>\n    <tr>\n      <th>2</th>\n      <td>-0.309975</td>\n      <td>0.978662</td>\n      <td>-0.622456</td>\n    </tr>\n    <tr>\n      <th>5</th>\n      <td>2.310757</td>\n      <td>1.651394</td>\n      <td>-0.730346</td>\n    </tr>\n    <tr>\n      <th>7</th>\n      <td>-0.146255</td>\n      <td>-1.259505</td>\n      <td>0.196369</td>\n    </tr>\n    <tr>\n      <th>8</th>\n      <td>-0.159401</td>\n      <td>-1.985125</td>\n      <td>0.376481</td>\n    </tr>\n  </tbody>\n</table>\n</div>"
     },
     "metadata": {},
     "execution_count": 26
    }
   ],
   "source": [
    "# Create a DataFrame with the principal components data\n",
    "pca_df = pd.DataFrame(\n",
    "    data=crypto_pca, columns=[\"PC 1\", \"PC 2\", \"PC 3\"], index=crypto_df.index\n",
    ")\n",
    "pca_df.head()"
   ]
  },
  {
   "cell_type": "markdown",
   "metadata": {},
   "source": [
    "### Clustering Crytocurrencies Using K-Means\n",
    "\n",
    "#### Find the Best Value for `k` Using the Elbow Curve"
   ]
  },
  {
   "cell_type": "code",
   "execution_count": 27,
   "metadata": {},
   "outputs": [
    {
     "output_type": "display_data",
     "data": {},
     "metadata": {}
    },
    {
     "output_type": "execute_result",
     "data": {
      "text/html": "<div id='1001'>\n\n\n\n\n\n  <div class=\"bk-root\" id=\"783d958d-fc17-45e5-a384-0c23a26313cd\" data-root-id=\"1001\"></div>\n</div>\n<script type=\"application/javascript\">(function(root) {\n  function embed_document(root) {\n    var docs_json = {\"4215787a-6c80-407b-9d85-7d6f5def292f\":{\"roots\":{\"references\":[{\"attributes\":{\"line_alpha\":0.2,\"line_color\":\"#30a2da\",\"line_width\":2,\"x\":{\"field\":\"k\"},\"y\":{\"field\":\"inertia\"}},\"id\":\"1041\",\"type\":\"Line\"},{\"attributes\":{},\"id\":\"1037\",\"type\":\"Selection\"},{\"attributes\":{\"ticks\":[1,2,3,4,5,6,7,8,9,10]},\"id\":\"1044\",\"type\":\"FixedTicker\"},{\"attributes\":{\"source\":{\"id\":\"1036\"}},\"id\":\"1043\",\"type\":\"CDSView\"},{\"attributes\":{\"below\":[{\"id\":\"1015\"}],\"center\":[{\"id\":\"1018\"},{\"id\":\"1022\"}],\"left\":[{\"id\":\"1019\"}],\"margin\":[5,5,5,5],\"min_border_bottom\":10,\"min_border_left\":10,\"min_border_right\":10,\"min_border_top\":10,\"plot_height\":300,\"plot_width\":700,\"renderers\":[{\"id\":\"1042\"}],\"sizing_mode\":\"fixed\",\"title\":{\"id\":\"1007\"},\"toolbar\":{\"id\":\"1029\"},\"x_range\":{\"id\":\"1003\"},\"x_scale\":{\"id\":\"1011\"},\"y_range\":{\"id\":\"1004\"},\"y_scale\":{\"id\":\"1013\"}},\"id\":\"1006\",\"subtype\":\"Figure\",\"type\":\"Plot\"},{\"attributes\":{\"line_alpha\":0.1,\"line_color\":\"#30a2da\",\"line_width\":2,\"x\":{\"field\":\"k\"},\"y\":{\"field\":\"inertia\"}},\"id\":\"1040\",\"type\":\"Line\"},{\"attributes\":{},\"id\":\"1023\",\"type\":\"SaveTool\"},{\"attributes\":{\"callback\":null,\"renderers\":[{\"id\":\"1042\"}],\"tags\":[\"hv_created\"],\"tooltips\":[[\"k\",\"@{k}\"],[\"inertia\",\"@{inertia}\"]]},\"id\":\"1005\",\"type\":\"HoverTool\"},{\"attributes\":{},\"id\":\"1011\",\"type\":\"LinearScale\"},{\"attributes\":{},\"id\":\"1024\",\"type\":\"PanTool\"},{\"attributes\":{},\"id\":\"1025\",\"type\":\"WheelZoomTool\"},{\"attributes\":{},\"id\":\"1057\",\"type\":\"UnionRenderers\"},{\"attributes\":{\"overlay\":{\"id\":\"1028\"}},\"id\":\"1026\",\"type\":\"BoxZoomTool\"},{\"attributes\":{},\"id\":\"1045\",\"type\":\"BasicTickFormatter\"},{\"attributes\":{\"axis\":{\"id\":\"1019\"},\"dimension\":1,\"grid_line_color\":null,\"ticker\":null},\"id\":\"1022\",\"type\":\"Grid\"},{\"attributes\":{\"end\":4000.8602467014393,\"reset_end\":4000.8602467014393,\"reset_start\":-248.3397010258679,\"start\":-248.3397010258679,\"tags\":[[[\"inertia\",\"inertia\",null]]]},\"id\":\"1004\",\"type\":\"Range1d\"},{\"attributes\":{\"axis_label\":\"k\",\"bounds\":\"auto\",\"formatter\":{\"id\":\"1045\"},\"major_label_orientation\":\"horizontal\",\"ticker\":{\"id\":\"1044\"}},\"id\":\"1015\",\"type\":\"LinearAxis\"},{\"attributes\":{},\"id\":\"1027\",\"type\":\"ResetTool\"},{\"attributes\":{},\"id\":\"1049\",\"type\":\"BasicTickFormatter\"},{\"attributes\":{\"margin\":[5,5,5,5],\"name\":\"HSpacer01538\",\"sizing_mode\":\"stretch_width\"},\"id\":\"1065\",\"type\":\"Spacer\"},{\"attributes\":{\"data_source\":{\"id\":\"1036\"},\"glyph\":{\"id\":\"1039\"},\"hover_glyph\":null,\"muted_glyph\":{\"id\":\"1041\"},\"nonselection_glyph\":{\"id\":\"1040\"},\"selection_glyph\":null,\"view\":{\"id\":\"1043\"}},\"id\":\"1042\",\"type\":\"GlyphRenderer\"},{\"attributes\":{\"line_color\":\"#30a2da\",\"line_width\":2,\"x\":{\"field\":\"k\"},\"y\":{\"field\":\"inertia\"}},\"id\":\"1039\",\"type\":\"Line\"},{\"attributes\":{\"margin\":[5,5,5,5],\"name\":\"HSpacer01537\",\"sizing_mode\":\"stretch_width\"},\"id\":\"1002\",\"type\":\"Spacer\"},{\"attributes\":{},\"id\":\"1013\",\"type\":\"LinearScale\"},{\"attributes\":{\"text\":\"Elbow Curve\",\"text_color\":{\"value\":\"black\"},\"text_font_size\":{\"value\":\"12pt\"}},\"id\":\"1007\",\"type\":\"Title\"},{\"attributes\":{\"bottom_units\":\"screen\",\"fill_alpha\":0.5,\"fill_color\":\"lightgrey\",\"left_units\":\"screen\",\"level\":\"overlay\",\"line_alpha\":1.0,\"line_color\":\"black\",\"line_dash\":[4,4],\"line_width\":2,\"right_units\":\"screen\",\"top_units\":\"screen\"},\"id\":\"1028\",\"type\":\"BoxAnnotation\"},{\"attributes\":{\"active_drag\":\"auto\",\"active_inspect\":\"auto\",\"active_multi\":null,\"active_scroll\":\"auto\",\"active_tap\":\"auto\",\"tools\":[{\"id\":\"1005\"},{\"id\":\"1023\"},{\"id\":\"1024\"},{\"id\":\"1025\"},{\"id\":\"1026\"},{\"id\":\"1027\"}]},\"id\":\"1029\",\"type\":\"Toolbar\"},{\"attributes\":{\"axis\":{\"id\":\"1015\"},\"grid_line_color\":null,\"ticker\":null},\"id\":\"1018\",\"type\":\"Grid\"},{\"attributes\":{\"children\":[{\"id\":\"1002\"},{\"id\":\"1006\"},{\"id\":\"1065\"}],\"margin\":[0,0,0,0],\"name\":\"Row01533\",\"tags\":[\"embedded\"]},\"id\":\"1001\",\"type\":\"Row\"},{\"attributes\":{\"end\":10.0,\"reset_end\":10.0,\"reset_start\":1.0,\"start\":1.0,\"tags\":[[[\"k\",\"k\",null]]]},\"id\":\"1003\",\"type\":\"Range1d\"},{\"attributes\":{},\"id\":\"1020\",\"type\":\"BasicTicker\"},{\"attributes\":{\"axis_label\":\"inertia\",\"bounds\":\"auto\",\"formatter\":{\"id\":\"1049\"},\"major_label_orientation\":\"horizontal\",\"ticker\":{\"id\":\"1020\"}},\"id\":\"1019\",\"type\":\"LinearAxis\"},{\"attributes\":{\"data\":{\"inertia\":{\"__ndarray__\":\"ZmmgP4V9rEBA5Qx+Q1yjQMMryynVCZdAFbRQbnz5fkCerUvgAupzQJzf449wFHBAz353AWVgakAostpne9hlQOBWSWJmSWBAE/3BqqhwWkA=\",\"dtype\":\"float64\",\"order\":\"little\",\"shape\":[10]},\"k\":[1,2,3,4,5,6,7,8,9,10]},\"selected\":{\"id\":\"1037\"},\"selection_policy\":{\"id\":\"1057\"}},\"id\":\"1036\",\"type\":\"ColumnDataSource\"}],\"root_ids\":[\"1001\"]},\"title\":\"Bokeh Application\",\"version\":\"2.2.3\"}};\n    var render_items = [{\"docid\":\"4215787a-6c80-407b-9d85-7d6f5def292f\",\"root_ids\":[\"1001\"],\"roots\":{\"1001\":\"783d958d-fc17-45e5-a384-0c23a26313cd\"}}];\n    root.Bokeh.embed.embed_items_notebook(docs_json, render_items);\n  }\n  if (root.Bokeh !== undefined && root.Bokeh.Panel !== undefined) {\n    embed_document(root);\n  } else {\n    var attempts = 0;\n    var timer = setInterval(function(root) {\n      if (root.Bokeh !== undefined && root.Bokeh.Panel !== undefined) {\n        clearInterval(timer);\n        embed_document(root);\n      } else if (document.readyState == \"complete\") {\n        attempts++;\n        if (attempts > 100) {\n          clearInterval(timer);\n          console.log(\"Bokeh: ERROR: Unable to run BokehJS code because BokehJS library is missing\");\n        }\n      }\n    }, 10, root)\n  }\n})(window);</script>",
      "application/vnd.holoviews_exec.v0+json": "",
      "text/plain": [
       ":Curve   [k]   (inertia)"
      ]
     },
     "metadata": {
      "application/vnd.holoviews_exec.v0+json": {
       "id": "1001"
      }
     },
     "execution_count": 27
    }
   ],
   "source": [
    "inertia = []\n",
    "k = list(range(1, 11))\n",
    "\n",
    "# Calculate the inertia for the range of k values\n",
    "for i in k:\n",
    "    km = KMeans(n_clusters=i, random_state=0)\n",
    "    km.fit(pca_df )\n",
    "    inertia.append(km.inertia_)\n",
    "\n",
    "\n",
    "# Create the Elbow Curve using hvPlot\n",
    "elbow_data = {\"k\": k, \"inertia\": inertia}\n",
    "df_elbow = pd.DataFrame(elbow_data)\n",
    "df_elbow.hvplot.line(x=\"k\", y=\"inertia\", title=\"Elbow Curve\", xticks=k)"
   ]
  },
  {
   "cell_type": "markdown",
   "metadata": {},
   "source": [
    "Running K-Means with `k=<your best value for k here>`"
   ]
  },
  {
   "cell_type": "code",
   "execution_count": 28,
   "metadata": {},
   "outputs": [
    {
     "output_type": "execute_result",
     "data": {
      "text/plain": [
       "    CoinName Algorithm ProofType  TotalCoinsMined TotalCoinSupply      PC 1  \\\n",
       "0    42 Coin    Scrypt   PoW/PoS     4.199995e+01              42 -0.326659   \n",
       "2    404Coin    Scrypt   PoW/PoS     1.055185e+09       532000000 -0.309975   \n",
       "5  EliteCoin       X13   PoW/PoS     2.927942e+10    314159265359  2.310757   \n",
       "7    Bitcoin   SHA-256       PoW     1.792718e+07        21000000 -0.146255   \n",
       "8   Ethereum    Ethash       PoW     1.076842e+08               0 -0.159401   \n",
       "\n",
       "       PC 2      PC 3  Class  Predictions  \n",
       "0  0.978550 -0.622080      2            2  \n",
       "2  0.978662 -0.622456      2            2  \n",
       "5  1.651394 -0.730346      4            4  \n",
       "7 -1.259505  0.196369      0            0  \n",
       "8 -1.985125  0.376481      5            5  "
      ],
      "text/html": "<div>\n<style scoped>\n    .dataframe tbody tr th:only-of-type {\n        vertical-align: middle;\n    }\n\n    .dataframe tbody tr th {\n        vertical-align: top;\n    }\n\n    .dataframe thead th {\n        text-align: right;\n    }\n</style>\n<table border=\"1\" class=\"dataframe\">\n  <thead>\n    <tr style=\"text-align: right;\">\n      <th></th>\n      <th>CoinName</th>\n      <th>Algorithm</th>\n      <th>ProofType</th>\n      <th>TotalCoinsMined</th>\n      <th>TotalCoinSupply</th>\n      <th>PC 1</th>\n      <th>PC 2</th>\n      <th>PC 3</th>\n      <th>Class</th>\n      <th>Predictions</th>\n    </tr>\n  </thead>\n  <tbody>\n    <tr>\n      <th>0</th>\n      <td>42 Coin</td>\n      <td>Scrypt</td>\n      <td>PoW/PoS</td>\n      <td>4.199995e+01</td>\n      <td>42</td>\n      <td>-0.326659</td>\n      <td>0.978550</td>\n      <td>-0.622080</td>\n      <td>2</td>\n      <td>2</td>\n    </tr>\n    <tr>\n      <th>2</th>\n      <td>404Coin</td>\n      <td>Scrypt</td>\n      <td>PoW/PoS</td>\n      <td>1.055185e+09</td>\n      <td>532000000</td>\n      <td>-0.309975</td>\n      <td>0.978662</td>\n      <td>-0.622456</td>\n      <td>2</td>\n      <td>2</td>\n    </tr>\n    <tr>\n      <th>5</th>\n      <td>EliteCoin</td>\n      <td>X13</td>\n      <td>PoW/PoS</td>\n      <td>2.927942e+10</td>\n      <td>314159265359</td>\n      <td>2.310757</td>\n      <td>1.651394</td>\n      <td>-0.730346</td>\n      <td>4</td>\n      <td>4</td>\n    </tr>\n    <tr>\n      <th>7</th>\n      <td>Bitcoin</td>\n      <td>SHA-256</td>\n      <td>PoW</td>\n      <td>1.792718e+07</td>\n      <td>21000000</td>\n      <td>-0.146255</td>\n      <td>-1.259505</td>\n      <td>0.196369</td>\n      <td>0</td>\n      <td>0</td>\n    </tr>\n    <tr>\n      <th>8</th>\n      <td>Ethereum</td>\n      <td>Ethash</td>\n      <td>PoW</td>\n      <td>1.076842e+08</td>\n      <td>0</td>\n      <td>-0.159401</td>\n      <td>-1.985125</td>\n      <td>0.376481</td>\n      <td>5</td>\n      <td>5</td>\n    </tr>\n  </tbody>\n</table>\n</div>"
     },
     "metadata": {},
     "execution_count": 28
    }
   ],
   "source": [
    "# Initialize the K-Means model\n",
    "kmodel = KMeans(n_clusters=6, random_state=0)\n",
    "# Fit the model\n",
    "kmodel.fit(pca_df)\n",
    "# Predict clusters\n",
    "predictions = kmodel.predict(pca_df)\n",
    "# Create a new DataFrame including predicted clusters and cryptocurrencies features\n",
    "clustered_df = pd.DataFrame({\n",
    "    \"CoinName\": names.CoinName,\n",
    "    \"Algorithm\": crypto_df.Algorithm,\n",
    "    \"ProofType\": crypto_df.ProofType,\n",
    "    \"TotalCoinsMined\": crypto_df.TotalCoinsMined,\n",
    "    \"TotalCoinSupply\": crypto_df.TotalCoinSupply,\n",
    "    \"PC 1\": pca_df['PC 1'],\n",
    "    \"PC 2\": pca_df['PC 2'],\n",
    "    \"PC 3\": pca_df['PC 3'],\n",
    "    \"Class\": kmodel.labels_,\n",
    "    \"Predictions\": predictions, \n",
    "    },\n",
    ")\n",
    "clustered_df.head()"
   ]
  },
  {
   "cell_type": "markdown",
   "metadata": {},
   "source": [
    "### Visualizing Results\n",
    "\n",
    "#### 3D-Scatter with Clusters"
   ]
  },
  {
   "cell_type": "code",
   "execution_count": 29,
   "metadata": {},
   "outputs": [
    {
     "output_type": "display_data",
     "data": {
      "application/vnd.plotly.v1+json": {
       "config": {
        "plotlyServerURL": "https://plot.ly"
       },
       "data": [
        {
         "customdata": [
          [
           "Scrypt"
          ],
          [
           "Scrypt"
          ],
          [
           "X11"
          ],
          [
           "SHA-512"
          ],
          [
           "SHA-256"
          ],
          [
           "SHA-256"
          ],
          [
           "X15"
          ],
          [
           "Scrypt"
          ],
          [
           "Scrypt"
          ],
          [
           "Scrypt"
          ],
          [
           "Scrypt"
          ],
          [
           "Scrypt"
          ],
          [
           "Scrypt"
          ],
          [
           "Groestl"
          ],
          [
           "PoS"
          ],
          [
           "Scrypt"
          ],
          [
           "Scrypt"
          ],
          [
           "X11"
          ],
          [
           "X11"
          ],
          [
           "SHA3"
          ],
          [
           "Scrypt"
          ],
          [
           "SHA-256"
          ],
          [
           "Scrypt"
          ],
          [
           "X13"
          ],
          [
           "X13"
          ],
          [
           "NeoScrypt"
          ],
          [
           "Scrypt"
          ],
          [
           "Scrypt"
          ],
          [
           "Scrypt"
          ],
          [
           "X11"
          ],
          [
           "X11"
          ],
          [
           "Multiple"
          ],
          [
           "PHI1612"
          ],
          [
           "X11"
          ],
          [
           "Scrypt"
          ],
          [
           "Scrypt"
          ],
          [
           "Scrypt"
          ],
          [
           "X11"
          ],
          [
           "Multiple"
          ],
          [
           "X13"
          ],
          [
           "Scrypt"
          ],
          [
           "Shabal256"
          ],
          [
           "Counterparty"
          ],
          [
           "SHA-256"
          ],
          [
           "Groestl"
          ],
          [
           "Scrypt"
          ],
          [
           "X13"
          ],
          [
           "Scrypt"
          ],
          [
           "Scrypt"
          ],
          [
           "X13"
          ],
          [
           "X11"
          ],
          [
           "Scrypt"
          ],
          [
           "X11"
          ],
          [
           "SHA3"
          ],
          [
           "QUAIT"
          ],
          [
           "X11"
          ],
          [
           "Scrypt"
          ],
          [
           "X13"
          ],
          [
           "SHA-256"
          ],
          [
           "X15"
          ],
          [
           "BLAKE256"
          ],
          [
           "SHA-256"
          ],
          [
           "X11"
          ],
          [
           "SHA-256"
          ],
          [
           "NIST5"
          ],
          [
           "Scrypt"
          ],
          [
           "Scrypt"
          ],
          [
           "X11"
          ],
          [
           "Scrypt"
          ],
          [
           "SHA-256"
          ],
          [
           "Scrypt"
          ],
          [
           "PoS"
          ],
          [
           "X11"
          ],
          [
           "SHA-256"
          ],
          [
           "SHA-256"
          ],
          [
           "NIST5"
          ],
          [
           "X11"
          ],
          [
           "POS 3.0"
          ],
          [
           "Scrypt"
          ],
          [
           "Scrypt"
          ],
          [
           "Scrypt"
          ],
          [
           "X13"
          ],
          [
           "X11"
          ],
          [
           "X11"
          ],
          [
           "Scrypt"
          ],
          [
           "SHA-256"
          ],
          [
           "X11"
          ],
          [
           "Scrypt"
          ],
          [
           "Scrypt"
          ],
          [
           "Scrypt"
          ],
          [
           "Scrypt"
          ],
          [
           "SHA-256D"
          ],
          [
           "PoS"
          ],
          [
           "Scrypt"
          ],
          [
           "X11"
          ],
          [
           "PoS"
          ],
          [
           "X13"
          ],
          [
           "X14"
          ],
          [
           "PoS"
          ],
          [
           "SHA-256D"
          ],
          [
           "X11"
          ],
          [
           "X13"
          ],
          [
           "X11"
          ],
          [
           "PoS"
          ],
          [
           "Scrypt"
          ],
          [
           "Scrypt"
          ],
          [
           "PoS"
          ],
          [
           "X11"
          ],
          [
           "SHA-256"
          ],
          [
           "Scrypt"
          ],
          [
           "X11"
          ],
          [
           "Scrypt"
          ],
          [
           "Scrypt"
          ],
          [
           "X11"
          ],
          [
           "Scrypt"
          ],
          [
           "Scrypt"
          ],
          [
           "Scrypt"
          ],
          [
           "Scrypt"
          ],
          [
           "Quark"
          ],
          [
           "QuBit"
          ],
          [
           "Scrypt"
          ],
          [
           "SHA-256"
          ],
          [
           "X11"
          ],
          [
           "Scrypt"
          ],
          [
           "Scrypt"
          ],
          [
           "Scrypt"
          ],
          [
           "Scrypt"
          ],
          [
           "X13"
          ],
          [
           "Scrypt"
          ],
          [
           "Scrypt"
          ],
          [
           "X11"
          ],
          [
           "Blake2S"
          ],
          [
           "X11"
          ],
          [
           "PoS"
          ],
          [
           "X11"
          ],
          [
           "PoS"
          ],
          [
           "X11"
          ],
          [
           "Scrypt"
          ],
          [
           "Scrypt"
          ],
          [
           "Scrypt"
          ],
          [
           "SHA-256"
          ],
          [
           "X11"
          ],
          [
           "Scrypt"
          ],
          [
           "PoS"
          ],
          [
           "Scrypt"
          ],
          [
           "X15"
          ],
          [
           "SHA-256"
          ],
          [
           "POS 3.0"
          ],
          [
           "536"
          ],
          [
           "NIST5"
          ],
          [
           "NIST5"
          ],
          [
           "Skein"
          ],
          [
           "X13"
          ],
          [
           "Scrypt"
          ],
          [
           "X13"
          ],
          [
           "SkunkHash v2 Raptor"
          ],
          [
           "Skein"
          ],
          [
           "X11"
          ],
          [
           "Scrypt"
          ],
          [
           "PoS"
          ],
          [
           "Scrypt"
          ],
          [
           "Scrypt"
          ],
          [
           "SHA-512"
          ],
          [
           "Ouroboros"
          ],
          [
           "X11"
          ],
          [
           "NeoScrypt"
          ],
          [
           "Scrypt"
          ],
          [
           "Lyra2REv2"
          ],
          [
           "Scrypt"
          ],
          [
           "SHA-256"
          ],
          [
           "NIST5"
          ],
          [
           "PHI1612"
          ],
          [
           "Scrypt"
          ],
          [
           "Quark"
          ],
          [
           "POS 2.0"
          ],
          [
           "Scrypt"
          ],
          [
           "SHA-256"
          ],
          [
           "X11"
          ],
          [
           "NIST5"
          ],
          [
           "X13"
          ],
          [
           "Scrypt"
          ],
          [
           "NIST5"
          ],
          [
           "Quark"
          ],
          [
           "Scrypt"
          ],
          [
           "Scrypt"
          ],
          [
           "X11"
          ],
          [
           "Quark"
          ],
          [
           "Scrypt"
          ],
          [
           "Scrypt"
          ],
          [
           "X11"
          ],
          [
           "POS 3.0"
          ],
          [
           "Scrypt"
          ],
          [
           "Scrypt"
          ],
          [
           "X13"
          ],
          [
           "C11"
          ],
          [
           "X11"
          ],
          [
           "XEVAN"
          ],
          [
           "Scrypt"
          ],
          [
           "VBFT"
          ],
          [
           "NIST5"
          ],
          [
           "Scrypt"
          ],
          [
           "Scrypt"
          ],
          [
           "Scrypt"
          ],
          [
           "Green Protocol"
          ],
          [
           "PoS"
          ],
          [
           "Scrypt"
          ],
          [
           "Quark"
          ],
          [
           "PoS"
          ],
          [
           "X16R"
          ],
          [
           "Scrypt"
          ],
          [
           "XEVAN"
          ],
          [
           "Scrypt"
          ],
          [
           "Scrypt"
          ],
          [
           "Scrypt"
          ],
          [
           "SHA-256D"
          ],
          [
           "Scrypt"
          ],
          [
           "X15"
          ],
          [
           "Quark"
          ],
          [
           "SHA-256"
          ],
          [
           "DPoS"
          ],
          [
           "X16R"
          ],
          [
           "Quark"
          ],
          [
           "Quark"
          ],
          [
           "Scrypt"
          ],
          [
           "Lyra2REv2"
          ],
          [
           "Quark"
          ],
          [
           "Scrypt"
          ],
          [
           "X11"
          ],
          [
           "X11"
          ],
          [
           "Scrypt"
          ],
          [
           "PoS"
          ],
          [
           "Keccak"
          ],
          [
           "X11"
          ],
          [
           "Scrypt"
          ],
          [
           "SHA-512"
          ],
          [
           "XEVAN"
          ],
          [
           "X11"
          ],
          [
           "Quark"
          ],
          [
           "Scrypt"
          ],
          [
           "Quark"
          ],
          [
           "Quark"
          ],
          [
           "Scrypt"
          ],
          [
           "X11"
          ],
          [
           "Scrypt"
          ],
          [
           "XEVAN"
          ],
          [
           "SHA-256D"
          ],
          [
           "X11"
          ],
          [
           "X11"
          ],
          [
           "Scrypt"
          ],
          [
           "X11"
          ],
          [
           "Scrypt"
          ],
          [
           "Scrypt"
          ],
          [
           "SHA-256"
          ],
          [
           "Scrypt"
          ],
          [
           "X11"
          ],
          [
           "Scrypt"
          ],
          [
           "SHA-256"
          ],
          [
           "X11"
          ],
          [
           "Scrypt"
          ],
          [
           "Scrypt"
          ],
          [
           "X11"
          ],
          [
           "Scrypt"
          ],
          [
           "PoS"
          ],
          [
           "X11"
          ],
          [
           "SHA-256"
          ],
          [
           "Scrypt"
          ],
          [
           "Scrypt"
          ],
          [
           "NeoScrypt"
          ],
          [
           "X13"
          ],
          [
           "SHA-256"
          ],
          [
           "PoS"
          ],
          [
           "PoS"
          ],
          [
           "Scrypt"
          ],
          [
           "Scrypt"
          ]
         ],
         "hovertemplate": "<b>%{hovertext}</b><br><br>Class=%{marker.color}<br>PC 1=%{x}<br>PC 2=%{y}<br>PC 3=%{z}<br>Algorithm=%{customdata[0]}<extra></extra>",
         "hovertext": [
          "42 Coin",
          "404Coin",
          "Dash",
          "Bitshares",
          "BitcoinDark",
          "PayCoin",
          "KoboCoin",
          "Aurora Coin",
          "BlueCoin",
          "EnergyCoin",
          "BitBar",
          "CryptoBullion",
          "CasinoCoin",
          "Diamond",
          "Exclusive Coin",
          "FlutterCoin",
          "HoboNickels",
          "HyperStake",
          "IOCoin",
          "MaxCoin",
          "MintCoin",
          "MazaCoin",
          "Nautilus Coin",
          "NavCoin",
          "OpalCoin",
          "Orbitcoin",
          "PotCoin",
          "PhoenixCoin",
          "Reddcoin",
          "SuperCoin",
          "SyncCoin",
          "TeslaCoin",
          "TittieCoin",
          "TorCoin",
          "UnitaryStatus Dollar",
          "UltraCoin",
          "VeriCoin",
          "X11 Coin",
          "Crypti",
          "StealthCoin",
          "ZCC Coin",
          "BurstCoin",
          "StorjCoin",
          "Neutron",
          "FairCoin",
          "RubyCoin",
          "Kore",
          "Dnotes",
          "8BIT Coin",
          "Sativa Coin",
          "Ucoin",
          "Vtorrent",
          "IslaCoin",
          "Nexus",
          "Droidz",
          "Squall Coin",
          "Diggits",
          "Paycon",
          "Emercoin",
          "EverGreenCoin",
          "Decred",
          "EDRCoin",
          "Hitcoin",
          "DubaiCoin",
          "PWR Coin",
          "BillaryCoin",
          "GPU Coin",
          "EuropeCoin",
          "ZeitCoin",
          "SwingCoin",
          "SafeExchangeCoin",
          "Nebuchadnezzar",
          "Ratecoin",
          "Revenu",
          "Clockcoin",
          "VIP Tokens",
          "BitSend",
          "Let it Ride",
          "PutinCoin",
          "iBankCoin",
          "Frankywillcoin",
          "MudraCoin",
          "Lutetium Coin",
          "GoldBlocks",
          "CarterCoin",
          "BitTokens",
          "MustangCoin",
          "ZoneCoin",
          "RootCoin",
          "BitCurrency",
          "Swiscoin",
          "BuzzCoin",
          "Opair",
          "PesoBit",
          "Halloween Coin",
          "CoffeeCoin",
          "RoyalCoin",
          "GanjaCoin V2",
          "TeamUP",
          "LanaCoin",
          "InsaneCoin",
          "EmberCoin",
          "XenixCoin",
          "FreeCoin",
          "PLNCoin",
          "AquariusCoin",
          "Creatio",
          "Eternity",
          "Eurocoin",
          "BitcoinFast",
          "Stakenet",
          "BitConnect Coin",
          "MoneyCoin",
          "Enigma",
          "Russiacoin",
          "PandaCoin",
          "GameUnits",
          "GAKHcoin",
          "Allsafe",
          "LiteCreed",
          "Klingon Empire Darsek",
          "Internet of People",
          "KushCoin",
          "Printerium",
          "Impeach",
          "Zilbercoin",
          "FirstCoin",
          "FindCoin",
          "OpenChat",
          "RenosCoin",
          "VirtacoinPlus",
          "TajCoin",
          "Impact",
          "Atmos",
          "HappyCoin",
          "MacronCoin",
          "Condensate",
          "Independent Money System",
          "ArgusCoin",
          "LomoCoin",
          "ProCurrency",
          "GoldReserve",
          "GrowthCoin",
          "Phreak",
          "Degas Coin",
          "HTML5 Coin",
          "Ultimate Secure Cash",
          "QTUM",
          "Espers",
          "Denarius",
          "Virta Unique Coin",
          "Bitcoin Planet",
          "BritCoin",
          "Linda",
          "DeepOnion",
          "Signatum",
          "Cream",
          "Monoeci",
          "Draftcoin",
          "Stakecoin",
          "CoinonatX",
          "Ethereum Dark",
          "Obsidian",
          "Cardano",
          "Regalcoin",
          "TrezarCoin",
          "TerraNovaCoin",
          "Rupee",
          "WomenCoin",
          "Theresa May Coin",
          "NamoCoin",
          "LUXCoin",
          "Xios",
          "Bitcloud 2.0",
          "KekCoin",
          "BlackholeCoin",
          "Infinity Economics",
          "Magnet",
          "Electra",
          "Bitcoin Diamond",
          "Cash & Back Coin",
          "Bulwark",
          "Kalkulus",
          "GermanCoin",
          "LiteCoin Ultra",
          "PhantomX",
          "Digiwage",
          "Trollcoin",
          "Litecoin Plus",
          "Monkey Project",
          "TokenPay",
          "My Big Coin",
          "Unified Society USDEX",
          "Tokyo Coin",
          "Stipend",
          "Pushi",
          "Ellerium",
          "Velox",
          "Ontology",
          "Bitspace",
          "Briacoin",
          "Ignition",
          "MedicCoin",
          "Bitcoin Green",
          "Deviant Coin",
          "Abjcoin",
          "Carebit",
          "Zealium",
          "Proton",
          "iDealCash",
          "Bitcoin Incognito",
          "HollyWoodCoin",
          "Swisscoin",
          "Xt3ch",
          "TheVig",
          "EmaratCoin",
          "Dekado",
          "Poseidon Quark",
          "BitcoinWSpectrum",
          "Muse",
          "Trivechain",
          "Dystem",
          "Giant",
          "Peony Coin",
          "Absolute Coin",
          "Vitae",
          "TPCash",
          "ARENON",
          "EUNO",
          "MMOCoin",
          "Ketan",
          "XDNA",
          "PAXEX",
          "ThunderStake",
          "Kcash",
          "Bettex coin",
          "Junson Ming Chan Coin",
          "HerbCoin",
          "Oduwa",
          "Galilel",
          "Crypto Sports",
          "Credit",
          "Dash Platinum",
          "Nasdacoin",
          "Beetle Coin",
          "Titan Coin",
          "Award",
          "Insane Coin",
          "LiteDoge",
          "TruckCoin",
          "OrangeCoin",
          "BitstarCoin",
          "NeosCoin",
          "HyperCoin",
          "PinkCoin",
          "AudioCoin",
          "IncaKoin",
          "Piggy Coin",
          "Genstake",
          "XiaoMiCoin",
          "CapriCoin",
          " ClubCoin",
          "Radium",
          "Creditbit ",
          "OKCash",
          "HiCoin",
          "WhiteCoin",
          "FriendshipCoin",
          "Triangles Coin",
          "TigerCash",
          "Particl",
          "Nxt",
          "Gapcoin",
          "BitcoinPlus"
         ],
         "legendgroup": "2",
         "marker": {
          "color": [
           2,
           2,
           2,
           2,
           2,
           2,
           2,
           2,
           2,
           2,
           2,
           2,
           2,
           2,
           2,
           2,
           2,
           2,
           2,
           2,
           2,
           2,
           2,
           2,
           2,
           2,
           2,
           2,
           2,
           2,
           2,
           2,
           2,
           2,
           2,
           2,
           2,
           2,
           2,
           2,
           2,
           2,
           2,
           2,
           2,
           2,
           2,
           2,
           2,
           2,
           2,
           2,
           2,
           2,
           2,
           2,
           2,
           2,
           2,
           2,
           2,
           2,
           2,
           2,
           2,
           2,
           2,
           2,
           2,
           2,
           2,
           2,
           2,
           2,
           2,
           2,
           2,
           2,
           2,
           2,
           2,
           2,
           2,
           2,
           2,
           2,
           2,
           2,
           2,
           2,
           2,
           2,
           2,
           2,
           2,
           2,
           2,
           2,
           2,
           2,
           2,
           2,
           2,
           2,
           2,
           2,
           2,
           2,
           2,
           2,
           2,
           2,
           2,
           2,
           2,
           2,
           2,
           2,
           2,
           2,
           2,
           2,
           2,
           2,
           2,
           2,
           2,
           2,
           2,
           2,
           2,
           2,
           2,
           2,
           2,
           2,
           2,
           2,
           2,
           2,
           2,
           2,
           2,
           2,
           2,
           2,
           2,
           2,
           2,
           2,
           2,
           2,
           2,
           2,
           2,
           2,
           2,
           2,
           2,
           2,
           2,
           2,
           2,
           2,
           2,
           2,
           2,
           2,
           2,
           2,
           2,
           2,
           2,
           2,
           2,
           2,
           2,
           2,
           2,
           2,
           2,
           2,
           2,
           2,
           2,
           2,
           2,
           2,
           2,
           2,
           2,
           2,
           2,
           2,
           2,
           2,
           2,
           2,
           2,
           2,
           2,
           2,
           2,
           2,
           2,
           2,
           2,
           2,
           2,
           2,
           2,
           2,
           2,
           2,
           2,
           2,
           2,
           2,
           2,
           2,
           2,
           2,
           2,
           2,
           2,
           2,
           2,
           2,
           2,
           2,
           2,
           2,
           2,
           2,
           2,
           2,
           2,
           2,
           2,
           2,
           2,
           2,
           2,
           2,
           2,
           2,
           2,
           2,
           2,
           2,
           2,
           2,
           2,
           2,
           2,
           2,
           2,
           2,
           2,
           2,
           2,
           2,
           2,
           2,
           2,
           2,
           2,
           2,
           2,
           2,
           2,
           2,
           2,
           2
          ],
          "coloraxis": "coloraxis",
          "symbol": "circle"
         },
         "mode": "markers",
         "name": "2",
         "scene": "scene",
         "showlegend": true,
         "type": "scatter3d",
         "x": [
          -0.32665921653501534,
          -0.3099753636567506,
          -0.3981565043677008,
          -0.2532832625498559,
          -0.3106939582001064,
          -0.2693692941461655,
          -0.24782646775619485,
          -0.3263183853751711,
          -0.3188849510918166,
          -0.32515357208849077,
          -0.3266551494911267,
          -0.3266394101809377,
          0.6378860832458034,
          -0.35869294533691015,
          -0.35926922525993005,
          -0.25083588118593164,
          -0.3247157994822741,
          -0.33662569016947896,
          -0.39805104529104846,
          -0.46380120497696503,
          -0.024871840073078466,
          -0.27395952732198153,
          -0.2850854168717465,
          -0.2752481384763847,
          -0.27587126434586196,
          -0.3453119837781293,
          -0.32095541172350806,
          -0.32505914903655525,
          0.03201004987588757,
          -0.35654160336760155,
          -0.3984230425397606,
          -0.2506913029684715,
          -0.31183761739372007,
          -0.39833460755370076,
          -0.3018636857796998,
          -0.3253352199114859,
          -0.2567207348292224,
          -0.39829900624265707,
          -0.2511591753548656,
          -0.2756518048307868,
          -0.31775477956170944,
          -0.09288672027547742,
          -0.339298195091373,
          -0.3099047668359804,
          -0.35811363151166725,
          -0.28506555730825,
          -0.2759468288727599,
          -0.27971449251578023,
          -0.326641258647506,
          -0.27589893274795607,
          -0.3569872145690582,
          -0.32637536000359285,
          -0.3984045442112608,
          -0.5389295522906626,
          -0.3946842707645721,
          -0.36921504451408405,
          -0.28346529507961676,
          -0.27542008745352753,
          -0.3032451531908749,
          -0.2502697123957621,
          -0.07468618571839711,
          -0.31066482929085004,
          -0.0755449412948191,
          -0.31072855364452534,
          -0.23193730865488674,
          -0.3262511797156813,
          -0.28333482037654834,
          -0.39557171002944425,
          0.8692237658033736,
          -0.3105284859401141,
          -0.09374937203211416,
          -0.3589521435014208,
          -0.3962447792403919,
          -0.30927119493766936,
          -0.3069376743872575,
          -0.3534752776026669,
          -0.39713864606257454,
          -0.3485703856419953,
          -0.3025235962707792,
          -0.3262893465200051,
          -0.32472635908848824,
          -0.23331569892806087,
          -0.34446312126781786,
          -0.39787795305170504,
          -0.3254926543225595,
          -0.31070953600547924,
          -0.39839373657035176,
          -0.3264786575020492,
          -0.3266354832480646,
          -0.28332315301569716,
          -0.1970907709030127,
          0.038575438267639185,
          -0.35790798642351085,
          -0.3262490716261822,
          -0.38454406701474114,
          -0.35723544716573435,
          -0.23474731113892836,
          -0.4264970589026528,
          -0.3569854705269412,
          -0.2763443787349493,
          -0.39798582957628026,
          0.8579311650993128,
          -0.3983485846890667,
          -0.3583722860239227,
          -0.32617673451774887,
          -0.326331307263415,
          -0.3589521435014208,
          -0.3979231766453524,
          -0.3105720010526517,
          -0.32617744057824205,
          -0.39886065210118343,
          -0.3263250205310215,
          -0.32191002403483876,
          -0.39837762766516516,
          -0.3255352071960267,
          0.35895261294861136,
          -0.326524506649797,
          -0.32659512784530004,
          -0.3554547534728595,
          -0.3494290656874024,
          -0.3228191009794647,
          -0.31068591495020326,
          -0.3982874707670471,
          -0.3263727049847575,
          -0.3264998559275589,
          -0.28497223621702167,
          -0.2859427704159022,
          -0.2345148902007377,
          -0.3073306347635448,
          -0.2847128708185585,
          -0.3975526397026848,
          -0.3979078263896458,
          -0.39628920729839856,
          -0.3571966169460561,
          -0.3974503744724599,
          -0.35158989160325976,
          -0.3933876095115204,
          -0.32644305488789654,
          -0.32644228486950544,
          -0.31955928892948215,
          0.2636612546213055,
          -0.39792922365663835,
          -0.26759961626708345,
          -0.3589865440094218,
          -0.3256530475903348,
          0.8852750053516756,
          -0.26805882183617213,
          -0.3473473075464761,
          0.5899015210173838,
          -0.3550127431959699,
          -0.35351337797970767,
          -0.42263314976565475,
          -0.2755836744230944,
          0.1386939980226402,
          -0.27565448912024737,
          -0.3583759123440393,
          -0.4221373057898379,
          -0.39820183919429736,
          -0.28504633805548946,
          -0.3588527975556187,
          -0.3260778643815259,
          -0.3265780372999655,
          -0.3114133467377834,
          0.6572788004998106,
          -0.3981426773061373,
          -0.340306067436957,
          -0.3265336514245086,
          -0.3171524668098462,
          0.4435766334333406,
          -0.3090301893626241,
          -0.33976378103724897,
          -0.38873599284281835,
          -0.326483946373565,
          -0.3951563961828632,
          -0.33787508874045113,
          -0.3263541201114708,
          -0.09564748383897541,
          -0.3969342041639605,
          0.20513672879227354,
          -0.27232150181788184,
          -0.3238117390655041,
          -0.3135149640710269,
          -0.35534051705433684,
          0.08812241800345695,
          -0.3254921362280821,
          -0.397515677292682,
          -0.3545045805130075,
          -0.3130437591147681,
          -0.3266002002858384,
          -0.35695910827197297,
          -0.34885267008396237,
          -0.2793605693093606,
          -0.3221401627758763,
          -0.2263029314309049,
          -0.35124616566712574,
          -0.39821919588877663,
          -0.2986245079046536,
          -0.2842056775007521,
          -0.318771591802926,
          -0.3546113354089735,
          -0.3266275897282572,
          -0.32660928491364577,
          -0.27858092181617794,
          -0.36275703012060706,
          -0.3584468047398312,
          -0.3263255173265335,
          -0.39382246294760115,
          -0.35863570706685655,
          -0.3251495036752249,
          -0.27314551668371695,
          -0.26956888470834295,
          -0.2847401452798046,
          -0.12950767499745736,
          -0.2849926743454273,
          -0.34171449427761547,
          -0.3257990742335998,
          -0.20835178147909794,
          -0.35104563313334275,
          -0.2681861814397619,
          1.014087435743064,
          -0.365746352995386,
          -0.3554542217021796,
          -0.39684194336826145,
          -0.1656418743409497,
          -0.3583418701868603,
          -0.35417230797901966,
          -0.3194992920262098,
          -0.3565360823662615,
          -0.39769189578561365,
          -0.28223529616423715,
          -0.3577348995121361,
          -0.34804189132161956,
          -0.35639750569278283,
          -0.18600232274936362,
          -0.26342609158251334,
          -0.2573564693927816,
          -0.1466025147865438,
          -0.3961358048726305,
          -0.32632944737422176,
          -0.39659240117418165,
          -0.3555713282985203,
          0.5811033675833887,
          -0.35701349601791854,
          -0.3258119551413833,
          -0.2930743980400519,
          -0.2963947076893179,
          -0.3952550003537861,
          -0.397919356260004,
          0.10904725262039204,
          -0.3954552252721229,
          -0.3251971789183096,
          -0.32602258552297697,
          -0.26940201865815655,
          -0.3265413818151307,
          -0.3895374716067183,
          -0.24017516307006298,
          -0.09002952924872881,
          -0.3852823313619145,
          -0.32581872388823907,
          -0.3188749732212998,
          -0.39448390479459394,
          -0.3242564175991023,
          -0.35922811878511207,
          -0.3997412507382244,
          -0.30920729622158866,
          -0.09204665560444056,
          -0.32144784352969125,
          -0.3449376018448146,
          -0.27605412536002627,
          -0.2502761443827907,
          -0.359163889128227,
          -0.3807402495413375,
          -0.3247030866501955,
          -0.28538948947542814
         ],
         "y": [
          0.9785500551911029,
          0.9786618273815642,
          1.1953845327558865,
          1.6950094525662485,
          0.8661407328832206,
          0.6862087565276752,
          1.9052919672928186,
          0.978548100092017,
          0.97878021251029,
          0.9785946298562102,
          0.9785498164592279,
          0.978549923254868,
          0.9238476601775782,
          0.8157822778808242,
          1.5433832716896971,
          0.1847704433081377,
          0.978521390052109,
          1.0160597390667863,
          1.1953876548740312,
          2.1980477784174846,
          0.8063222586739377,
          0.8655062663800829,
          0.7986070077153609,
          1.8005066997821948,
          1.8004882521279584,
          0.5548435724468245,
          0.9784172162315002,
          0.9785270285278401,
          0.9891684662614249,
          1.0154701280452072,
          1.1953924445158435,
          0.16501167716643234,
          1.6697543265903128,
          1.1953878800145037,
          0.9781347931394168,
          0.9785174187760336,
          0.28914216908398166,
          1.1953921664947202,
          0.16506965918739488,
          1.800494749231435,
          0.9780953373355313,
          2.255290298687315,
          1.5139101823885408,
          0.8661310535492481,
          0.815802574781183,
          0.7986192183010749,
          1.8004773950314639,
          0.7984184697216531,
          0.9785505868649029,
          1.8004802496650805,
          1.0154425690378588,
          0.9785440921212233,
          1.1953929928775744,
          2.7069500184415016,
          1.7745482091215081,
          0.4043276614299565,
          0.7985947607047809,
          1.8004656925328617,
          0.8656587243294953,
          1.9054521611133954,
          0.9138856719345385,
          0.8661415952451806,
          1.1858794923483957,
          0.8661479695245256,
          1.5274708583497278,
          0.9785319651348343,
          0.7985116671986329,
          1.1952010187643567,
          0.7616769188540043,
          0.8661327016822227,
          0.9293783241029834,
          1.5433782922231813,
          1.1954030577196766,
          0.8660386662416443,
          0.8658906157781794,
          1.5238080742153866,
          1.195330621402664,
          1.5461259931551994,
          0.977827922905198,
          0.9785291590935487,
          0.9785354441132738,
          1.620442225675164,
          1.0153557663676966,
          1.195372665923417,
          0.9785199412663044,
          0.8661409900358968,
          1.195391157836228,
          0.9785403156627217,
          0.9785507578457228,
          0.798670802216144,
          0.11684761984259052,
          1.8924480380332787,
          1.5433704144830214,
          0.9785621975697699,
          1.1947258317018798,
          1.5434147484484018,
          1.6205417136274531,
          2.03570868525324,
          1.5432346637839347,
          1.8920996944210489,
          1.1953838389152036,
          1.8334439126322495,
          1.1953918815850315,
          1.543373908897992,
          0.9785366545218415,
          0.9785295929571287,
          1.5433782922231813,
          1.1953641437387306,
          0.8661457800949425,
          0.9785406131888574,
          0.6245056861197481,
          0.9785398357509382,
          0.9782232641308392,
          1.1953901980728463,
          0.9784798914555891,
          0.7943288216162118,
          0.9785447049691657,
          0.9785495707245244,
          1.5502755613294559,
          0.671560956167534,
          0.9783045749584847,
          0.8661416893377261,
          1.1953897395437627,
          0.9785441707231107,
          0.9785390176381381,
          0.7985824727079645,
          0.3047020298551651,
          1.6205399566844245,
          0.9784039443575844,
          0.7986049299242867,
          1.195346380135521,
          1.8244323565639482,
          1.1953766007386828,
          1.543365406231361,
          1.1953494076997744,
          1.543323284950714,
          1.1951823523698564,
          0.9785412173051381,
          0.97853593313742,
          0.9780419147984275,
          0.6481230716385831,
          1.1953783313953616,
          0.7976996299938441,
          1.5433700904561696,
          0.9785044178114055,
          1.87443882331921,
          0.686112804992591,
          1.546114433201384,
          1.8515932456798756,
          1.523820024228842,
          1.5237853962351497,
          1.8595507243954763,
          1.8004752162157744,
          0.956410150437259,
          1.8004810945536767,
          1.6289673216125313,
          1.859565403866622,
          1.1953921645684829,
          0.7986072840452865,
          1.5433513506957688,
          0.9785326051151748,
          0.9785494415317129,
          1.6958092743882789,
          1.5302357847059338,
          1.1953813504367008,
          0.5547071472519003,
          0.9785424707920958,
          0.698622453546061,
          0.9833945553119917,
          0.8661339587477705,
          1.5234166526962687,
          1.8502490346523552,
          0.9785401590855712,
          1.7301295196613542,
          1.5631422100367862,
          0.978548464686838,
          0.6848957681477418,
          1.1953330822396637,
          1.5188604264682841,
          1.800442492796404,
          0.9784835047260576,
          1.3438736226854935,
          1.5502753516313545,
          0.9549129777662714,
          0.9784768565689268,
          1.1953833911047456,
          1.550228266157301,
          0.978306640585791,
          0.9785489290628434,
          1.015442682791439,
          1.5461237419568372,
          0.1847722350217728,
          0.9785171884302595,
          1.6202188384460106,
          0.9006237988711028,
          1.195380521770333,
          1.059006620463964,
          0.7985556016536811,
          1.6158707570729909,
          1.523803174557617,
          0.9785488365317612,
          0.9785479417783235,
          0.7984520291056281,
          1.41531473164476,
          1.543344406080671,
          0.9785383843754442,
          1.7301690107823355,
          1.5433445602947875,
          0.7757109902883212,
          0.9764550580807309,
          0.26796534062289734,
          0.7986101754488161,
          0.97705972463276,
          0.7985897693099397,
          1.895484391858047,
          0.9785151797020666,
          1.7254851649555056,
          1.5499499513850055,
          0.6861807400344904,
          1.7203403657898104,
          0.9556443668156567,
          1.5502712670689807,
          1.7302195856493128,
          0.7900292822268226,
          0.8785447859521418,
          1.5502524697710587,
          0.978043691007988,
          1.0154307831286216,
          1.1953781741526228,
          0.7985162414198754,
          1.5432778453106377,
          0.7731426217997305,
          1.0154025606672212,
          0.9697841947944533,
          2.0465842606764055,
          0.8790733268750398,
          1.0216853790987912,
          1.730205401000097,
          0.9785447330316378,
          1.730216999285275,
          1.5502732810136346,
          0.9516930075897391,
          1.0154420064752006,
          0.9785147983625259,
          1.0588548646535891,
          1.8933062488374133,
          1.1951845349395014,
          1.195385806859105,
          0.966307466821053,
          1.1954803075256837,
          0.9784496720898624,
          0.9785299286845489,
          0.6862016818794491,
          0.9785535437205882,
          1.1952963357820496,
          0.9735679111847375,
          0.8725528277603823,
          1.1950631423337588,
          0.9785641630145465,
          0.9784931743348529,
          1.1953596500318227,
          0.9785062567051985,
          1.5433780236423968,
          0.6556582700334568,
          0.8661251238259218,
          0.7971438606737972,
          0.9784888378488571,
          0.554814143330762,
          1.8004827523237859,
          0.686064654868603,
          1.5433801879723656,
          1.4959348006363202,
          0.9784283830053523,
          0.7986089099486489
         ],
         "z": [
          -0.6220801822645651,
          -0.622455650457502,
          -0.5699496763176596,
          -0.03212144019081903,
          -0.4325467354917567,
          -0.09048537501735655,
          -0.7520203485901843,
          -0.6220868245396706,
          -0.622298335211209,
          -0.6221224320206209,
          -0.6220802092766575,
          -0.622080563815809,
          -0.29663078663693687,
          -0.47889358341852056,
          -0.07006431232637099,
          -0.15471530902979932,
          -0.6221138074768864,
          -0.22845749674675805,
          -0.5699526355949946,
          -0.7492265538658859,
          -0.2873259864550978,
          -0.4331598480097904,
          -0.2800213382768562,
          -0.7125192534267474,
          -0.7125017679496962,
          -0.3795585697699529,
          -0.6221670552676639,
          -0.6221080060643405,
          -0.6321447671879231,
          -0.22789863815937828,
          -0.5699460301279204,
          0.10494601029446832,
          -0.2518325389926745,
          -0.5699467694647345,
          -0.6224971828187671,
          -0.6220999107845349,
          -0.3426905468956043,
          -0.5699485525513158,
          0.10494171518454974,
          -0.7125079261827313,
          -0.6221558085151226,
          -0.1124681747438878,
          -0.17127572240008646,
          -0.4325608658618278,
          -0.4789106026625381,
          -0.28002471476282786,
          -0.712497556656526,
          -0.28008775032701083,
          -0.6220806861864947,
          -0.7124992491458967,
          -0.22788264909822672,
          -0.622084662736919,
          -0.569946549382036,
          -0.6150865594519987,
          -0.6812045851055928,
          -0.30716317339413973,
          -0.280052195538921,
          -0.7125057163657843,
          -0.43258534866922893,
          -0.7520081908743369,
          -0.46934053703657413,
          -0.4325475528753693,
          -0.5743802017880385,
          -0.4325477684760531,
          -0.6492174418082844,
          -0.6220843140610717,
          -0.2800347645263637,
          -0.5699591329901088,
          -0.2951653269791364,
          -0.4325482424674331,
          -0.2826958672953728,
          -0.070069725121412,
          -0.5699940863208814,
          -0.4325516851282054,
          -0.43256449733423746,
          -0.6457912945388175,
          -0.5699578522257533,
          -0.15747281303409302,
          -0.6224089689981722,
          -0.6220828365052047,
          -0.6221169959714439,
          -0.3704384443339261,
          -0.228123095422261,
          -0.5699526139908605,
          -0.6220972354355152,
          -0.4325464726047434,
          -0.569946329933239,
          -0.6220815898750911,
          -0.6220808482494412,
          -0.280073608207577,
          -0.22860128655686232,
          -0.7966665148736805,
          -0.07008961613798298,
          -0.6220916913100135,
          -0.5700741264417702,
          -0.0701144123886634,
          -0.37043268444127464,
          -0.8985329203128994,
          -0.07007595021485656,
          -0.790006537923352,
          -0.5699530716844255,
          -0.744169188155184,
          -0.5699474482520365,
          -0.07008076923811384,
          -0.6220870059324012,
          -0.6220820656094092,
          -0.070069725121412,
          -0.5699496025724643,
          -0.4325505062005933,
          -0.6220879514111551,
          -0.1877192560292561,
          -0.6220846813855015,
          -0.6221000777340089,
          -0.5699464334830602,
          -0.6220866323852421,
          -0.29243103873398835,
          -0.6220816972290956,
          -0.6220814029144602,
          -0.26239011942608376,
          -0.4331392480780792,
          -0.6221008192301009,
          -0.43254713543297796,
          -0.5699482047249754,
          -0.6220847372391556,
          -0.622080832403791,
          -0.28001775021890335,
          -0.3245176417212262,
          -0.37043711119106226,
          -0.6224483194724959,
          -0.28002861299415244,
          -0.5699530305617695,
          -0.8951011628028221,
          -0.5699867412175805,
          -0.07010325462375064,
          -0.5699559002168808,
          -0.0702101052599664,
          -0.5700002089527723,
          -0.6220825519567005,
          -0.6220812862976088,
          -0.6221051723456359,
          -0.09237684859157966,
          -0.5699529176945279,
          -0.2801663442409497,
          -0.0700670174086148,
          -0.6220901210499363,
          -0.7681955576439558,
          -0.09048946332522036,
          -0.15749554673251498,
          -0.7668932487324278,
          -0.6457620910865814,
          -0.6457849981976546,
          -0.8233060950198157,
          -0.712504610773736,
          -0.6264263988191927,
          -0.7125045580326068,
          -0.093319225174733,
          -0.8233200088514906,
          -0.5699505809185813,
          -0.28002222126419163,
          -0.07006526446694854,
          -0.6220880880959692,
          -0.6220817284254427,
          -0.031101698273792052,
          -0.1487807049155305,
          -0.569949193115873,
          -0.3796300010750393,
          -0.6220809643615679,
          -0.08153202621427444,
          -0.6393376904429415,
          -0.4325798316082454,
          -0.6459826447972787,
          -0.5932876224930969,
          -0.6220814414645595,
          -0.604466444172758,
          -0.19486244953266854,
          -0.6220861668400894,
          -0.09379418157016922,
          -0.5699627178491786,
          -0.6562549256825859,
          -0.7125647870355505,
          -0.6221234946020499,
          -0.30370084623206306,
          -0.2623924538019251,
          -0.6250073144171905,
          -0.622086795553661,
          -0.5699627797772301,
          -0.2623984869060155,
          -0.6223054280550203,
          -0.6220811413600248,
          -0.22788326354608004,
          -0.15746637291947008,
          -0.40573080328385147,
          -0.622166567261445,
          -0.3705306847496843,
          -0.428011634534114,
          -0.5699473944157132,
          -0.6401895880297261,
          -0.2800272379686608,
          -0.1457561374728999,
          -0.6457663853397774,
          -0.6220805470277636,
          -0.622080712196795,
          -0.2801195593489509,
          -0.09609556008801427,
          -0.0700720570426577,
          -0.6220843189643006,
          -0.6045038755491704,
          -0.07006815019470784,
          -0.07407532462513429,
          -0.6226893747322055,
          -0.37740925071883036,
          -0.280029315870793,
          -0.6258351819276976,
          -0.2800190933501601,
          -0.7894626171082382,
          -0.6220896824569044,
          -0.4099507232652298,
          -0.262403200729483,
          -0.09050328251700705,
          -0.16309702332904896,
          -0.41615222139838076,
          -0.26238908890604595,
          -0.6044530967448908,
          -0.2804346747779246,
          -0.42359387165959494,
          -0.26241129558136317,
          -0.6221068559131566,
          -0.22788920986529976,
          -0.5699578349264943,
          -0.28005883197057296,
          -0.07007077642824305,
          -0.4983840738196823,
          -0.22788525763740058,
          -0.6228908162659712,
          0.18372572352427874,
          -0.2981267257114254,
          -0.2337897193924137,
          -0.6044644001654337,
          -0.6220857768466063,
          -0.6044576797983161,
          -0.26238713224249127,
          -0.6345196466896473,
          -0.22788196388903564,
          -0.6220893210069498,
          -0.6402686633992145,
          -0.7898805537855647,
          -0.5699617474988196,
          -0.5699549369859692,
          -0.6282080892683465,
          -0.5700293099463977,
          -0.6220863603065769,
          -0.6220885931111749,
          -0.09048297569502903,
          -0.6220834888209961,
          -0.5701082473143222,
          -0.6226774797405438,
          -0.43870950712694035,
          -0.5701405302417318,
          -0.6221011536528367,
          -0.6222289190656062,
          -0.5700203240904277,
          -0.6221197285358017,
          -0.07006389764832822,
          -0.28425628719661894,
          -0.43257399062748175,
          -0.2836970573395994,
          -0.6221741460246735,
          -0.37955924843491706,
          -0.71249661579495,
          -0.0908490837864705,
          -0.07006576373832336,
          0.20346958348182276,
          -0.622091512967032,
          -0.2800154506920873
         ]
        },
        {
         "customdata": [
          [
           "X13"
          ],
          [
           "Scrypt"
          ],
          [
           "CryptoNight"
          ],
          [
           "DPoS"
          ],
          [
           "Scrypt"
          ],
          [
           "VeChainThor Authority"
          ],
          [
           "DPoS"
          ],
          [
           "CryptoNight"
          ],
          [
           "Semux BFT consensus"
          ],
          [
           "Scrypt"
          ],
          [
           "DPoS"
          ],
          [
           "DPoS"
          ],
          [
           "DPoS"
          ],
          [
           "DPoS"
          ],
          [
           "SHA-256"
          ]
         ],
         "hovertemplate": "<b>%{hovertext}</b><br><br>Class=%{marker.color}<br>PC 1=%{x}<br>PC 2=%{y}<br>PC 3=%{z}<br>Algorithm=%{customdata[0]}<extra></extra>",
         "hovertext": [
          "EliteCoin",
          "MoonCoin",
          "ByteCoin",
          "ARK",
          "gCn Coin",
          "Vechain",
          "Lamden Tau",
          "TurtleCoin",
          "Semux",
          "Lynx",
          "ALAX",
          "Lisk",
          "EOS",
          "Oxycoin",
          "ZEPHYR"
         ],
         "legendgroup": "4",
         "marker": {
          "color": [
           4,
           4,
           4,
           4,
           4,
           4,
           4,
           4,
           4,
           4,
           4,
           4,
           4,
           4,
           4
          ],
          "coloraxis": "coloraxis",
          "symbol": "diamond"
         },
         "mode": "markers",
         "name": "4",
         "scene": "scene",
         "showlegend": true,
         "type": "scatter3d",
         "x": [
          2.3107568346905216,
          2.561606549186928,
          3.8519930487788963,
          3.7201865407900505,
          3.2512871865585384,
          4.383733256976201,
          3.7250476144272158,
          8.035365057635667,
          3.929341108757223,
          2.2570141713539473,
          3.737304569215217,
          3.720578738658348,
          3.7304621157300875,
          3.731708077462669,
          2.473291868832159
         ],
         "y": [
          1.65139417187155,
          -1.3422979819898484,
          -2.295268373019455,
          1.8956227894914266,
          -1.1897065300454854,
          3.3938926398261096,
          1.8954973264545125,
          -2.7572442635747363,
          1.6747941183044752,
          0.12330084937766862,
          1.895501026891045,
          1.8956093174460467,
          1.8960167898405424,
          1.8960536765633698,
          0.8612227149971724
         ],
         "z": [
          -0.7303456829873757,
          -0.0026893017777087627,
          0.39776199580193644,
          -0.18784312942263912,
          -0.054102587480182734,
          6.202443031300168,
          -0.1879141954323801,
          0.4224714487762966,
          -0.12169854447244478,
          -0.4075514894064354,
          -0.18817101653323937,
          -0.1878480506568459,
          -0.18815325141682696,
          -0.1881882142330864,
          -0.11592977241455842
         ]
        },
        {
         "customdata": [
          [
           "SHA-256"
          ],
          [
           "Scrypt"
          ],
          [
           "Scrypt"
          ],
          [
           "X11"
          ],
          [
           "Scrypt"
          ],
          [
           "SHA-256"
          ],
          [
           "Scrypt"
          ],
          [
           "Scrypt"
          ],
          [
           "Quark"
          ],
          [
           "Groestl"
          ],
          [
           "Scrypt"
          ],
          [
           "Scrypt"
          ],
          [
           "Scrypt"
          ],
          [
           "X11"
          ],
          [
           "SHA-256"
          ],
          [
           "Scrypt"
          ],
          [
           "Scrypt"
          ],
          [
           "Scrypt"
          ],
          [
           "Scrypt"
          ],
          [
           "Scrypt"
          ],
          [
           "NeoScrypt"
          ],
          [
           "Scrypt"
          ],
          [
           "Scrypt"
          ],
          [
           "Scrypt"
          ],
          [
           "Scrypt"
          ],
          [
           "SHA-256"
          ],
          [
           "Scrypt"
          ],
          [
           "Scrypt"
          ],
          [
           "Scrypt"
          ],
          [
           "Scrypt"
          ],
          [
           "Scrypt"
          ],
          [
           "Scrypt"
          ],
          [
           "SHA-256"
          ],
          [
           "Scrypt"
          ],
          [
           "Scrypt"
          ],
          [
           "Scrypt"
          ],
          [
           "Scrypt"
          ],
          [
           "SHA-256"
          ],
          [
           "SHA-256"
          ],
          [
           "SHA-256"
          ],
          [
           "SHA-256"
          ],
          [
           "SHA-256"
          ],
          [
           "X11"
          ],
          [
           "Scrypt"
          ],
          [
           "Lyra2REv2"
          ],
          [
           "Scrypt"
          ],
          [
           "SHA-256"
          ],
          [
           "Scrypt"
          ],
          [
           "Scrypt"
          ],
          [
           "Scrypt"
          ],
          [
           "Scrypt"
          ],
          [
           "Scrypt"
          ],
          [
           "Scrypt"
          ],
          [
           "QuBit"
          ],
          [
           "Scrypt"
          ],
          [
           "Scrypt"
          ],
          [
           "Scrypt"
          ],
          [
           "SHA-256"
          ],
          [
           "Scrypt"
          ],
          [
           "X11"
          ],
          [
           "SHA-256"
          ],
          [
           "X11"
          ],
          [
           "Scrypt"
          ],
          [
           "Scrypt"
          ],
          [
           "X11"
          ],
          [
           "SHA-256"
          ],
          [
           "Scrypt"
          ],
          [
           "Scrypt"
          ],
          [
           "SHA-256"
          ],
          [
           "X11"
          ],
          [
           "Scrypt"
          ],
          [
           "Scrypt"
          ],
          [
           "X11"
          ],
          [
           "Scrypt"
          ],
          [
           "X11"
          ],
          [
           "Equihash"
          ],
          [
           "SHA-256"
          ],
          [
           "Scrypt"
          ],
          [
           "SHA-256"
          ],
          [
           "Scrypt"
          ],
          [
           "Scrypt"
          ],
          [
           "X11"
          ],
          [
           "X11"
          ],
          [
           "Scrypt"
          ],
          [
           "X11"
          ],
          [
           "Scrypt"
          ],
          [
           "X11"
          ],
          [
           "Scrypt"
          ],
          [
           "Scrypt"
          ],
          [
           "NIST5"
          ],
          [
           "Scrypt"
          ],
          [
           "SHA-256"
          ],
          [
           "Scrypt"
          ],
          [
           "X11"
          ],
          [
           "Scrypt"
          ],
          [
           "Scrypt"
          ],
          [
           "X11"
          ],
          [
           "X11"
          ],
          [
           "Keccak"
          ],
          [
           "X11"
          ],
          [
           "SHA-256"
          ],
          [
           "Scrypt"
          ],
          [
           "Scrypt"
          ],
          [
           "Scrypt"
          ],
          [
           "Scrypt"
          ],
          [
           "Scrypt"
          ],
          [
           "Scrypt"
          ],
          [
           "X11"
          ],
          [
           "NeoScrypt"
          ],
          [
           "Scrypt"
          ],
          [
           "X11"
          ],
          [
           "NeoScrypt"
          ],
          [
           "NeoScrypt"
          ],
          [
           "X11"
          ],
          [
           "Scrypt"
          ],
          [
           "BLAKE256"
          ],
          [
           "X11"
          ],
          [
           "NeoScrypt"
          ],
          [
           "NeoScrypt"
          ],
          [
           "Scrypt"
          ],
          [
           "X11"
          ],
          [
           "SHA-256"
          ],
          [
           "C11"
          ],
          [
           "Ethash"
          ],
          [
           "Scrypt"
          ],
          [
           "Lyra2REv2"
          ],
          [
           "Scrypt"
          ],
          [
           "Scrypt"
          ],
          [
           "X11"
          ],
          [
           "Scrypt"
          ],
          [
           "X11"
          ],
          [
           "NIST5"
          ],
          [
           "X16R"
          ],
          [
           "X11"
          ],
          [
           "Scrypt"
          ],
          [
           "XEVAN"
          ],
          [
           "SHA-256"
          ],
          [
           "X11"
          ],
          [
           "X16R"
          ],
          [
           "SHA-256"
          ],
          [
           "XEVAN"
          ],
          [
           "Equihash"
          ],
          [
           "Scrypt"
          ],
          [
           "QuBit"
          ],
          [
           "SHA-256"
          ],
          [
           "X13"
          ],
          [
           "SHA-256"
          ],
          [
           "Scrypt"
          ],
          [
           "NeoScrypt"
          ],
          [
           "Scrypt"
          ],
          [
           "SHA-256"
          ],
          [
           "Scrypt"
          ],
          [
           "Groestl"
          ],
          [
           "Scrypt"
          ],
          [
           "Scrypt"
          ]
         ],
         "hovertemplate": "<b>%{hovertext}</b><br><br>Class=%{marker.color}<br>PC 1=%{x}<br>PC 2=%{y}<br>PC 3=%{z}<br>Algorithm=%{customdata[0]}<extra></extra>",
         "hovertext": [
          "Bitcoin",
          "Litecoin",
          "ProsperCoin",
          "Spreadcoin",
          "Argentum",
          "ZetaCoin",
          "SexCoin",
          "Quatloo",
          "QuarkCoin",
          "Riecoin",
          "Digitalcoin ",
          "Catcoin",
          "CannaCoin",
          "CryptCoin",
          "DevCoin",
          "EarthCoin",
          "E-Gulden",
          "Einsteinium",
          "Emerald",
          "Franko",
          "FeatherCoin",
          "GrandCoin",
          "GlobalCoin",
          "GoldCoin",
          "Infinite Coin",
          "IXcoin",
          "KrugerCoin",
          "LuckyCoin",
          "Litebar ",
          "MegaCoin",
          "MinCoin",
          "NobleCoin",
          "Namecoin",
          "NyanCoin",
          "RonPaulCoin",
          "StableCoin",
          "SmartCoin",
          "SysCoin",
          "TigerCoin",
          "TerraCoin",
          "UnbreakableCoin",
          "Unobtanium",
          "UroCoin",
          "ViaCoin",
          "Vertcoin",
          "WorldCoin",
          "JouleCoin",
          "MonaCoin",
          "Gulden",
          "PesetaCoin",
          "Wild Beast Coin",
          "Flo",
          "ArtByte",
          "CypherPunkCoin",
          "OmniCron",
          "GreenCoin",
          "MasterCoin",
          "SoonCoin",
          "1Credit",
          "MarsCoin ",
          "Anarchists Prime",
          "BowsCoin",
          "Song Coin",
          "BitZeny",
          "MindCoin",
          "I0coin",
          "Revolution VR",
          "Gamecredits",
          "CarpeDiemCoin",
          "Adzcoin",
          "YoCoin",
          "Francs",
          "BolivarCoin",
          "Omni",
          "PizzaCoin",
          "Komodo",
          "ZayedCoin",
          "DopeCoin",
          "DollarCoin",
          "Shilling",
          "KiloCoin",
          "ArtexCoin",
          "Kurrent",
          "OsmiumCoin",
          "PacCoin",
          "BeaverCoin",
          "VaultCoin",
          "Canada eCoin",
          "EB3coin",
          "Coinonat",
          "BenjiRolls",
          "ILCoin",
          "EquiTrader",
          "DigitalPrice",
          "Unify",
          "SocialCoin",
          "ArcticCoin",
          "DAS",
          "SmartCash",
          "Onix",
          "Bitcoin Cash",
          "Sojourn Coin",
          "NewYorkCoin",
          "FrazCoin",
          "Kronecoin",
          "AdCoin",
          "Linx",
          "Elements",
          "VIVO Coin",
          "eBoost",
          "Pura",
          "Innova",
          "GoByte",
          "AC3",
          "PopularCoin",
          "Photon",
          "Sucre",
          "SparksPay",
          "GunCoin",
          "IrishCoin",
          "Pioneer Coin",
          "UnitedBitcoin",
          "Interzone",
          "1717 Masonic Commemorative Token",
          "ShareChain",
          "KREDS",
          "BitFlip",
          "LottoCoin",
          "Crypto Improvement Fund",
          "Poseidon",
          "FuturoCoin",
          "Jumpcoin",
          "Motion",
          "Axe",
          "HexCoin",
          "Urals Coin",
          "Project Pai",
          "Azart",
          "Xchange",
          "Bitcoin SV",
          "BitMoney",
          "PirateCash",
          "Block-Logic",
          "SLICE",
          "BLAST",
          "Bitcoin Rhodium",
          "GlobalToken",
          "SolarCoin",
          "UFO Coin",
          "Crypto Escudo",
          "Crown Coin",
          "SmileyCoin",
          "Groestlcoin",
          "Bata",
          "Pakcoin"
         ],
         "legendgroup": "0",
         "marker": {
          "color": [
           0,
           0,
           0,
           0,
           0,
           0,
           0,
           0,
           0,
           0,
           0,
           0,
           0,
           0,
           0,
           0,
           0,
           0,
           0,
           0,
           0,
           0,
           0,
           0,
           0,
           0,
           0,
           0,
           0,
           0,
           0,
           0,
           0,
           0,
           0,
           0,
           0,
           0,
           0,
           0,
           0,
           0,
           0,
           0,
           0,
           0,
           0,
           0,
           0,
           0,
           0,
           0,
           0,
           0,
           0,
           0,
           0,
           0,
           0,
           0,
           0,
           0,
           0,
           0,
           0,
           0,
           0,
           0,
           0,
           0,
           0,
           0,
           0,
           0,
           0,
           0,
           0,
           0,
           0,
           0,
           0,
           0,
           0,
           0,
           0,
           0,
           0,
           0,
           0,
           0,
           0,
           0,
           0,
           0,
           0,
           0,
           0,
           0,
           0,
           0,
           0,
           0,
           0,
           0,
           0,
           0,
           0,
           0,
           0,
           0,
           0,
           0,
           0,
           0,
           0,
           0,
           0,
           0,
           0,
           0,
           0,
           0,
           0,
           0,
           0,
           0,
           0,
           0,
           0,
           0,
           0,
           0,
           0,
           0,
           0,
           0,
           0,
           0,
           0,
           0,
           0,
           0,
           0,
           0,
           0,
           0,
           0,
           0,
           0,
           0,
           0,
           0,
           0,
           0,
           0
          ],
          "coloraxis": "coloraxis",
          "symbol": "square"
         },
         "mode": "markers",
         "name": "0",
         "scene": "scene",
         "showlegend": true,
         "type": "scatter3d",
         "x": [
          -0.14625515671348416,
          -0.1610497371405013,
          -0.16219734402096947,
          -0.23390244402585003,
          -0.16181354898282602,
          -0.14333655199482534,
          -0.15906587216844706,
          -0.16161748596615524,
          -0.22778078391266998,
          -0.19332002079625413,
          -0.1616660401831798,
          -0.16217958345587863,
          -0.16226612443945448,
          -0.23399190911156173,
          0.23204042768377975,
          0.08676154721252984,
          -0.16201208304482753,
          -0.15761236930921593,
          -0.16195134732821342,
          -0.16232320220672428,
          -0.17619926242160072,
          -0.14152227464594702,
          -0.16111683050337194,
          -0.1613947066226461,
          1.588700733189746,
          -0.146216468236999,
          -0.15868111561132994,
          -0.16203855868743114,
          -0.16239379996346806,
          -0.1616521669402396,
          -0.16227493677656266,
          -0.02706144180712433,
          -0.1462941951166815,
          -0.1559311828045193,
          -0.16225440886224732,
          -0.1603471680333437,
          -0.1617405513558984,
          -0.1334318635502788,
          -0.14575730481653262,
          -0.14604491224200536,
          -0.14602808410850376,
          -0.1466192300732097,
          -0.23416596353276217,
          -0.1619704844771024,
          -0.1934131085146246,
          -0.15907067940954267,
          -0.14582468922252315,
          -0.1608368403239923,
          -0.14542145862945074,
          -0.15955408007934258,
          -0.16239601973194445,
          -0.1594188814440749,
          -0.14562656477619154,
          -0.1860379301676798,
          -0.1622689112528352,
          -0.03507231317528117,
          -0.1624049143760401,
          -0.1463220142955404,
          0.4902148061614494,
          -0.23355241532379165,
          -0.1460616697317525,
          -0.23383767423539562,
          -0.16052705617043403,
          -0.15971830911633528,
          -0.23387309609492213,
          -0.14621759227157016,
          -0.15835788566523482,
          -0.16096657915150817,
          0.2727728720916783,
          -0.23303294005938968,
          -0.1612148487245839,
          -0.16219461945649952,
          -0.2338363348388943,
          -0.1624049729416453,
          -0.23398653091930305,
          -0.1878694080004138,
          -0.1464780043356302,
          -0.15956855112992235,
          -0.1464365769947526,
          -0.16206803280493715,
          -0.08907711686089924,
          -0.2205523774204141,
          -0.23181256131124078,
          -0.16238669517188076,
          0.48177022146367676,
          -0.16235493833270104,
          -0.22671516352287163,
          -0.16048594561287707,
          -0.1332574433279059,
          -0.1904262422637498,
          -0.16191683956133862,
          -0.11276659443160465,
          -0.16173884260941387,
          -0.23304143625996218,
          -0.16205828653290089,
          -0.1618216256337992,
          -0.23343648365413394,
          -0.2340145712552917,
          -0.12356577381570998,
          -0.22487908110374258,
          -0.14625431967590785,
          -0.08792593569392669,
          1.5872370466531038,
          -0.16215628505009233,
          -0.16160746524438882,
          -0.1613080816080994,
          -0.1612949929114385,
          -0.18834305319233344,
          -0.18089329905163282,
          -0.1604841520788379,
          -0.22955417482665713,
          -0.18073858027669948,
          -0.1808388614780182,
          -0.22929648818290263,
          -0.07844673619207351,
          1.0958636096899308,
          -0.23398853589193094,
          -0.1808908202210471,
          -0.17392093662865185,
          -0.16140640938355397,
          -0.23391384937129062,
          -0.14623368143946464,
          -0.18696973806168501,
          -0.28366850019326767,
          0.030868937824982064,
          -0.17895519942328958,
          -0.16198086037621554,
          0.14545299963243785,
          -0.22804865084255577,
          -0.16221811986024515,
          -0.23308226997901763,
          -0.19048563920321385,
          -0.20228532038200123,
          -0.23397067607320873,
          -0.16224274490021848,
          -0.13314282083491838,
          -0.10603343821097111,
          -0.23394202125628435,
          -0.20171262327797346,
          -0.14625435729783018,
          0.5757889593074833,
          -0.258202780924656,
          -0.16113393023004474,
          -0.1852482827794136,
          -0.14552965458511546,
          -0.11178515439735603,
          -0.14439647943375497,
          0.5341658002038867,
          -0.10596641010574663,
          -0.14577737729946216,
          -0.14604428174647774,
          0.5542270145244037,
          -0.1928804796047929,
          -0.1623196020851327,
          -0.16027324100698023
         ],
         "y": [
          -1.25950531184862,
          -1.1471223899506677,
          -1.1471111098387032,
          -0.9302662629074333,
          -1.1471306359375009,
          -1.2595257914145803,
          -1.1471829010189425,
          -1.147150691509188,
          -0.39546406075504187,
          -1.3098940241998431,
          -1.1471148948370524,
          -1.147110584036807,
          -1.1471074999797526,
          -0.930267474855291,
          -1.263375790697927,
          -1.1494230997135995,
          -1.147105625183678,
          -1.1471756376486268,
          -1.1471117287747223,
          -1.1471078219261077,
          -1.5709034712049768,
          -1.1475044110520698,
          -1.1471143195760838,
          -1.1471241592668326,
          -1.1603417048051863,
          -1.2595041664754756,
          -1.1471825875769321,
          -1.1471056906616985,
          -1.147102810659288,
          -1.1471100548724193,
          -1.1471055053006465,
          -1.153870332543835,
          -1.259506467581354,
          -1.1471525935271625,
          -1.147112799244508,
          -1.1472208338094874,
          -1.147119280166992,
          -1.2597484735037277,
          -1.259509258212032,
          -1.2595141725691517,
          -1.2595409710611094,
          -1.2595011848189857,
          -0.9302596977293532,
          -1.147105830325074,
          -1.2471100993508883,
          -1.1471941206212244,
          -1.2595098078638902,
          -1.1471312583485302,
          -1.1478061753888436,
          -1.1471372916513187,
          -1.147103794406337,
          -1.1471287018124765,
          -1.1473237804907035,
          -1.45406019307208,
          -1.1471005653213735,
          -1.1505158249248948,
          -1.1471026149429648,
          -1.2595072911687188,
          -1.1938680708600515,
          -0.9302652386415207,
          -1.2595231162819545,
          -0.9302650637303753,
          -1.1471975984445932,
          -1.1472022164282598,
          -0.9302625207256272,
          -1.2595041997525427,
          -1.1471332077068417,
          -1.147119928056676,
          -1.2626197840112636,
          -0.9302864945958274,
          -1.1471878704830278,
          -1.1471103108439897,
          -0.9302678974132195,
          -1.1471026145002494,
          -0.930272343971282,
          -1.2612893146026622,
          -1.2595038179437323,
          -1.1471618661436669,
          -1.2595032396377148,
          -1.147113746582818,
          -1.152114638253438,
          -0.9302158341944438,
          -0.9303538053431624,
          -1.1471035803347047,
          -0.9808977848104452,
          -1.147103104011098,
          -0.9307574505674201,
          -1.1471171922336578,
          -1.149112594173503,
          -0.6018498439011356,
          -1.1471132359943252,
          -1.2602946320737591,
          -1.147134170925183,
          -0.9302982394688408,
          -1.147105755205875,
          -1.1471387767201084,
          -0.9302812014980544,
          -0.9302687922690581,
          -1.3540554946995036,
          -0.9307749267021038,
          -1.2595052870681065,
          -1.1524397244743387,
          -1.0953039835570286,
          -1.1471091759530962,
          -1.147138901502693,
          -1.1471415315867772,
          -1.147141144095642,
          -0.9301961105895367,
          -1.570820473073149,
          -1.1471171391360455,
          -0.9303745825036434,
          -1.5708288226312936,
          -1.5708223094505036,
          -0.9305106204704827,
          -1.1482082559822036,
          -1.2466101227257782,
          -0.9302686679921214,
          -1.5708160896837609,
          -1.570953828086724,
          -1.147118582561255,
          -0.9302687555646993,
          -1.2595040769821955,
          -1.225030399952251,
          -0.039452419119049086,
          -1.1485636328270623,
          -1.2474118999226922,
          -1.1471183491805277,
          -1.1512103881469782,
          -0.9304377615239361,
          -1.1471117249078542,
          -0.9302994483519368,
          -0.601832026312597,
          -1.1699879048446378,
          -0.9302690012525308,
          -1.1471132478805812,
          -1.0667170180415133,
          -1.2598079632742785,
          -0.9302710262617891,
          -1.1700269258034135,
          -1.2595052881819044,
          -0.01867991985634569,
          -0.04427565017334757,
          -1.1471507425101577,
          -1.4541086489374653,
          -1.2595147217019549,
          -0.32517046087932505,
          -1.259555880756524,
          -1.1969487377237782,
          -1.5714562016673381,
          -1.14732824529857,
          -1.2595141539033186,
          -1.161802963206814,
          -1.3098960965862432,
          -1.1471032359483981,
          -1.1471697984913596
         ],
         "z": [
          0.19636873744393255,
          0.0068172508083484875,
          0.006838476557200274,
          0.05897080638177102,
          0.006835199254713774,
          0.19631276494143787,
          0.0067905056534250646,
          0.006835970200676499,
          0.024374982724798835,
          0.15000972443279859,
          0.006828301102557998,
          0.006837978179635668,
          0.0068390370690972965,
          0.0589729683725493,
          0.18940880821697623,
          0.0022010497374511805,
          0.006833277966184523,
          0.0067583948994434425,
          0.00683349031056793,
          0.006840306936835067,
          0.2492838108416816,
          0.006502183805927359,
          0.006816694144286472,
          0.006824882891735865,
          -0.026510796257211935,
          0.19636765181018961,
          0.00678239596081801,
          0.00683384665639407,
          0.006840565466557599,
          0.006826837440877562,
          0.006838737236619526,
          0.005656386544205185,
          0.19636983289692914,
          0.006717702335898644,
          0.006840077848402377,
          0.006826459977484806,
          0.00683092059881759,
          0.19615997057728068,
          0.19635929960216478,
          0.1963664968403939,
          0.19637264576040672,
          0.19637533818566894,
          0.05897471617145311,
          0.006832459153314104,
          0.20531351535976816,
          0.0067933274743166095,
          0.19636083990373537,
          0.006814956686450508,
          0.006656794712485866,
          0.006789636278884586,
          0.006840850434421443,
          0.006784729783784027,
          0.006544066749699497,
          0.19579206128356982,
          0.0068374131745020375,
          0.005009977189141752,
          0.00684075006065724,
          0.19637061352831886,
          0.004557651611674755,
          0.05896324938327267,
          0.19636901613708532,
          0.058969163123041166,
          0.006824580006074344,
          0.006808813625920489,
          0.05896928589087459,
          0.19636768335161908,
          0.006763669296655858,
          0.006814917319759811,
          0.18837494212051284,
          0.05895755869325405,
          0.006836581387858485,
          0.006838225863115974,
          0.058969822499697455,
          0.0068407511761130035,
          0.05897403713793645,
          0.6474128139722264,
          0.19637302810719634,
          0.006795899264284025,
          0.19637202283514338,
          0.006836416130205903,
          0.006525400961038627,
          0.0586798267652151,
          0.05894840436687166,
          0.006840603813310481,
          0.05630893091595247,
          0.006839825197023995,
          0.058939880299806256,
          0.006804218152095915,
          0.00671969898623912,
          -0.016843923449697696,
          0.006833135387004662,
          0.1958609598019368,
          0.006834496848793849,
          0.0589605849496959,
          0.00683427422702077,
          0.0068373425365421845,
          0.058964700724500684,
          0.058973761109157016,
          0.12965430152598,
          0.05890578219528728,
          0.19636871395589542,
          0.006580217940535576,
          -0.04225589816827416,
          0.006837150164904181,
          0.006832901164787509,
          0.006827288033770617,
          0.006826920753071242,
          0.05800251634915973,
          0.24936168950356602,
          0.006804167823903997,
          0.05890628931461425,
          0.24936048428043306,
          0.24936099828948163,
          0.05893390646052716,
          0.005355901166675679,
          0.14702069417755298,
          0.05897318734954872,
          0.24936057450332588,
          0.24924845436838552,
          0.006823774548296837,
          0.05897164914711101,
          0.1963679895118237,
          0.20090920661640363,
          0.08966063726472724,
          0.003159605879653481,
          0.20508484149743994,
          0.0068357123961360735,
          0.0014091081589085292,
          0.05889017899629961,
          0.006839059546093339,
          0.05896173078088739,
          -0.016847005115294324,
          0.2127803263954688,
          0.058972895275238225,
          0.006839943128443626,
          -0.011277069118892697,
          0.19560232519794862,
          0.05897278815642339,
          0.21277783355139135,
          0.19636871501160064,
          -0.5194401581609737,
          0.18330012179434516,
          0.006825885994838104,
          0.19578732709509702,
          0.19635587153057413,
          -0.08357585802453629,
          0.19634219460283842,
          0.004387212895728759,
          0.24795142989162622,
          0.006548298685884106,
          0.19636647914811767,
          -0.004556683050217297,
          0.15000104955533677,
          0.006839119384016552,
          0.006812537175346987
         ]
        },
        {
         "customdata": [
          [
           "Ethash"
          ],
          [
           "CryptoNight-V7"
          ],
          [
           "Ethash"
          ],
          [
           "Equihash"
          ],
          [
           "Multiple"
          ],
          [
           "Multiple"
          ],
          [
           "Multiple"
          ],
          [
           "HybridScryptHash256"
          ],
          [
           "CryptoNight"
          ],
          [
           "Stanford Folding"
          ],
          [
           "Multiple"
          ],
          [
           "M7 POW"
          ],
          [
           "Lyra2RE"
          ],
          [
           "Ethash"
          ],
          [
           "Blake2b"
          ],
          [
           "1GB AES Pattern Search"
          ],
          [
           "Dagger"
          ],
          [
           "X11GOST"
          ],
          [
           "CryptoNight"
          ],
          [
           "Multiple"
          ],
          [
           "Lyra2Z"
          ],
          [
           "Ethash"
          ],
          [
           "Equihash"
          ],
          [
           "CryptoNight"
          ],
          [
           "CryptoNight"
          ],
          [
           "Lyra2RE"
          ],
          [
           "CryptoNight-V7"
          ],
          [
           "Equihash"
          ],
          [
           "Lyra2RE"
          ],
          [
           "Dagger-Hashimoto"
          ],
          [
           "CryptoNight-V7"
          ],
          [
           "Argon2d"
          ],
          [
           "Blake2b"
          ],
          [
           "Cloverhash"
          ],
          [
           "CryptoNight"
          ],
          [
           "CryptoNight"
          ],
          [
           "Time Travel"
          ],
          [
           "CryptoNight"
          ],
          [
           "Equihash"
          ],
          [
           "Equihash"
          ],
          [
           "Dagger"
          ],
          [
           "Ethash"
          ],
          [
           "Multiple"
          ],
          [
           "CryptoNight"
          ],
          [
           "CryptoNight"
          ],
          [
           "Ethash"
          ],
          [
           "CryptoNight-V7"
          ],
          [
           "SkunkHash"
          ],
          [
           "CryptoNight"
          ],
          [
           "Dagger"
          ],
          [
           "Ethash"
          ],
          [
           "CryptoNight"
          ],
          [
           "IMesh"
          ],
          [
           "Equihash"
          ],
          [
           "Lyra2Z"
          ],
          [
           "CryptoNight"
          ],
          [
           "Lyra2RE"
          ],
          [
           "Tribus"
          ],
          [
           "Lyra2Z"
          ],
          [
           "CryptoNight"
          ],
          [
           "CryptoNight Heavy"
          ],
          [
           "CryptoNight"
          ],
          [
           "Jump Consistent Hash"
          ],
          [
           "CryptoNight"
          ],
          [
           "HMQ1725"
          ],
          [
           "CryptoNight-V7"
          ],
          [
           "Cryptonight-GPU"
          ],
          [
           "CryptoNight Heavy"
          ],
          [
           "Equihash"
          ],
          [
           "Lyra2Z"
          ],
          [
           "CryptoNight"
          ],
          [
           "Blake"
          ],
          [
           "Blake"
          ],
          [
           "Exosis"
          ],
          [
           "Equihash"
          ],
          [
           "Equihash"
          ],
          [
           "Blake"
          ],
          [
           "Multiple"
          ],
          [
           "Equihash+Scrypt"
          ],
          [
           "Ethash"
          ],
          [
           "CryptoNight"
          ],
          [
           "Equihash"
          ]
         ],
         "hovertemplate": "<b>%{hovertext}</b><br><br>Class=%{marker.color}<br>PC 1=%{x}<br>PC 2=%{y}<br>PC 3=%{z}<br>Algorithm=%{customdata[0]}<extra></extra>",
         "hovertext": [
          "Ethereum",
          "Monero",
          "Ethereum Classic",
          "ZCash",
          "DigiByte",
          "MyriadCoin",
          "Verge",
          "MediterraneanCoin",
          "DigitalNote ",
          "Folding Coin",
          "Unitus",
          "Cryptonite",
          "Crypto",
          "Expanse",
          "Siacoin",
          "HOdlcoin",
          "SoilCoin",
          "SibCoin",
          "Karbo",
          "Circuits of Value",
          "ZCoin",
          "Elementrem",
          "ZClassic",
          "Cannabis Industry Coin",
          "Bikercoins",
          "HexxCoin",
          "Citadel",
          "Zero",
          "Zoin",
          "DubaiCoin",
          "Quantum Resistant Ledger",
          "Dynamic",
          "Nano",
          "ChanCoin",
          "Dinastycoin",
          "LeviarCoin",
          "Bitcore",
          "Sumokoin",
          "BitcoinZ",
          "Bitcoin Gold",
          "Pirl",
          "Ellaism",
          "SHIELD",
          "UltraNote",
          "BitCoal",
          "DaxxCoin",
          "Lethean",
          "MUNcoin",
          "Niobio Cash",
          "Travelflex",
          "Callisto Network",
          "BitTube",
          "Aidos Kuneen",
          "Bitrolium",
          "Alpenschillling",
          "Monero Classic",
          "Infinex",
          "KEYCO",
          "GINcoin",
          "PlatinCoin",
          "Loki",
          "Newton Coin",
          "MassGrid",
          "PluraCoin",
          "PlusOneCoin",
          "Webchain",
          "Ryo",
          "Qwertycoin",
          "CrypticCoin",
          "Actinium",
          "FREDEnergy",
          "Universal Molecule",
          "Lithium",
          "Exosis",
          "Beam",
          "Bithereum",
          "BlakeCoin",
          "JoinCoin",
          "Vollar",
          "Reality Clash",
          "Beldex",
          "Horizen"
         ],
         "legendgroup": "5",
         "marker": {
          "color": [
           5,
           5,
           5,
           5,
           5,
           5,
           5,
           5,
           5,
           5,
           5,
           5,
           5,
           5,
           5,
           5,
           5,
           5,
           5,
           5,
           5,
           5,
           5,
           5,
           5,
           5,
           5,
           5,
           5,
           5,
           5,
           5,
           5,
           5,
           5,
           5,
           5,
           5,
           5,
           5,
           5,
           5,
           5,
           5,
           5,
           5,
           5,
           5,
           5,
           5,
           5,
           5,
           5,
           5,
           5,
           5,
           5,
           5,
           5,
           5,
           5,
           5,
           5,
           5,
           5,
           5,
           5,
           5,
           5,
           5,
           5,
           5,
           5,
           5,
           5,
           5,
           5,
           5,
           5,
           5,
           5,
           5
          ],
          "coloraxis": "coloraxis",
          "symbol": "x"
         },
         "mode": "markers",
         "name": "5",
         "scene": "scene",
         "showlegend": true,
         "type": "scatter3d",
         "x": [
          -0.15940101728321523,
          -0.14825442120851332,
          -0.1578418787615065,
          -0.1358919405171617,
          0.1591211299418004,
          -0.09455836004674133,
          0.18293082311031425,
          -0.15584324713328548,
          0.44683891387274394,
          -0.1386739150303543,
          -0.1286047408048669,
          -0.12293770141566832,
          -0.15774976598910115,
          -0.16047017103326416,
          0.37061618756088827,
          -0.15217673415088073,
          -0.14896169914967125,
          -0.16092311306176751,
          0.291566925729921,
          -0.10865404239023291,
          -0.15807839557379327,
          -0.16021199322280757,
          -0.13591359002188963,
          0.29156121935452606,
          0.2916921090521021,
          -0.15829070836600578,
          -0.14701831111827604,
          -0.1359259609136359,
          -0.15800872755443385,
          -0.1782312501760475,
          -0.14687538321220261,
          -0.13627068719243166,
          -0.03028974795220172,
          -0.16535768694636627,
          0.32772632113029443,
          0.29195661416241336,
          -0.15362565622925095,
          0.2921403031721286,
          0.07660095464870775,
          -0.13577180356565982,
          -0.14771964337443738,
          -0.15857617082259753,
          -0.11882560846757234,
          1.1302828997196213,
          0.29154401105212097,
          -0.08340740690047031,
          -0.13597614445877443,
          -0.1527941235505319,
          0.2954224355954206,
          -0.14722179552054226,
          -0.11157925564657178,
          0.2994734752160768,
          -0.15086656157222145,
          -0.13476165582312896,
          -0.15586015122071376,
          0.2917267707372393,
          -0.15813580626940044,
          -0.1671375261046513,
          -0.15816283730181369,
          0.29565760362701404,
          0.5839916278058949,
          2.1018905304944213,
          -0.15464682934599452,
          0.30534661665079554,
          -0.15852472931434225,
          -0.13586008378082257,
          -0.14803063125538268,
          3.109298101412964,
          -0.03040265496808891,
          -0.15756009992045333,
          0.37156126492636876,
          -0.14123607957096462,
          -0.14162824155406173,
          -0.17236601925066894,
          -0.13383035836185597,
          -0.13560442696846767,
          -0.09205864869557065,
          -0.1293407469635392,
          -0.1121180782898646,
          -0.1602451918984375,
          0.31332599605935024,
          -0.13589299905430274
         ],
         "y": [
          -1.9851250745522944,
          -2.1547422544138555,
          -1.985229766348669,
          -1.9899470542864879,
          -1.787221755470965,
          -1.7810835974128838,
          -1.7833238747107556,
          -2.1870404838937687,
          -2.2707521498083074,
          -2.012392475892126,
          -1.7806548733659302,
          -2.4115454141857677,
          -2.2102864461005125,
          -1.9851688713096842,
          -2.0140292993234152,
          -2.2652619335205175,
          -2.370438414768122,
          -2.2125668260387283,
          -2.2681728243010637,
          -1.780926233238798,
          -2.2008006399681004,
          -1.9851679078394568,
          -1.9899476952205224,
          -2.2681808949116147,
          -2.268179893255119,
          -2.2102623855067907,
          -2.1548385511254593,
          -1.9899451881253227,
          -2.2102619391329466,
          -2.0957687504469655,
          -2.154776853027748,
          -2.3387395291068707,
          -2.026142564193427,
          -2.2577614419653087,
          -2.2685318091666287,
          -2.2681928942597267,
          -2.220053290932992,
          -2.2682125180146997,
          -1.9987261251750248,
          -1.9899434976295574,
          -2.370492374092462,
          -1.9853017884551423,
          -1.7808394623424295,
          -2.304393820960061,
          -2.268175298525389,
          -1.9900586214098268,
          -2.1550967172586835,
          -2.200687662755143,
          -2.268292858711822,
          -2.370437188260083,
          -1.9883784808319473,
          -2.26864990132721,
          -2.171958269343522,
          -1.9899487905471616,
          -2.200935096630065,
          -2.2681741260913006,
          -2.210269494104059,
          -2.0783148332582884,
          -2.2007953100274062,
          -2.268475537086015,
          -2.2808489726078744,
          -2.346744415681923,
          -2.2041639570102536,
          -2.2684760268537305,
          -2.3064843440729925,
          -2.1556324041692516,
          -2.196101225916298,
          -2.338490531584851,
          -1.9922682946360548,
          -2.200830263518362,
          -2.27160154502177,
          -2.2065887681667236,
          -2.20654298956993,
          -2.2893854611603826,
          -1.9900597142475664,
          -1.9899456438911352,
          -2.210085695530325,
          -1.780678674178453,
          -2.1920637805144567,
          -1.9851676568801742,
          -2.268527290640347,
          -1.9899470856245016
         ],
         "z": [
          0.3764806228364193,
          0.4410397701641227,
          0.3764734624656098,
          0.4701606582678004,
          0.3873952505021955,
          0.39120316071905115,
          0.38595263063159485,
          0.526345091662263,
          0.46291444399484616,
          0.44786793183127327,
          0.3918100523735133,
          0.5820958631496521,
          0.4250408063882908,
          0.37651357003659736,
          0.37263428417856925,
          0.5098612632548066,
          0.4724674932983697,
          0.48445722581016365,
          0.46553085586929677,
          0.3914593060825056,
          0.42379146865088363,
          0.3765079456186881,
          0.4701612657725397,
          0.4655329326390426,
          0.46552995671675346,
          0.42504626501039705,
          0.44103731825571835,
          0.4701609159496451,
          0.42504026901692843,
          0.44203514840031527,
          0.4410193683423036,
          0.5349156114297543,
          0.38394335925016954,
          0.3623850049084614,
          0.4648629287042004,
          0.4655275874331541,
          0.46150751420958697,
          0.4655285120044487,
          0.4678533028779538,
          0.47015728711598254,
          0.47245464781414026,
          0.3765062641902188,
          0.39165063967139896,
          0.4568044109605975,
          0.4655319344767744,
          0.37609057654799194,
          0.4408693805759776,
          0.5081467315302163,
          0.46547946911462224,
          0.4724308668479015,
          0.3762712630048294,
          0.46548148885065466,
          0.5922115798807193,
          0.47013747923053645,
          0.423777766059587,
          0.4655278340922253,
          0.4250447549498913,
          0.40187506500715914,
          0.42379193894271416,
          0.46551886962486416,
          0.48163508036326824,
          0.4467900127172009,
          0.4977743579406954,
          0.4653166831752614,
          0.47710251825652394,
          0.4409968943996021,
          0.38453490966155174,
          0.4428886687571587,
          0.4685211007334413,
          0.42378783224969874,
          0.4646922616567359,
          0.4721925864844461,
          0.4721896706357265,
          0.4321398198089199,
          0.4701449397155613,
          0.47015431291680504,
          0.4720139893674063,
          0.391831193246793,
          0.33048608212280933,
          0.37650857792930936,
          0.46516250947337745,
          0.47016068797131416
         ]
        },
        {
         "customdata": [
          [
           "Proof-of-BibleHash"
          ],
          [
           "SHA-256 + Hive"
          ],
          [
           "Proof-of-Authority"
          ],
          [
           "ECC 256K1"
          ],
          [
           "SHA3-256"
          ],
          [
           "Leased POS"
          ]
         ],
         "hovertemplate": "<b>%{hovertext}</b><br><br>Class=%{marker.color}<br>PC 1=%{x}<br>PC 2=%{y}<br>PC 3=%{z}<br>Algorithm=%{customdata[0]}<extra></extra>",
         "hovertext": [
          "BiblePay",
          "LitecoinCash",
          "Poa Network",
          "Acute Angle Cloud",
          "Fiii",
          "Waves"
         ],
         "legendgroup": "3",
         "marker": {
          "color": [
           3,
           3,
           3,
           3,
           3,
           3
          ],
          "coloraxis": "coloraxis",
          "symbol": "cross"
         },
         "mode": "markers",
         "name": "3",
         "scene": "scene",
         "showlegend": true,
         "type": "scatter3d",
         "x": [
          -0.1596093050261901,
          -0.3842895300406012,
          -0.3665764375240232,
          -0.34697463329295053,
          -0.5353823047761985,
          -0.4780001596037543
         ],
         "y": [
          3.3225132303030747,
          2.525011629865612,
          2.278912384754113,
          1.6156926214247398,
          3.4767588476161557,
          4.992010903654581
         ],
         "z": [
          13.512287162415507,
          9.128030558407387,
          12.825682147956092,
          11.5331866353045,
          15.69173436780246,
          11.486505066362092
         ]
        },
        {
         "customdata": [
          [
           "TRC10"
          ]
         ],
         "hovertemplate": "<b>%{hovertext}</b><br><br>Class=%{marker.color}<br>PC 1=%{x}<br>PC 2=%{y}<br>PC 3=%{z}<br>Algorithm=%{customdata[0]}<extra></extra>",
         "hovertext": [
          "BitTorrent"
         ],
         "legendgroup": "1",
         "marker": {
          "color": [
           1
          ],
          "coloraxis": "coloraxis",
          "symbol": "circle"
         },
         "mode": "markers",
         "name": "1",
         "scene": "scene",
         "showlegend": true,
         "type": "scatter3d",
         "x": [
          34.103769894211084
         ],
         "y": [
          1.6026724786555775
         ],
         "z": [
          -0.8945396996148824
         ]
        }
       ],
       "layout": {
        "coloraxis": {
         "colorbar": {
          "title": {
           "text": "Class"
          }
         },
         "colorscale": [
          [
           0,
           "#0d0887"
          ],
          [
           0.1111111111111111,
           "#46039f"
          ],
          [
           0.2222222222222222,
           "#7201a8"
          ],
          [
           0.3333333333333333,
           "#9c179e"
          ],
          [
           0.4444444444444444,
           "#bd3786"
          ],
          [
           0.5555555555555556,
           "#d8576b"
          ],
          [
           0.6666666666666666,
           "#ed7953"
          ],
          [
           0.7777777777777778,
           "#fb9f3a"
          ],
          [
           0.8888888888888888,
           "#fdca26"
          ],
          [
           1,
           "#f0f921"
          ]
         ]
        },
        "legend": {
         "title": {
          "text": "Class"
         },
         "tracegroupgap": 0,
         "x": 0,
         "y": 1
        },
        "margin": {
         "t": 60
        },
        "scene": {
         "domain": {
          "x": [
           0,
           1
          ],
          "y": [
           0,
           1
          ]
         },
         "xaxis": {
          "title": {
           "text": "PC 1"
          }
         },
         "yaxis": {
          "title": {
           "text": "PC 2"
          }
         },
         "zaxis": {
          "title": {
           "text": "PC 3"
          }
         }
        },
        "template": {
         "data": {
          "bar": [
           {
            "error_x": {
             "color": "#2a3f5f"
            },
            "error_y": {
             "color": "#2a3f5f"
            },
            "marker": {
             "line": {
              "color": "#E5ECF6",
              "width": 0.5
             }
            },
            "type": "bar"
           }
          ],
          "barpolar": [
           {
            "marker": {
             "line": {
              "color": "#E5ECF6",
              "width": 0.5
             }
            },
            "type": "barpolar"
           }
          ],
          "carpet": [
           {
            "aaxis": {
             "endlinecolor": "#2a3f5f",
             "gridcolor": "white",
             "linecolor": "white",
             "minorgridcolor": "white",
             "startlinecolor": "#2a3f5f"
            },
            "baxis": {
             "endlinecolor": "#2a3f5f",
             "gridcolor": "white",
             "linecolor": "white",
             "minorgridcolor": "white",
             "startlinecolor": "#2a3f5f"
            },
            "type": "carpet"
           }
          ],
          "choropleth": [
           {
            "colorbar": {
             "outlinewidth": 0,
             "ticks": ""
            },
            "type": "choropleth"
           }
          ],
          "contour": [
           {
            "colorbar": {
             "outlinewidth": 0,
             "ticks": ""
            },
            "colorscale": [
             [
              0,
              "#0d0887"
             ],
             [
              0.1111111111111111,
              "#46039f"
             ],
             [
              0.2222222222222222,
              "#7201a8"
             ],
             [
              0.3333333333333333,
              "#9c179e"
             ],
             [
              0.4444444444444444,
              "#bd3786"
             ],
             [
              0.5555555555555556,
              "#d8576b"
             ],
             [
              0.6666666666666666,
              "#ed7953"
             ],
             [
              0.7777777777777778,
              "#fb9f3a"
             ],
             [
              0.8888888888888888,
              "#fdca26"
             ],
             [
              1,
              "#f0f921"
             ]
            ],
            "type": "contour"
           }
          ],
          "contourcarpet": [
           {
            "colorbar": {
             "outlinewidth": 0,
             "ticks": ""
            },
            "type": "contourcarpet"
           }
          ],
          "heatmap": [
           {
            "colorbar": {
             "outlinewidth": 0,
             "ticks": ""
            },
            "colorscale": [
             [
              0,
              "#0d0887"
             ],
             [
              0.1111111111111111,
              "#46039f"
             ],
             [
              0.2222222222222222,
              "#7201a8"
             ],
             [
              0.3333333333333333,
              "#9c179e"
             ],
             [
              0.4444444444444444,
              "#bd3786"
             ],
             [
              0.5555555555555556,
              "#d8576b"
             ],
             [
              0.6666666666666666,
              "#ed7953"
             ],
             [
              0.7777777777777778,
              "#fb9f3a"
             ],
             [
              0.8888888888888888,
              "#fdca26"
             ],
             [
              1,
              "#f0f921"
             ]
            ],
            "type": "heatmap"
           }
          ],
          "heatmapgl": [
           {
            "colorbar": {
             "outlinewidth": 0,
             "ticks": ""
            },
            "colorscale": [
             [
              0,
              "#0d0887"
             ],
             [
              0.1111111111111111,
              "#46039f"
             ],
             [
              0.2222222222222222,
              "#7201a8"
             ],
             [
              0.3333333333333333,
              "#9c179e"
             ],
             [
              0.4444444444444444,
              "#bd3786"
             ],
             [
              0.5555555555555556,
              "#d8576b"
             ],
             [
              0.6666666666666666,
              "#ed7953"
             ],
             [
              0.7777777777777778,
              "#fb9f3a"
             ],
             [
              0.8888888888888888,
              "#fdca26"
             ],
             [
              1,
              "#f0f921"
             ]
            ],
            "type": "heatmapgl"
           }
          ],
          "histogram": [
           {
            "marker": {
             "colorbar": {
              "outlinewidth": 0,
              "ticks": ""
             }
            },
            "type": "histogram"
           }
          ],
          "histogram2d": [
           {
            "colorbar": {
             "outlinewidth": 0,
             "ticks": ""
            },
            "colorscale": [
             [
              0,
              "#0d0887"
             ],
             [
              0.1111111111111111,
              "#46039f"
             ],
             [
              0.2222222222222222,
              "#7201a8"
             ],
             [
              0.3333333333333333,
              "#9c179e"
             ],
             [
              0.4444444444444444,
              "#bd3786"
             ],
             [
              0.5555555555555556,
              "#d8576b"
             ],
             [
              0.6666666666666666,
              "#ed7953"
             ],
             [
              0.7777777777777778,
              "#fb9f3a"
             ],
             [
              0.8888888888888888,
              "#fdca26"
             ],
             [
              1,
              "#f0f921"
             ]
            ],
            "type": "histogram2d"
           }
          ],
          "histogram2dcontour": [
           {
            "colorbar": {
             "outlinewidth": 0,
             "ticks": ""
            },
            "colorscale": [
             [
              0,
              "#0d0887"
             ],
             [
              0.1111111111111111,
              "#46039f"
             ],
             [
              0.2222222222222222,
              "#7201a8"
             ],
             [
              0.3333333333333333,
              "#9c179e"
             ],
             [
              0.4444444444444444,
              "#bd3786"
             ],
             [
              0.5555555555555556,
              "#d8576b"
             ],
             [
              0.6666666666666666,
              "#ed7953"
             ],
             [
              0.7777777777777778,
              "#fb9f3a"
             ],
             [
              0.8888888888888888,
              "#fdca26"
             ],
             [
              1,
              "#f0f921"
             ]
            ],
            "type": "histogram2dcontour"
           }
          ],
          "mesh3d": [
           {
            "colorbar": {
             "outlinewidth": 0,
             "ticks": ""
            },
            "type": "mesh3d"
           }
          ],
          "parcoords": [
           {
            "line": {
             "colorbar": {
              "outlinewidth": 0,
              "ticks": ""
             }
            },
            "type": "parcoords"
           }
          ],
          "pie": [
           {
            "automargin": true,
            "type": "pie"
           }
          ],
          "scatter": [
           {
            "marker": {
             "colorbar": {
              "outlinewidth": 0,
              "ticks": ""
             }
            },
            "type": "scatter"
           }
          ],
          "scatter3d": [
           {
            "line": {
             "colorbar": {
              "outlinewidth": 0,
              "ticks": ""
             }
            },
            "marker": {
             "colorbar": {
              "outlinewidth": 0,
              "ticks": ""
             }
            },
            "type": "scatter3d"
           }
          ],
          "scattercarpet": [
           {
            "marker": {
             "colorbar": {
              "outlinewidth": 0,
              "ticks": ""
             }
            },
            "type": "scattercarpet"
           }
          ],
          "scattergeo": [
           {
            "marker": {
             "colorbar": {
              "outlinewidth": 0,
              "ticks": ""
             }
            },
            "type": "scattergeo"
           }
          ],
          "scattergl": [
           {
            "marker": {
             "colorbar": {
              "outlinewidth": 0,
              "ticks": ""
             }
            },
            "type": "scattergl"
           }
          ],
          "scattermapbox": [
           {
            "marker": {
             "colorbar": {
              "outlinewidth": 0,
              "ticks": ""
             }
            },
            "type": "scattermapbox"
           }
          ],
          "scatterpolar": [
           {
            "marker": {
             "colorbar": {
              "outlinewidth": 0,
              "ticks": ""
             }
            },
            "type": "scatterpolar"
           }
          ],
          "scatterpolargl": [
           {
            "marker": {
             "colorbar": {
              "outlinewidth": 0,
              "ticks": ""
             }
            },
            "type": "scatterpolargl"
           }
          ],
          "scatterternary": [
           {
            "marker": {
             "colorbar": {
              "outlinewidth": 0,
              "ticks": ""
             }
            },
            "type": "scatterternary"
           }
          ],
          "surface": [
           {
            "colorbar": {
             "outlinewidth": 0,
             "ticks": ""
            },
            "colorscale": [
             [
              0,
              "#0d0887"
             ],
             [
              0.1111111111111111,
              "#46039f"
             ],
             [
              0.2222222222222222,
              "#7201a8"
             ],
             [
              0.3333333333333333,
              "#9c179e"
             ],
             [
              0.4444444444444444,
              "#bd3786"
             ],
             [
              0.5555555555555556,
              "#d8576b"
             ],
             [
              0.6666666666666666,
              "#ed7953"
             ],
             [
              0.7777777777777778,
              "#fb9f3a"
             ],
             [
              0.8888888888888888,
              "#fdca26"
             ],
             [
              1,
              "#f0f921"
             ]
            ],
            "type": "surface"
           }
          ],
          "table": [
           {
            "cells": {
             "fill": {
              "color": "#EBF0F8"
             },
             "line": {
              "color": "white"
             }
            },
            "header": {
             "fill": {
              "color": "#C8D4E3"
             },
             "line": {
              "color": "white"
             }
            },
            "type": "table"
           }
          ]
         },
         "layout": {
          "annotationdefaults": {
           "arrowcolor": "#2a3f5f",
           "arrowhead": 0,
           "arrowwidth": 1
          },
          "autotypenumbers": "strict",
          "coloraxis": {
           "colorbar": {
            "outlinewidth": 0,
            "ticks": ""
           }
          },
          "colorscale": {
           "diverging": [
            [
             0,
             "#8e0152"
            ],
            [
             0.1,
             "#c51b7d"
            ],
            [
             0.2,
             "#de77ae"
            ],
            [
             0.3,
             "#f1b6da"
            ],
            [
             0.4,
             "#fde0ef"
            ],
            [
             0.5,
             "#f7f7f7"
            ],
            [
             0.6,
             "#e6f5d0"
            ],
            [
             0.7,
             "#b8e186"
            ],
            [
             0.8,
             "#7fbc41"
            ],
            [
             0.9,
             "#4d9221"
            ],
            [
             1,
             "#276419"
            ]
           ],
           "sequential": [
            [
             0,
             "#0d0887"
            ],
            [
             0.1111111111111111,
             "#46039f"
            ],
            [
             0.2222222222222222,
             "#7201a8"
            ],
            [
             0.3333333333333333,
             "#9c179e"
            ],
            [
             0.4444444444444444,
             "#bd3786"
            ],
            [
             0.5555555555555556,
             "#d8576b"
            ],
            [
             0.6666666666666666,
             "#ed7953"
            ],
            [
             0.7777777777777778,
             "#fb9f3a"
            ],
            [
             0.8888888888888888,
             "#fdca26"
            ],
            [
             1,
             "#f0f921"
            ]
           ],
           "sequentialminus": [
            [
             0,
             "#0d0887"
            ],
            [
             0.1111111111111111,
             "#46039f"
            ],
            [
             0.2222222222222222,
             "#7201a8"
            ],
            [
             0.3333333333333333,
             "#9c179e"
            ],
            [
             0.4444444444444444,
             "#bd3786"
            ],
            [
             0.5555555555555556,
             "#d8576b"
            ],
            [
             0.6666666666666666,
             "#ed7953"
            ],
            [
             0.7777777777777778,
             "#fb9f3a"
            ],
            [
             0.8888888888888888,
             "#fdca26"
            ],
            [
             1,
             "#f0f921"
            ]
           ]
          },
          "colorway": [
           "#636efa",
           "#EF553B",
           "#00cc96",
           "#ab63fa",
           "#FFA15A",
           "#19d3f3",
           "#FF6692",
           "#B6E880",
           "#FF97FF",
           "#FECB52"
          ],
          "font": {
           "color": "#2a3f5f"
          },
          "geo": {
           "bgcolor": "white",
           "lakecolor": "white",
           "landcolor": "#E5ECF6",
           "showlakes": true,
           "showland": true,
           "subunitcolor": "white"
          },
          "hoverlabel": {
           "align": "left"
          },
          "hovermode": "closest",
          "mapbox": {
           "style": "light"
          },
          "paper_bgcolor": "white",
          "plot_bgcolor": "#E5ECF6",
          "polar": {
           "angularaxis": {
            "gridcolor": "white",
            "linecolor": "white",
            "ticks": ""
           },
           "bgcolor": "#E5ECF6",
           "radialaxis": {
            "gridcolor": "white",
            "linecolor": "white",
            "ticks": ""
           }
          },
          "scene": {
           "xaxis": {
            "backgroundcolor": "#E5ECF6",
            "gridcolor": "white",
            "gridwidth": 2,
            "linecolor": "white",
            "showbackground": true,
            "ticks": "",
            "zerolinecolor": "white"
           },
           "yaxis": {
            "backgroundcolor": "#E5ECF6",
            "gridcolor": "white",
            "gridwidth": 2,
            "linecolor": "white",
            "showbackground": true,
            "ticks": "",
            "zerolinecolor": "white"
           },
           "zaxis": {
            "backgroundcolor": "#E5ECF6",
            "gridcolor": "white",
            "gridwidth": 2,
            "linecolor": "white",
            "showbackground": true,
            "ticks": "",
            "zerolinecolor": "white"
           }
          },
          "shapedefaults": {
           "line": {
            "color": "#2a3f5f"
           }
          },
          "ternary": {
           "aaxis": {
            "gridcolor": "white",
            "linecolor": "white",
            "ticks": ""
           },
           "baxis": {
            "gridcolor": "white",
            "linecolor": "white",
            "ticks": ""
           },
           "bgcolor": "#E5ECF6",
           "caxis": {
            "gridcolor": "white",
            "linecolor": "white",
            "ticks": ""
           }
          },
          "title": {
           "x": 0.05
          },
          "xaxis": {
           "automargin": true,
           "gridcolor": "white",
           "linecolor": "white",
           "ticks": "",
           "title": {
            "standoff": 15
           },
           "zerolinecolor": "white",
           "zerolinewidth": 2
          },
          "yaxis": {
           "automargin": true,
           "gridcolor": "white",
           "linecolor": "white",
           "ticks": "",
           "title": {
            "standoff": 15
           },
           "zerolinecolor": "white",
           "zerolinewidth": 2
          }
         }
        }
       }
      }
     },
     "metadata": {}
    }
   ],
   "source": [
    "# Create a 3D-Scatter with the PCA data and the clusters\n",
    "fig = px.scatter_3d(\n",
    "    clustered_df,\n",
    "    x=\"PC 1\",\n",
    "    y=\"PC 2\",\n",
    "    z=\"PC 3\",\n",
    "    hover_name='CoinName',\n",
    "    hover_data= ['Algorithm'],\n",
    "    color=\"Class\",\n",
    "    symbol=\"Class\",\n",
    ")\n",
    "fig.update_layout(legend=dict(x=0, y=1))\n",
    "fig.show()"
   ]
  },
  {
   "cell_type": "markdown",
   "metadata": {},
   "source": [
    "#### Table of Tradable Cryptocurrencies"
   ]
  },
  {
   "cell_type": "code",
   "execution_count": 36,
   "metadata": {},
   "outputs": [
    {
     "output_type": "display_data",
     "data": {},
     "metadata": {}
    },
    {
     "output_type": "execute_result",
     "data": {
      "text/html": "<div id='1272'>\n\n\n\n\n\n  <div class=\"bk-root\" id=\"5ae67fef-3973-4c44-b3fe-1340db0a08cd\" data-root-id=\"1272\"></div>\n</div>\n<script type=\"application/javascript\">(function(root) {\n  function embed_document(root) {\n    var docs_json = {\"cc8d0420-f86d-4261-b754-df714c3c9c72\":{\"roots\":{\"references\":[{\"attributes\":{},\"id\":\"1287\",\"type\":\"StringEditor\"},{\"attributes\":{},\"id\":\"1275\",\"type\":\"Selection\"},{\"attributes\":{},\"id\":\"1309\",\"type\":\"UnionRenderers\"},{\"attributes\":{},\"id\":\"1282\",\"type\":\"StringEditor\"},{\"attributes\":{\"format\":\"0,0.0[00000]\"},\"id\":\"1296\",\"type\":\"NumberFormatter\"},{\"attributes\":{},\"id\":\"1301\",\"type\":\"NumberFormatter\"},{\"attributes\":{\"children\":[{\"id\":\"1273\"},{\"id\":\"1306\"},{\"id\":\"1312\"}],\"margin\":[0,0,0,0],\"name\":\"Row02036\",\"tags\":[\"embedded\"]},\"id\":\"1272\",\"type\":\"Row\"},{\"attributes\":{\"editor\":{\"id\":\"1292\"},\"field\":\"TotalCoinSupply\",\"formatter\":{\"id\":\"1291\"},\"title\":\"TotalCoinSupply\"},\"id\":\"1293\",\"type\":\"TableColumn\"},{\"attributes\":{},\"id\":\"1297\",\"type\":\"NumberEditor\"},{\"attributes\":{\"editor\":{\"id\":\"1282\"},\"field\":\"Algorithm\",\"formatter\":{\"id\":\"1281\"},\"title\":\"Algorithm\"},\"id\":\"1283\",\"type\":\"TableColumn\"},{\"attributes\":{\"columns\":[{\"id\":\"1278\"},{\"id\":\"1283\"},{\"id\":\"1288\"},{\"id\":\"1293\"},{\"id\":\"1298\"},{\"id\":\"1303\"}],\"height\":300,\"reorderable\":false,\"source\":{\"id\":\"1274\"},\"view\":{\"id\":\"1307\"},\"width\":700},\"id\":\"1306\",\"type\":\"DataTable\"},{\"attributes\":{},\"id\":\"1281\",\"type\":\"StringFormatter\"},{\"attributes\":{\"data\":{\"Algorithm\":[\"Scrypt\",\"Scrypt\",\"X13\",\"SHA-256\",\"Ethash\",\"Scrypt\",\"X11\",\"CryptoNight-V7\",\"Ethash\",\"Equihash\",\"SHA-512\",\"Multiple\",\"SHA-256\",\"SHA-256\",\"Scrypt\",\"X15\",\"X11\",\"Scrypt\",\"Scrypt\",\"Scrypt\",\"Multiple\",\"Scrypt\",\"SHA-256\",\"Scrypt\",\"Scrypt\",\"Scrypt\",\"Quark\",\"Groestl\",\"Scrypt\",\"Scrypt\",\"Scrypt\",\"Scrypt\",\"Scrypt\",\"X11\",\"Scrypt\",\"Groestl\",\"Multiple\",\"SHA-256\",\"Scrypt\",\"Scrypt\",\"Scrypt\",\"Scrypt\",\"PoS\",\"Scrypt\",\"Scrypt\",\"NeoScrypt\",\"Scrypt\",\"Scrypt\",\"Scrypt\",\"Scrypt\",\"X11\",\"Scrypt\",\"X11\",\"SHA-256\",\"Scrypt\",\"Scrypt\",\"Scrypt\",\"SHA3\",\"Scrypt\",\"HybridScryptHash256\",\"Scrypt\",\"Scrypt\",\"SHA-256\",\"Scrypt\",\"X13\",\"Scrypt\",\"SHA-256\",\"Scrypt\",\"X13\",\"NeoScrypt\",\"Scrypt\",\"Scrypt\",\"Scrypt\",\"Scrypt\",\"Scrypt\",\"Scrypt\",\"X11\",\"X11\",\"SHA-256\",\"Multiple\",\"SHA-256\",\"PHI1612\",\"X11\",\"SHA-256\",\"SHA-256\",\"SHA-256\",\"X11\",\"Scrypt\",\"Scrypt\",\"Scrypt\",\"Scrypt\",\"Lyra2REv2\",\"Scrypt\",\"X11\",\"Multiple\",\"SHA-256\",\"X13\",\"Scrypt\",\"CryptoNight\",\"CryptoNight\",\"Shabal256\",\"Counterparty\",\"Scrypt\",\"SHA-256\",\"Groestl\",\"Scrypt\",\"Scrypt\",\"Scrypt\",\"X13\",\"Scrypt\",\"Scrypt\",\"Scrypt\",\"Scrypt\",\"X13\",\"Scrypt\",\"Stanford Folding\",\"X11\",\"Multiple\",\"QuBit\",\"Scrypt\",\"Scrypt\",\"Scrypt\",\"M7 POW\",\"Scrypt\",\"SHA-256\",\"Scrypt\",\"X11\",\"SHA3\",\"X11\",\"Lyra2RE\",\"SHA-256\",\"QUAIT\",\"X11\",\"X11\",\"Scrypt\",\"Scrypt\",\"Scrypt\",\"Ethash\",\"X13\",\"Blake2b\",\"SHA-256\",\"X15\",\"X11\",\"SHA-256\",\"BLAKE256\",\"Scrypt\",\"1GB AES Pattern Search\",\"SHA-256\",\"X11\",\"Scrypt\",\"SHA-256\",\"SHA-256\",\"NIST5\",\"Scrypt\",\"Scrypt\",\"X11\",\"Dagger\",\"Scrypt\",\"X11GOST\",\"X11\",\"Scrypt\",\"SHA-256\",\"Scrypt\",\"PoS\",\"Scrypt\",\"X11\",\"X11\",\"SHA-256\",\"SHA-256\",\"NIST5\",\"X11\",\"Scrypt\",\"POS 3.0\",\"Scrypt\",\"Scrypt\",\"Scrypt\",\"X13\",\"X11\",\"X11\",\"Equihash\",\"X11\",\"Scrypt\",\"CryptoNight\",\"SHA-256\",\"SHA-256\",\"X11\",\"Scrypt\",\"Multiple\",\"Scrypt\",\"Scrypt\",\"Scrypt\",\"SHA-256\",\"Scrypt\",\"Scrypt\",\"SHA-256D\",\"PoS\",\"Scrypt\",\"X11\",\"Lyra2Z\",\"PoS\",\"X13\",\"X14\",\"PoS\",\"SHA-256D\",\"Ethash\",\"Equihash\",\"DPoS\",\"X11\",\"Scrypt\",\"X11\",\"X13\",\"X11\",\"PoS\",\"Scrypt\",\"Scrypt\",\"X11\",\"PoS\",\"X11\",\"SHA-256\",\"Scrypt\",\"X11\",\"Scrypt\",\"Scrypt\",\"X11\",\"CryptoNight\",\"Scrypt\",\"Scrypt\",\"Scrypt\",\"Scrypt\",\"Quark\",\"QuBit\",\"Scrypt\",\"CryptoNight\",\"Lyra2RE\",\"Scrypt\",\"SHA-256\",\"X11\",\"Scrypt\",\"X11\",\"Scrypt\",\"CryptoNight-V7\",\"Scrypt\",\"Scrypt\",\"Scrypt\",\"X13\",\"X11\",\"Equihash\",\"Scrypt\",\"Scrypt\",\"Lyra2RE\",\"Scrypt\",\"Dagger-Hashimoto\",\"X11\",\"Blake2S\",\"X11\",\"Scrypt\",\"PoS\",\"X11\",\"NIST5\",\"PoS\",\"X11\",\"Scrypt\",\"Scrypt\",\"Scrypt\",\"SHA-256\",\"X11\",\"Scrypt\",\"Scrypt\",\"SHA-256\",\"PoS\",\"Scrypt\",\"X15\",\"SHA-256\",\"Scrypt\",\"POS 3.0\",\"CryptoNight-V7\",\"536\",\"Argon2d\",\"Blake2b\",\"Cloverhash\",\"CryptoNight\",\"NIST5\",\"X11\",\"NIST5\",\"Skein\",\"Scrypt\",\"X13\",\"Scrypt\",\"X11\",\"X11\",\"Scrypt\",\"CryptoNight\",\"X13\",\"Time Travel\",\"Scrypt\",\"Keccak\",\"SkunkHash v2 Raptor\",\"X11\",\"Skein\",\"SHA-256\",\"X11\",\"Scrypt\",\"VeChainThor Authority\",\"Scrypt\",\"PoS\",\"Scrypt\",\"Scrypt\",\"Scrypt\",\"Scrypt\",\"Scrypt\",\"Scrypt\",\"Scrypt\",\"CryptoNight\",\"SHA-512\",\"Ouroboros\",\"X11\",\"Equihash\",\"NeoScrypt\",\"X11\",\"Scrypt\",\"NeoScrypt\",\"Lyra2REv2\",\"Equihash\",\"Scrypt\",\"SHA-256\",\"NIST5\",\"PHI1612\",\"Dagger\",\"Scrypt\",\"Quark\",\"Scrypt\",\"POS 2.0\",\"Scrypt\",\"SHA-256\",\"X11\",\"NeoScrypt\",\"Ethash\",\"NeoScrypt\",\"X11\",\"DPoS\",\"NIST5\",\"X13\",\"Multiple\",\"Scrypt\",\"CryptoNight\",\"CryptoNight\",\"Ethash\",\"NIST5\",\"Quark\",\"X11\",\"CryptoNight-V7\",\"Scrypt\",\"Scrypt\",\"Scrypt\",\"X11\",\"BLAKE256\",\"X11\",\"NeoScrypt\",\"Quark\",\"NeoScrypt\",\"Scrypt\",\"Scrypt\",\"Scrypt\",\"X11\",\"X11\",\"SHA-256\",\"C11\",\"POS 3.0\",\"Ethash\",\"Scrypt\",\"CryptoNight\",\"SkunkHash\",\"Scrypt\",\"CryptoNight\",\"Scrypt\",\"Dagger\",\"Lyra2REv2\",\"X13\",\"Proof-of-BibleHash\",\"SHA-256 + Hive\",\"Scrypt\",\"Scrypt\",\"X11\",\"C11\",\"Proof-of-Authority\",\"X11\",\"XEVAN\",\"Scrypt\",\"VBFT\",\"Ethash\",\"CryptoNight\",\"Scrypt\",\"IMesh\",\"NIST5\",\"Scrypt\",\"Scrypt\",\"Equihash\",\"Scrypt\",\"Lyra2Z\",\"Green Protocol\",\"PoS\",\"Scrypt\",\"Semux BFT consensus\",\"X11\",\"Quark\",\"PoS\",\"CryptoNight\",\"X16R\",\"Scrypt\",\"NIST5\",\"Lyra2RE\",\"XEVAN\",\"Tribus\",\"Scrypt\",\"Lyra2Z\",\"CryptoNight\",\"CryptoNight Heavy\",\"CryptoNight\",\"Scrypt\",\"Scrypt\",\"Jump Consistent Hash\",\"SHA-256D\",\"CryptoNight\",\"Scrypt\",\"X15\",\"Scrypt\",\"Quark\",\"SHA-256\",\"DPoS\",\"X16R\",\"HMQ1725\",\"X11\",\"X16R\",\"Quark\",\"Quark\",\"Scrypt\",\"Lyra2REv2\",\"Quark\",\"Scrypt\",\"Scrypt\",\"CryptoNight-V7\",\"Cryptonight-GPU\",\"XEVAN\",\"CryptoNight Heavy\",\"X11\",\"X11\",\"Scrypt\",\"PoS\",\"SHA-256\",\"Keccak\",\"X11\",\"X11\",\"Scrypt\",\"SHA-512\",\"X16R\",\"ECC 256K1\",\"Equihash\",\"XEVAN\",\"Lyra2Z\",\"SHA-256\",\"XEVAN\",\"X11\",\"CryptoNight\",\"Quark\",\"Blake\",\"Blake\",\"Equihash\",\"Exosis\",\"Scrypt\",\"Scrypt\",\"Equihash\",\"Quark\",\"Equihash\",\"Quark\",\"Scrypt\",\"QuBit\",\"X11\",\"Scrypt\",\"XEVAN\",\"SHA-256D\",\"X11\",\"SHA-256\",\"X13\",\"SHA-256\",\"X11\",\"DPoS\",\"Scrypt\",\"Scrypt\",\"X11\",\"NeoScrypt\",\"Scrypt\",\"Blake\",\"Scrypt\",\"SHA-256\",\"Scrypt\",\"X11\",\"Scrypt\",\"Scrypt\",\"SHA-256\",\"X11\",\"SHA-256\",\"Scrypt\",\"Scrypt\",\"Scrypt\",\"Groestl\",\"X11\",\"Scrypt\",\"PoS\",\"Scrypt\",\"Scrypt\",\"X11\",\"SHA-256\",\"DPoS\",\"Scrypt\",\"Scrypt\",\"NeoScrypt\",\"SHA3-256\",\"Multiple\",\"X13\",\"Equihash+Scrypt\",\"DPoS\",\"Ethash\",\"DPoS\",\"SHA-256\",\"Leased POS\",\"PoS\",\"TRC10\",\"PoS\",\"SHA-256\",\"Scrypt\",\"CryptoNight\",\"Equihash\",\"Scrypt\"],\"Class\":{\"__ndarray__\":\"AgAAAAIAAAAEAAAAAAAAAAUAAAAAAAAAAgAAAAUAAAAFAAAABQAAAAIAAAAFAAAAAgAAAAIAAAAAAAAAAgAAAAAAAAAAAAAAAgAAAAIAAAAFAAAABAAAAAAAAAAAAAAAAAAAAAIAAAAAAAAAAAAAAAAAAAACAAAAAAAAAAIAAAAAAAAAAAAAAAIAAAACAAAABQAAAAAAAAAAAAAAAAAAAAAAAAAAAAAAAgAAAAIAAAAAAAAAAAAAAAAAAAAAAAAAAAAAAAIAAAACAAAAAAAAAAIAAAAAAAAAAAAAAAAAAAAAAAAAAgAAAAAAAAAFAAAAAgAAAAAAAAACAAAAAgAAAAIAAAAAAAAAAAAAAAAAAAACAAAAAgAAAAIAAAACAAAAAgAAAAAAAAAAAAAAAAAAAAIAAAACAAAAAAAAAAIAAAAAAAAAAgAAAAIAAAAAAAAAAAAAAAAAAAAAAAAAAgAAAAIAAAAAAAAAAgAAAAAAAAAAAAAAAgAAAAIAAAAAAAAAAgAAAAIAAAAEAAAABQAAAAIAAAACAAAAAAAAAAIAAAACAAAAAAAAAAIAAAAAAAAAAgAAAAAAAAACAAAAAAAAAAIAAAACAAAAAAAAAAUAAAACAAAABQAAAAAAAAAAAAAAAgAAAAAAAAAFAAAAAAAAAAAAAAAAAAAAAgAAAAIAAAAAAAAABQAAAAAAAAACAAAAAAAAAAIAAAAAAAAAAAAAAAIAAAAFAAAAAgAAAAUAAAACAAAAAgAAAAAAAAAAAAAAAgAAAAAAAAAFAAAAAgAAAAIAAAAAAAAAAgAAAAAAAAACAAAAAgAAAAIAAAAAAAAABQAAAAAAAAAFAAAAAgAAAAIAAAACAAAAAgAAAAIAAAAAAAAAAAAAAAIAAAACAAAAAgAAAAIAAAACAAAAAAAAAAIAAAACAAAAAgAAAAIAAAACAAAAAAAAAAIAAAAAAAAAAgAAAAIAAAAFAAAAAgAAAAAAAAACAAAAAgAAAAUAAAACAAAAAAAAAAIAAAAAAAAAAgAAAAAAAAACAAAAAgAAAAIAAAACAAAABQAAAAIAAAACAAAAAgAAAAIAAAACAAAABQAAAAUAAAAEAAAAAgAAAAAAAAAAAAAAAgAAAAIAAAACAAAAAgAAAAIAAAAAAAAAAgAAAAIAAAACAAAAAgAAAAIAAAACAAAAAgAAAAIAAAAFAAAAAgAAAAIAAAACAAAAAgAAAAIAAAACAAAAAAAAAAUAAAAFAAAAAgAAAAIAAAACAAAAAgAAAAAAAAACAAAABQAAAAIAAAACAAAAAAAAAAIAAAAAAAAABQAAAAIAAAAAAAAABQAAAAIAAAAFAAAAAgAAAAIAAAACAAAAAAAAAAIAAAACAAAAAAAAAAIAAAACAAAAAgAAAAIAAAACAAAAAgAAAAIAAAAAAAAAAgAAAAAAAAACAAAAAgAAAAIAAAACAAAAAAAAAAIAAAAFAAAAAgAAAAUAAAAFAAAABQAAAAUAAAACAAAAAAAAAAIAAAACAAAAAAAAAAIAAAAAAAAAAAAAAAAAAAACAAAABQAAAAIAAAAFAAAABAAAAAAAAAACAAAAAAAAAAIAAAAAAAAAAgAAAAIAAAAEAAAAAAAAAAIAAAAAAAAAAAAAAAAAAAAAAAAAAAAAAAIAAAACAAAABQAAAAIAAAACAAAAAgAAAAUAAAACAAAAAAAAAAIAAAAAAAAAAgAAAAUAAAACAAAAAgAAAAIAAAACAAAABQAAAAIAAAACAAAAAAAAAAIAAAACAAAAAgAAAAAAAAAAAAAABQAAAAAAAAACAAAABAAAAAIAAAACAAAABQAAAAIAAAAFAAAABQAAAAUAAAACAAAAAgAAAAAAAAAFAAAAAgAAAAIAAAAAAAAAAgAAAAAAAAAAAAAAAAAAAAIAAAAAAAAAAAAAAAIAAAACAAAAAgAAAAAAAAAAAAAAAAAAAAIAAAAAAAAAAgAAAAQAAAAFAAAAAgAAAAUAAAAAAAAABQAAAAAAAAACAAAAAwAAAAMAAAAAAAAAAAAAAAAAAAACAAAAAwAAAAIAAAACAAAAAgAAAAIAAAAFAAAABQAAAAAAAAAFAAAAAgAAAAIAAAACAAAABQAAAAIAAAAFAAAAAgAAAAIAAAACAAAABAAAAAAAAAACAAAAAgAAAAUAAAACAAAAAgAAAAAAAAAFAAAAAgAAAAUAAAACAAAABQAAAAUAAAAFAAAABQAAAAIAAAACAAAABQAAAAIAAAAFAAAAAgAAAAIAAAAEAAAAAgAAAAIAAAACAAAAAAAAAAUAAAAAAAAAAgAAAAIAAAACAAAAAgAAAAIAAAACAAAAAAAAAAIAAAAFAAAABQAAAAAAAAAFAAAAAgAAAAIAAAACAAAAAgAAAAAAAAACAAAAAgAAAAAAAAACAAAAAgAAAAAAAAADAAAABQAAAAIAAAAFAAAAAAAAAAAAAAACAAAABQAAAAIAAAAFAAAABQAAAAAAAAAFAAAAAAAAAAIAAAAFAAAAAgAAAAUAAAACAAAAAgAAAAAAAAACAAAAAgAAAAIAAAACAAAAAgAAAAAAAAAAAAAAAAAAAAIAAAAEAAAAAgAAAAAAAAACAAAAAAAAAAIAAAAFAAAAAgAAAAIAAAACAAAAAgAAAAAAAAACAAAAAgAAAAIAAAAAAAAAAgAAAAAAAAACAAAAAAAAAAIAAAACAAAAAgAAAAAAAAAAAAAAAgAAAAIAAAAEAAAAAgAAAAIAAAACAAAAAwAAAAUAAAACAAAABQAAAAQAAAAFAAAABAAAAAIAAAADAAAAAgAAAAEAAAACAAAABAAAAAIAAAAFAAAABQAAAAIAAAA=\",\"dtype\":\"int32\",\"order\":\"little\",\"shape\":[533]},\"CoinName\":[\"42 Coin\",\"404Coin\",\"EliteCoin\",\"Bitcoin\",\"Ethereum\",\"Litecoin\",\"Dash\",\"Monero\",\"Ethereum Classic\",\"ZCash\",\"Bitshares\",\"DigiByte\",\"BitcoinDark\",\"PayCoin\",\"ProsperCoin\",\"KoboCoin\",\"Spreadcoin\",\"Argentum\",\"Aurora Coin\",\"BlueCoin\",\"MyriadCoin\",\"MoonCoin\",\"ZetaCoin\",\"SexCoin\",\"Quatloo\",\"EnergyCoin\",\"QuarkCoin\",\"Riecoin\",\"Digitalcoin \",\"BitBar\",\"Catcoin\",\"CryptoBullion\",\"CannaCoin\",\"CryptCoin\",\"CasinoCoin\",\"Diamond\",\"Verge\",\"DevCoin\",\"EarthCoin\",\"E-Gulden\",\"Einsteinium\",\"Emerald\",\"Exclusive Coin\",\"FlutterCoin\",\"Franko\",\"FeatherCoin\",\"GrandCoin\",\"GlobalCoin\",\"GoldCoin\",\"HoboNickels\",\"HyperStake\",\"Infinite Coin\",\"IOCoin\",\"IXcoin\",\"KrugerCoin\",\"LuckyCoin\",\"Litebar \",\"MaxCoin\",\"MegaCoin\",\"MediterraneanCoin\",\"MintCoin\",\"MinCoin\",\"MazaCoin\",\"Nautilus Coin\",\"NavCoin\",\"NobleCoin\",\"Namecoin\",\"NyanCoin\",\"OpalCoin\",\"Orbitcoin\",\"PotCoin\",\"PhoenixCoin\",\"Reddcoin\",\"RonPaulCoin\",\"StableCoin\",\"SmartCoin\",\"SuperCoin\",\"SyncCoin\",\"SysCoin\",\"TeslaCoin\",\"TigerCoin\",\"TittieCoin\",\"TorCoin\",\"TerraCoin\",\"UnbreakableCoin\",\"Unobtanium\",\"UroCoin\",\"UnitaryStatus Dollar\",\"UltraCoin\",\"ViaCoin\",\"VeriCoin\",\"Vertcoin\",\"WorldCoin\",\"X11 Coin\",\"Crypti\",\"JouleCoin\",\"StealthCoin\",\"ZCC Coin\",\"ByteCoin\",\"DigitalNote \",\"BurstCoin\",\"StorjCoin\",\"MonaCoin\",\"Neutron\",\"FairCoin\",\"Gulden\",\"RubyCoin\",\"PesetaCoin\",\"Kore\",\"Wild Beast Coin\",\"Dnotes\",\"Flo\",\"8BIT Coin\",\"Sativa Coin\",\"ArtByte\",\"Folding Coin\",\"Ucoin\",\"Unitus\",\"CypherPunkCoin\",\"OmniCron\",\"Vtorrent\",\"GreenCoin\",\"Cryptonite\",\"MasterCoin\",\"SoonCoin\",\"1Credit\",\"IslaCoin\",\"Nexus\",\"MarsCoin \",\"Crypto\",\"Anarchists Prime\",\"Droidz\",\"BowsCoin\",\"Squall Coin\",\"Song Coin\",\"BitZeny\",\"Diggits\",\"Expanse\",\"Paycon\",\"Siacoin\",\"Emercoin\",\"EverGreenCoin\",\"MindCoin\",\"I0coin\",\"Decred\",\"Revolution VR\",\"HOdlcoin\",\"EDRCoin\",\"Hitcoin\",\"Gamecredits\",\"DubaiCoin\",\"CarpeDiemCoin\",\"PWR Coin\",\"BillaryCoin\",\"GPU Coin\",\"Adzcoin\",\"SoilCoin\",\"YoCoin\",\"SibCoin\",\"EuropeCoin\",\"ZeitCoin\",\"SwingCoin\",\"SafeExchangeCoin\",\"Nebuchadnezzar\",\"Francs\",\"BolivarCoin\",\"Ratecoin\",\"Revenu\",\"Clockcoin\",\"VIP Tokens\",\"BitSend\",\"Omni\",\"Let it Ride\",\"PutinCoin\",\"iBankCoin\",\"Frankywillcoin\",\"MudraCoin\",\"PizzaCoin\",\"Lutetium Coin\",\"Komodo\",\"GoldBlocks\",\"CarterCoin\",\"Karbo\",\"BitTokens\",\"ZayedCoin\",\"MustangCoin\",\"ZoneCoin\",\"Circuits of Value\",\"RootCoin\",\"DopeCoin\",\"BitCurrency\",\"DollarCoin\",\"Swiscoin\",\"Shilling\",\"BuzzCoin\",\"Opair\",\"PesoBit\",\"Halloween Coin\",\"ZCoin\",\"CoffeeCoin\",\"RoyalCoin\",\"GanjaCoin V2\",\"TeamUP\",\"LanaCoin\",\"Elementrem\",\"ZClassic\",\"ARK\",\"InsaneCoin\",\"KiloCoin\",\"ArtexCoin\",\"EmberCoin\",\"XenixCoin\",\"FreeCoin\",\"PLNCoin\",\"AquariusCoin\",\"Kurrent\",\"Creatio\",\"Eternity\",\"Eurocoin\",\"BitcoinFast\",\"Stakenet\",\"BitConnect Coin\",\"MoneyCoin\",\"Enigma\",\"Cannabis Industry Coin\",\"Russiacoin\",\"PandaCoin\",\"GameUnits\",\"GAKHcoin\",\"Allsafe\",\"LiteCreed\",\"OsmiumCoin\",\"Bikercoins\",\"HexxCoin\",\"Klingon Empire Darsek\",\"Internet of People\",\"KushCoin\",\"Printerium\",\"PacCoin\",\"Impeach\",\"Citadel\",\"Zilbercoin\",\"FirstCoin\",\"BeaverCoin\",\"FindCoin\",\"VaultCoin\",\"Zero\",\"OpenChat\",\"Canada eCoin\",\"Zoin\",\"RenosCoin\",\"DubaiCoin\",\"VirtacoinPlus\",\"TajCoin\",\"Impact\",\"EB3coin\",\"Atmos\",\"HappyCoin\",\"Coinonat\",\"MacronCoin\",\"Condensate\",\"Independent Money System\",\"ArgusCoin\",\"LomoCoin\",\"ProCurrency\",\"GoldReserve\",\"BenjiRolls\",\"GrowthCoin\",\"ILCoin\",\"Phreak\",\"Degas Coin\",\"HTML5 Coin\",\"Ultimate Secure Cash\",\"EquiTrader\",\"QTUM\",\"Quantum Resistant Ledger\",\"Espers\",\"Dynamic\",\"Nano\",\"ChanCoin\",\"Dinastycoin\",\"Denarius\",\"DigitalPrice\",\"Virta Unique Coin\",\"Bitcoin Planet\",\"Unify\",\"BritCoin\",\"SocialCoin\",\"ArcticCoin\",\"DAS\",\"Linda\",\"LeviarCoin\",\"DeepOnion\",\"Bitcore\",\"gCn Coin\",\"SmartCash\",\"Signatum\",\"Onix\",\"Cream\",\"Bitcoin Cash\",\"Monoeci\",\"Draftcoin\",\"Vechain\",\"Sojourn Coin\",\"Stakecoin\",\"NewYorkCoin\",\"FrazCoin\",\"Kronecoin\",\"AdCoin\",\"Linx\",\"CoinonatX\",\"Ethereum Dark\",\"Sumokoin\",\"Obsidian\",\"Cardano\",\"Regalcoin\",\"BitcoinZ\",\"TrezarCoin\",\"Elements\",\"TerraNovaCoin\",\"VIVO Coin\",\"Rupee\",\"Bitcoin Gold\",\"WomenCoin\",\"Theresa May Coin\",\"NamoCoin\",\"LUXCoin\",\"Pirl\",\"Xios\",\"Bitcloud 2.0\",\"eBoost\",\"KekCoin\",\"BlackholeCoin\",\"Infinity Economics\",\"Pura\",\"Innova\",\"Ellaism\",\"GoByte\",\"Magnet\",\"Lamden Tau\",\"Electra\",\"Bitcoin Diamond\",\"SHIELD\",\"Cash & Back Coin\",\"UltraNote\",\"BitCoal\",\"DaxxCoin\",\"Bulwark\",\"Kalkulus\",\"AC3\",\"Lethean\",\"GermanCoin\",\"LiteCoin Ultra\",\"PopularCoin\",\"PhantomX\",\"Photon\",\"Sucre\",\"SparksPay\",\"Digiwage\",\"GunCoin\",\"IrishCoin\",\"Trollcoin\",\"Litecoin Plus\",\"Monkey Project\",\"Pioneer Coin\",\"UnitedBitcoin\",\"Interzone\",\"TokenPay\",\"1717 Masonic Commemorative Token\",\"My Big Coin\",\"TurtleCoin\",\"MUNcoin\",\"Unified Society USDEX\",\"Niobio Cash\",\"ShareChain\",\"Travelflex\",\"KREDS\",\"Tokyo Coin\",\"BiblePay\",\"LitecoinCash\",\"BitFlip\",\"LottoCoin\",\"Crypto Improvement Fund\",\"Stipend\",\"Poa Network\",\"Pushi\",\"Ellerium\",\"Velox\",\"Ontology\",\"Callisto Network\",\"BitTube\",\"Poseidon\",\"Aidos Kuneen\",\"Bitspace\",\"Briacoin\",\"Ignition\",\"Bitrolium\",\"MedicCoin\",\"Alpenschillling\",\"Bitcoin Green\",\"Deviant Coin\",\"Abjcoin\",\"Semux\",\"FuturoCoin\",\"Carebit\",\"Zealium\",\"Monero Classic\",\"Proton\",\"iDealCash\",\"Jumpcoin\",\"Infinex\",\"Bitcoin Incognito\",\"KEYCO\",\"HollyWoodCoin\",\"GINcoin\",\"PlatinCoin\",\"Loki\",\"Newton Coin\",\"Swisscoin\",\"Xt3ch\",\"MassGrid\",\"TheVig\",\"PluraCoin\",\"EmaratCoin\",\"Dekado\",\"Lynx\",\"Poseidon Quark\",\"BitcoinWSpectrum\",\"Muse\",\"Motion\",\"PlusOneCoin\",\"Axe\",\"Trivechain\",\"Dystem\",\"Giant\",\"Peony Coin\",\"Absolute Coin\",\"Vitae\",\"HexCoin\",\"TPCash\",\"Webchain\",\"Ryo\",\"Urals Coin\",\"Qwertycoin\",\"ARENON\",\"EUNO\",\"MMOCoin\",\"Ketan\",\"Project Pai\",\"XDNA\",\"PAXEX\",\"Azart\",\"ThunderStake\",\"Kcash\",\"Xchange\",\"Acute Angle Cloud\",\"CrypticCoin\",\"Bettex coin\",\"Actinium\",\"Bitcoin SV\",\"BitMoney\",\"Junson Ming Chan Coin\",\"FREDEnergy\",\"HerbCoin\",\"Universal Molecule\",\"Lithium\",\"PirateCash\",\"Exosis\",\"Block-Logic\",\"Oduwa\",\"Beam\",\"Galilel\",\"Bithereum\",\"Crypto Sports\",\"Credit\",\"SLICE\",\"Dash Platinum\",\"Nasdacoin\",\"Beetle Coin\",\"Titan Coin\",\"Award\",\"BLAST\",\"Bitcoin Rhodium\",\"GlobalToken\",\"Insane Coin\",\"ALAX\",\"LiteDoge\",\"SolarCoin\",\"TruckCoin\",\"UFO Coin\",\"OrangeCoin\",\"BlakeCoin\",\"BitstarCoin\",\"NeosCoin\",\"HyperCoin\",\"PinkCoin\",\"Crypto Escudo\",\"AudioCoin\",\"IncaKoin\",\"Piggy Coin\",\"Crown Coin\",\"Genstake\",\"SmileyCoin\",\"XiaoMiCoin\",\"Groestlcoin\",\"CapriCoin\",\" ClubCoin\",\"Radium\",\"Bata\",\"Pakcoin\",\"Creditbit \",\"OKCash\",\"Lisk\",\"HiCoin\",\"WhiteCoin\",\"FriendshipCoin\",\"Fiii\",\"JoinCoin\",\"Triangles Coin\",\"Vollar\",\"EOS\",\"Reality Clash\",\"Oxycoin\",\"TigerCash\",\"Waves\",\"Particl\",\"BitTorrent\",\"Nxt\",\"ZEPHYR\",\"Gapcoin\",\"Beldex\",\"Horizen\",\"BitcoinPlus\"],\"ProofType\":[\"PoW/PoS\",\"PoW/PoS\",\"PoW/PoS\",\"PoW\",\"PoW\",\"PoW\",\"PoW/PoS\",\"PoW\",\"PoW\",\"PoW\",\"PoS\",\"PoW\",\"PoW/PoS\",\"PoS\",\"PoW\",\"PoW/PoS\",\"PoW\",\"PoW\",\"PoW/PoS\",\"PoW/PoS\",\"PoW\",\"PoW\",\"PoW\",\"PoW\",\"PoW\",\"PoW/PoS\",\"PoW\",\"PoW\",\"PoW\",\"PoW/PoS\",\"PoW\",\"PoW/PoS\",\"PoW\",\"PoW\",\"PoC\",\"PoW/PoS\",\"PoW\",\"PoW\",\"PoW\",\"PoW\",\"PoW\",\"PoW\",\"PoS\",\"PoS/PoW/PoT\",\"PoW\",\"PoW\",\"PoW\",\"PoW\",\"PoW\",\"PoW/PoS\",\"PoS\",\"PoW\",\"PoW/PoS\",\"PoW\",\"PoW\",\"PoW\",\"PoW\",\"PoW/PoS\",\"PoW\",\"PoW\",\"PoS\",\"PoW\",\"PoW/PoS\",\"PoS\",\"PoW/PoS\",\"PoW\",\"PoW\",\"PoW\",\"PoW/PoS\",\"PoW/PoS\",\"PoW/PoS\",\"PoW/PoS\",\"PoW/PoS\",\"PoW\",\"PoW\",\"PoW\",\"PoS\",\"PoW/PoS\",\"PoW\",\"PoS\",\"PoW\",\"PoS\",\"PoW/PoS\",\"PoW\",\"PoW\",\"PoW\",\"PoW\",\"PoW/PoS\",\"PoW/PoS\",\"PoW\",\"PoST\",\"PoW\",\"PoW\",\"PoW/PoS\",\"PoS\",\"PoW\",\"PoW/PoS\",\"PoW/PoS\",\"PoW\",\"PoW\",\"PoC\",\"PoS\",\"PoW\",\"PoW/PoS\",\"PoW/PoS\",\"PoW\",\"PoS\",\"PoW\",\"PoW/PoS\",\"PoW\",\"PoS\",\"PoW\",\"PoW/PoS\",\"PoW/PoS\",\"PoW\",\"PoW\",\"PoS\",\"PoW\",\"PoW\",\"PoW\",\"PoW/PoS\",\"PoW\",\"PoW\",\"PoW\",\"PoW\",\"PoW\",\"PoW/PoS\",\"PoW/nPoS\",\"PoW\",\"PoW\",\"PoW\",\"PoW/PoS\",\"PoW\",\"PoS/PoW\",\"PoW\",\"PoW\",\"PoS\",\"PoW\",\"PoW/PoS\",\"PoW\",\"PoW/PoS\",\"PoW/PoS\",\"PoW\",\"PoW\",\"PoW/PoS\",\"PoW\",\"PoW\",\"PoW/PoS\",\"PoW/PoS\",\"PoW\",\"PoW/PoS\",\"PoW\",\"PoW/PoS\",\"PoW/PoS\",\"PoS\",\"PoW\",\"PoW\",\"PoW\",\"PoW\",\"PoW/PoS\",\"PoS\",\"PoW/PoS\",\"PoC\",\"PoS\",\"PoW\",\"PoW\",\"PoW/PoS\",\"PoW/PoS\",\"PoW/PoS\",\"PoW/PoS\",\"PoW/PoS\",\"PoW\",\"PoS\",\"PoW/PoS\",\"PoW/PoS\",\"PoW/PoS\",\"PoS\",\"PoW\",\"PoS\",\"dPoW/PoW\",\"PoW/PoS\",\"PoW/PoS\",\"PoW\",\"PoW/PoS\",\"PoW\",\"PoW/PoS\",\"PoW/PoS\",\"PoW\",\"PoW/PoS\",\"PoW\",\"PoS\",\"PoW\",\"PoW/PoW\",\"PoW\",\"PoW/PoS\",\"PoS\",\"PoW/PoS\",\"PoW/PoS\",\"PoW\",\"PoS\",\"PoS\",\"PoW/PoS\",\"PoS\",\"PoW/PoS\",\"PoW\",\"PoW\",\"DPoS\",\"PoW/PoS\",\"PoW\",\"PoW\",\"PoW/PoS\",\"PoW/PoS\",\"PoS\",\"PoW/PoS\",\"PoW/PoS\",\"PoW\",\"PoS\",\"PoW/PoS\",\"PoW/PoS\",\"PoW/PoS\",\"TPoS\",\"PoW/PoS\",\"PoW/PoS\",\"PoW/PoS\",\"PoW\",\"PoW/PoS\",\"PoS\",\"PoW/PoS\",\"PoW/PoS\",\"PoS\",\"PoW/PoS\",\"PoW\",\"PoW\",\"PoW\",\"PoW/PoS\",\"PoW/PoS\",\"PoW/PoS\",\"PoW/PoS\",\"PoW\",\"PoW/PoS\",\"PoW\",\"PoS\",\"PoW/PoS \",\"PoW\",\"PoS\",\"PoW\",\"PoW\",\"PoW/PoS\",\"PoW\",\"PoW\",\"PoS\",\"PoW\",\"PoW/PoS\",\"PoW/PoS\",\"PoW/PoS\",\"PoW\",\"PoS\",\"PoW/PoS\",\"PoW\",\"PoS\",\"PoW/PoS\",\"PoW/PoS\",\"PoW/PoS\",\"PoW/PoS\",\"PoS\",\"PoW/PoS\",\"PoW\",\"PoS\",\"PoW\",\"PoS\",\"PoW/PoS\",\"PoW/PoS\",\"PoS\",\"PoW\",\"PoS\",\"PoW\",\"PoW/PoS\",\"PoW\",\"PoW\",\"PoW\",\"PoW\",\"PoW/PoS\",\"PoW\",\"PoW/PoS\",\"PoW/PoS\",\"PoW\",\"PoW/PoS\",\"PoW\",\"PoW\",\"PoW\",\"PoW/PoS\",\"PoW\",\"PoW/PoS\",\"PoW\",\"PoW\",\"PoW\",\"PoS\",\"PoW\",\"PoW/PoS\",\"PoW\",\"PoW/PoS\",\"PoS\",\"Proof of Authority\",\"PoW\",\"PoS\",\"PoW\",\"PoW\",\"PoW\",\"PoW\",\"PoW\",\"PoW/PoS\",\"PoW/PoS\",\"PoW\",\"PoS\",\"PoS\",\"PoW/PoS\",\"PoW\",\"PoW/PoS\",\"PoW\",\"PoW/PoS\",\"PoW\",\"PoS\",\"PoW\",\"PoW/PoS\",\"PoW/PoS\",\"PoW/PoS\",\"PoW/PoS\",\"PoW\",\"PoW/PoS\",\"PoW/PoS\",\"PoW\",\"PoS\",\"PoW/PoS\",\"PoS\",\"PoW\",\"PoW\",\"PoW\",\"PoW\",\"PoW/PoS\",\"DPoS\",\"PoW/PoS\",\"PoW/PoS\",\"PoW\",\"PoW/PoS\",\"PoW\",\"PoW\",\"PoW\",\"PoS\",\"PoS\",\"PoW\",\"PoW\",\"PoW/PoS\",\"PoW/PoS\",\"PoW\",\"PoW/PoS\",\"PoW\",\"PoW\",\"PoW\",\"PoS\",\"PoW\",\"PoW\",\"PoW/PoS\",\"PoW/PoS\",\"PoS\",\"PoW\",\"PoW\",\"PoW\",\"PoS\",\"PoS\",\"PoW and PoS\",\"PoW\",\"PoW\",\"PoW/PoS\",\"PoW\",\"PoW\",\"PoW\",\"PoW\",\"PoS\",\"POBh\",\"PoW + Hive\",\"PoW\",\"PoW\",\"PoW\",\"PoW/PoS\",\"PoA\",\"PoW/PoS\",\"PoW/PoS\",\"PoS\",\"PoS\",\"PoW\",\"PoW\",\"PoW\",\"PoW\",\"PoW/PoS\",\"PoW/PoS\",\"PoW/PoS\",\"PoW\",\"PoS\",\"PoW\",\"PoS\",\"PoS\",\"PoW/PoS\",\"DPoS\",\"PoW\",\"PoW/PoS\",\"PoS\",\"PoW\",\"PoS\",\"PoW/PoS\",\"PoW\",\"PoW\",\"PoS/PoW\",\"PoW\",\"PoS\",\"PoW\",\"PoW\",\"PoW\",\"PoW\",\"PoW/PoS\",\"PoS\",\"PoW\",\"PoW/PoS\",\"PoW\",\"PoW/PoS\",\"PoS\",\"HPoW\",\"PoS\",\"PoS\",\"PoS\",\"PoW\",\"PoW\",\"PoW\",\"PoW/PoS\",\"PoS\",\"PoW/PoS\",\"PoS\",\"PoW/PoS\",\"PoS\",\"PoW\",\"PoW/PoS\",\"PoW\",\"PoW\",\"PoW\",\"PoW\",\"PoS\",\"PoW/PoS\",\"PoS\",\"PoS\",\"PoW\",\"PoW/PoS\",\"PoS\",\"PoW\",\"PoW/PoS\",\"Zero-Knowledge Proof\",\"PoW\",\"DPOS\",\"PoW\",\"PoS\",\"PoW\",\"PoW\",\"Pos\",\"PoS\",\"PoW\",\"PoW/PoS\",\"PoW\",\"PoW\",\"PoS\",\"PoW\",\"PoW\",\"PoW/PoS\",\"PoW\",\"PoW/PoS\",\"PoW\",\"PoS\",\"PoW/PoS\",\"PoW\",\"PoS\",\"PoW/PoS\",\"PoW/PoS\",\"PoW/PoS\",\"PoW/PoS\",\"PoW\",\"PoW\",\"PoW\",\"PoW/PoS\",\"DPoS\",\"PoW/PoS\",\"PoW\",\"PoW/PoS\",\"PoW\",\"PoW/PoS\",\"PoW\",\"PoW/PoS\",\"PoS\",\"PoW/PoS\",\"PoW/PoS\",\"PoW\",\"PoW/PoS\",\"PoW/PoS\",\"PoW/PoS\",\"PoW\",\"PoW/PoS\",\"PoW\",\"PoW/PoS\",\"PoW\",\"PoW/PoS\",\"PoW/PoS\",\"PoS\",\"PoW\",\"PoW\",\"Proof of Trust\",\"PoW/PoS\",\"DPoS\",\"PoS\",\"PoW/PoS\",\"PoW/PoS\",\"DPoC\",\"PoW\",\"PoW/PoS\",\"PoW\",\"DPoS\",\"PoW\",\"DPoS\",\"PoS\",\"LPoS\",\"PoS\",\"DPoS\",\"PoS/LPoS\",\"DPoS\",\"PoW/PoS\",\"PoW\",\"PoW\",\"PoS\"],\"TotalCoinSupply\":{\"__ndarray__\":\"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\",\"dtype\":\"float64\",\"order\":\"little\",\"shape\":[533]},\"TotalCoinsMined\":{\"__ndarray__\":\"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\",\"dtype\":\"float64\",\"order\":\"little\",\"shape\":[533]}},\"selected\":{\"id\":\"1275\"},\"selection_policy\":{\"id\":\"1309\"}},\"id\":\"1274\",\"type\":\"ColumnDataSource\"},{\"attributes\":{},\"id\":\"1286\",\"type\":\"StringFormatter\"},{\"attributes\":{\"editor\":{\"id\":\"1287\"},\"field\":\"ProofType\",\"formatter\":{\"id\":\"1286\"},\"title\":\"ProofType\"},\"id\":\"1288\",\"type\":\"TableColumn\"},{\"attributes\":{},\"id\":\"1292\",\"type\":\"NumberEditor\"},{\"attributes\":{\"margin\":[5,5,5,5],\"name\":\"HSpacer02040\",\"sizing_mode\":\"stretch_width\"},\"id\":\"1273\",\"type\":\"Spacer\"},{\"attributes\":{\"editor\":{\"id\":\"1297\"},\"field\":\"TotalCoinsMined\",\"formatter\":{\"id\":\"1296\"},\"title\":\"TotalCoinsMined\"},\"id\":\"1298\",\"type\":\"TableColumn\"},{\"attributes\":{},\"id\":\"1276\",\"type\":\"StringFormatter\"},{\"attributes\":{\"format\":\"0,0.0[00000]\"},\"id\":\"1291\",\"type\":\"NumberFormatter\"},{\"attributes\":{\"source\":{\"id\":\"1274\"}},\"id\":\"1307\",\"type\":\"CDSView\"},{\"attributes\":{\"editor\":{\"id\":\"1277\"},\"field\":\"CoinName\",\"formatter\":{\"id\":\"1276\"},\"title\":\"CoinName\"},\"id\":\"1278\",\"type\":\"TableColumn\"},{\"attributes\":{},\"id\":\"1277\",\"type\":\"StringEditor\"},{\"attributes\":{\"margin\":[5,5,5,5],\"name\":\"HSpacer02041\",\"sizing_mode\":\"stretch_width\"},\"id\":\"1312\",\"type\":\"Spacer\"},{\"attributes\":{\"editor\":{\"id\":\"1302\"},\"field\":\"Class\",\"formatter\":{\"id\":\"1301\"},\"title\":\"Class\"},\"id\":\"1303\",\"type\":\"TableColumn\"},{\"attributes\":{},\"id\":\"1302\",\"type\":\"IntEditor\"}],\"root_ids\":[\"1272\"]},\"title\":\"Bokeh Application\",\"version\":\"2.2.3\"}};\n    var render_items = [{\"docid\":\"cc8d0420-f86d-4261-b754-df714c3c9c72\",\"root_ids\":[\"1272\"],\"roots\":{\"1272\":\"5ae67fef-3973-4c44-b3fe-1340db0a08cd\"}}];\n    root.Bokeh.embed.embed_items_notebook(docs_json, render_items);\n  }\n  if (root.Bokeh !== undefined && root.Bokeh.Panel !== undefined) {\n    embed_document(root);\n  } else {\n    var attempts = 0;\n    var timer = setInterval(function(root) {\n      if (root.Bokeh !== undefined && root.Bokeh.Panel !== undefined) {\n        clearInterval(timer);\n        embed_document(root);\n      } else if (document.readyState == \"complete\") {\n        attempts++;\n        if (attempts > 100) {\n          clearInterval(timer);\n          console.log(\"Bokeh: ERROR: Unable to run BokehJS code because BokehJS library is missing\");\n        }\n      }\n    }, 10, root)\n  }\n})(window);</script>",
      "application/vnd.holoviews_exec.v0+json": "",
      "text/plain": [
       ":Table   [CoinName,Algorithm,ProofType,TotalCoinSupply,TotalCoinsMined,Class]"
      ]
     },
     "metadata": {
      "application/vnd.holoviews_exec.v0+json": {
       "id": "1272"
      }
     },
     "execution_count": 36
    }
   ],
   "source": [
    "# Table with tradable cryptos\n",
    "columns = ['CoinName', 'Algorithm', 'ProofType', 'TotalCoinSupply', 'TotalCoinsMined', 'Class']\n",
    "clustered_df.hvplot.table(columns)"
   ]
  },
  {
   "cell_type": "code",
   "execution_count": 41,
   "metadata": {},
   "outputs": [
    {
     "output_type": "stream",
     "name": "stdout",
     "text": [
      "6\n"
     ]
    }
   ],
   "source": [
    "# Print the total number of tradable cryptocurrencies\n",
    "print(len(columns))"
   ]
  },
  {
   "cell_type": "markdown",
   "metadata": {},
   "source": [
    "#### Scatter Plot with Tradable Cryptocurrencies"
   ]
  },
  {
   "cell_type": "code",
   "execution_count": 31,
   "metadata": {},
   "outputs": [],
   "source": [
    "# Scale data to create the scatter plot\n",
    "clustered_df['TotalCoinsMined'] = clustered_df['TotalCoinsMined'].astype(float) / 1000000000\n",
    "clustered_df['TotalCoinSupply'] = clustered_df['TotalCoinSupply'].astype(float) / 1000000000"
   ]
  },
  {
   "cell_type": "code",
   "execution_count": 37,
   "metadata": {},
   "outputs": [
    {
     "output_type": "display_data",
     "data": {},
     "metadata": {}
    },
    {
     "output_type": "execute_result",
     "data": {
      "text/html": "<div id='1324'>\n\n\n\n\n\n  <div class=\"bk-root\" id=\"53fc7127-ea3a-41c6-af8f-43898d638e53\" data-root-id=\"1324\"></div>\n</div>\n<script type=\"application/javascript\">(function(root) {\n  function embed_document(root) {\n    var docs_json = {\"be2feda7-36f5-4faf-a13d-f1f200dfc867\":{\"roots\":{\"references\":[{\"attributes\":{\"bottom_units\":\"screen\",\"fill_alpha\":0.5,\"fill_color\":\"lightgrey\",\"left_units\":\"screen\",\"level\":\"overlay\",\"line_alpha\":1.0,\"line_color\":\"black\",\"line_dash\":[4,4],\"line_width\":2,\"right_units\":\"screen\",\"top_units\":\"screen\"},\"id\":\"1351\",\"type\":\"BoxAnnotation\"},{\"attributes\":{\"below\":[{\"id\":\"1338\"}],\"center\":[{\"id\":\"1341\"},{\"id\":\"1345\"}],\"left\":[{\"id\":\"1342\"}],\"margin\":[5,5,5,5],\"min_border_bottom\":10,\"min_border_left\":10,\"min_border_right\":10,\"min_border_top\":10,\"plot_height\":300,\"plot_width\":700,\"renderers\":[{\"id\":\"1368\"}],\"right\":[{\"id\":\"1371\"}],\"sizing_mode\":\"fixed\",\"title\":{\"id\":\"1330\"},\"toolbar\":{\"id\":\"1352\"},\"x_range\":{\"id\":\"1326\"},\"x_scale\":{\"id\":\"1334\"},\"y_range\":{\"id\":\"1327\"},\"y_scale\":{\"id\":\"1336\"}},\"id\":\"1329\",\"subtype\":\"Figure\",\"type\":\"Plot\"},{\"attributes\":{\"fill_alpha\":{\"value\":0.2},\"fill_color\":{\"field\":\"color\",\"transform\":{\"id\":\"1359\"}},\"line_alpha\":{\"value\":0.2},\"line_color\":{\"field\":\"color\",\"transform\":{\"id\":\"1359\"}},\"size\":{\"units\":\"screen\",\"value\":5.477225575051661},\"x\":{\"field\":\"TotalCoinsMined\"},\"y\":{\"field\":\"TotalCoinSupply\"}},\"id\":\"1367\",\"type\":\"Scatter\"},{\"attributes\":{\"fill_color\":{\"field\":\"color\",\"transform\":{\"id\":\"1359\"}},\"line_color\":{\"field\":\"color\",\"transform\":{\"id\":\"1359\"}},\"size\":{\"units\":\"screen\",\"value\":5.477225575051661},\"x\":{\"field\":\"TotalCoinsMined\"},\"y\":{\"field\":\"TotalCoinSupply\"}},\"id\":\"1363\",\"type\":\"Scatter\"},{\"attributes\":{\"end\":1032.6704287676898,\"reset_end\":1032.6704287676898,\"reset_start\":-48.59969287600845,\"start\":-48.59969287600845,\"tags\":[[[\"TotalCoinsMined\",\"TotalCoinsMined\",null]]]},\"id\":\"1326\",\"type\":\"Range1d\"},{\"attributes\":{\"high\":5,\"low\":0,\"palette\":[\"#440154\",\"#440255\",\"#440357\",\"#450558\",\"#45065a\",\"#45085b\",\"#46095c\",\"#460b5e\",\"#460c5f\",\"#460e61\",\"#470f62\",\"#471163\",\"#471265\",\"#471466\",\"#471567\",\"#471669\",\"#47186a\",\"#48196b\",\"#481a6c\",\"#481c6e\",\"#481d6f\",\"#481e70\",\"#482071\",\"#482172\",\"#482273\",\"#482374\",\"#472575\",\"#472676\",\"#472777\",\"#472878\",\"#472a79\",\"#472b7a\",\"#472c7b\",\"#462d7c\",\"#462f7c\",\"#46307d\",\"#46317e\",\"#45327f\",\"#45347f\",\"#453580\",\"#453681\",\"#443781\",\"#443982\",\"#433a83\",\"#433b83\",\"#433c84\",\"#423d84\",\"#423e85\",\"#424085\",\"#414186\",\"#414286\",\"#404387\",\"#404487\",\"#3f4587\",\"#3f4788\",\"#3e4888\",\"#3e4989\",\"#3d4a89\",\"#3d4b89\",\"#3d4c89\",\"#3c4d8a\",\"#3c4e8a\",\"#3b508a\",\"#3b518a\",\"#3a528b\",\"#3a538b\",\"#39548b\",\"#39558b\",\"#38568b\",\"#38578c\",\"#37588c\",\"#37598c\",\"#365a8c\",\"#365b8c\",\"#355c8c\",\"#355d8c\",\"#345e8d\",\"#345f8d\",\"#33608d\",\"#33618d\",\"#32628d\",\"#32638d\",\"#31648d\",\"#31658d\",\"#31668d\",\"#30678d\",\"#30688d\",\"#2f698d\",\"#2f6a8d\",\"#2e6b8e\",\"#2e6c8e\",\"#2e6d8e\",\"#2d6e8e\",\"#2d6f8e\",\"#2c708e\",\"#2c718e\",\"#2c728e\",\"#2b738e\",\"#2b748e\",\"#2a758e\",\"#2a768e\",\"#2a778e\",\"#29788e\",\"#29798e\",\"#287a8e\",\"#287a8e\",\"#287b8e\",\"#277c8e\",\"#277d8e\",\"#277e8e\",\"#267f8e\",\"#26808e\",\"#26818e\",\"#25828e\",\"#25838d\",\"#24848d\",\"#24858d\",\"#24868d\",\"#23878d\",\"#23888d\",\"#23898d\",\"#22898d\",\"#228a8d\",\"#228b8d\",\"#218c8d\",\"#218d8c\",\"#218e8c\",\"#208f8c\",\"#20908c\",\"#20918c\",\"#1f928c\",\"#1f938b\",\"#1f948b\",\"#1f958b\",\"#1f968b\",\"#1e978a\",\"#1e988a\",\"#1e998a\",\"#1e998a\",\"#1e9a89\",\"#1e9b89\",\"#1e9c89\",\"#1e9d88\",\"#1e9e88\",\"#1e9f88\",\"#1ea087\",\"#1fa187\",\"#1fa286\",\"#1fa386\",\"#20a485\",\"#20a585\",\"#21a685\",\"#21a784\",\"#22a784\",\"#23a883\",\"#23a982\",\"#24aa82\",\"#25ab81\",\"#26ac81\",\"#27ad80\",\"#28ae7f\",\"#29af7f\",\"#2ab07e\",\"#2bb17d\",\"#2cb17d\",\"#2eb27c\",\"#2fb37b\",\"#30b47a\",\"#32b57a\",\"#33b679\",\"#35b778\",\"#36b877\",\"#38b976\",\"#39b976\",\"#3bba75\",\"#3dbb74\",\"#3ebc73\",\"#40bd72\",\"#42be71\",\"#44be70\",\"#45bf6f\",\"#47c06e\",\"#49c16d\",\"#4bc26c\",\"#4dc26b\",\"#4fc369\",\"#51c468\",\"#53c567\",\"#55c666\",\"#57c665\",\"#59c764\",\"#5bc862\",\"#5ec961\",\"#60c960\",\"#62ca5f\",\"#64cb5d\",\"#67cc5c\",\"#69cc5b\",\"#6bcd59\",\"#6dce58\",\"#70ce56\",\"#72cf55\",\"#74d054\",\"#77d052\",\"#79d151\",\"#7cd24f\",\"#7ed24e\",\"#81d34c\",\"#83d34b\",\"#86d449\",\"#88d547\",\"#8bd546\",\"#8dd644\",\"#90d643\",\"#92d741\",\"#95d73f\",\"#97d83e\",\"#9ad83c\",\"#9dd93a\",\"#9fd938\",\"#a2da37\",\"#a5da35\",\"#a7db33\",\"#aadb32\",\"#addc30\",\"#afdc2e\",\"#b2dd2c\",\"#b5dd2b\",\"#b7dd29\",\"#bade27\",\"#bdde26\",\"#bfdf24\",\"#c2df22\",\"#c5df21\",\"#c7e01f\",\"#cae01e\",\"#cde01d\",\"#cfe11c\",\"#d2e11b\",\"#d4e11a\",\"#d7e219\",\"#dae218\",\"#dce218\",\"#dfe318\",\"#e1e318\",\"#e4e318\",\"#e7e419\",\"#e9e419\",\"#ece41a\",\"#eee51b\",\"#f1e51c\",\"#f3e51e\",\"#f6e61f\",\"#f8e621\",\"#fae622\",\"#fde724\"]},\"id\":\"1359\",\"type\":\"LinearColorMapper\"},{\"attributes\":{\"fill_alpha\":{\"value\":0.1},\"fill_color\":{\"field\":\"color\",\"transform\":{\"id\":\"1359\"}},\"line_alpha\":{\"value\":0.1},\"line_color\":{\"field\":\"color\",\"transform\":{\"id\":\"1359\"}},\"size\":{\"units\":\"screen\",\"value\":5.477225575051661},\"x\":{\"field\":\"TotalCoinsMined\"},\"y\":{\"field\":\"TotalCoinSupply\"}},\"id\":\"1364\",\"type\":\"Scatter\"},{\"attributes\":{},\"id\":\"1346\",\"type\":\"SaveTool\"},{\"attributes\":{\"source\":{\"id\":\"1360\"}},\"id\":\"1369\",\"type\":\"CDSView\"},{\"attributes\":{},\"id\":\"1347\",\"type\":\"PanTool\"},{\"attributes\":{},\"id\":\"1375\",\"type\":\"BasicTickFormatter\"},{\"attributes\":{},\"id\":\"1334\",\"type\":\"LinearScale\"},{\"attributes\":{},\"id\":\"1348\",\"type\":\"WheelZoomTool\"},{\"attributes\":{\"active_drag\":\"auto\",\"active_inspect\":\"auto\",\"active_multi\":null,\"active_scroll\":\"auto\",\"active_tap\":\"auto\",\"tools\":[{\"id\":\"1328\"},{\"id\":\"1346\"},{\"id\":\"1347\"},{\"id\":\"1348\"},{\"id\":\"1349\"},{\"id\":\"1350\"}]},\"id\":\"1352\",\"type\":\"Toolbar\"},{\"attributes\":{},\"id\":\"1339\",\"type\":\"BasicTicker\"},{\"attributes\":{\"callback\":null,\"renderers\":[{\"id\":\"1368\"}],\"tags\":[\"hv_created\"],\"tooltips\":[[\"TotalCoinsMined\",\"@{TotalCoinsMined}\"],[\"TotalCoinSupply\",\"@{TotalCoinSupply}\"],[\"Class\",\"@{Class}\"],[\"CoinName\",\"@{CoinName}\"]]},\"id\":\"1328\",\"type\":\"HoverTool\"},{\"attributes\":{\"overlay\":{\"id\":\"1351\"}},\"id\":\"1349\",\"type\":\"BoxZoomTool\"},{\"attributes\":{\"data\":{\"Class\":{\"__ndarray__\":\"AgAAAAIAAAAEAAAAAAAAAAUAAAAAAAAAAgAAAAUAAAAFAAAABQAAAAIAAAAFAAAAAgAAAAIAAAAAAAAAAgAAAAAAAAAAAAAAAgAAAAIAAAAFAAAABAAAAAAAAAAAAAAAAAAAAAIAAAAAAAAAAAAAAAAAAAACAAAAAAAAAAIAAAAAAAAAAAAAAAIAAAACAAAABQAAAAAAAAAAAAAAAAAAAAAAAAAAAAAAAgAAAAIAAAAAAAAAAAAAAAAAAAAAAAAAAAAAAAIAAAACAAAAAAAAAAIAAAAAAAAAAAAAAAAAAAAAAAAAAgAAAAAAAAAFAAAAAgAAAAAAAAACAAAAAgAAAAIAAAAAAAAAAAAAAAAAAAACAAAAAgAAAAIAAAACAAAAAgAAAAAAAAAAAAAAAAAAAAIAAAACAAAAAAAAAAIAAAAAAAAAAgAAAAIAAAAAAAAAAAAAAAAAAAAAAAAAAgAAAAIAAAAAAAAAAgAAAAAAAAAAAAAAAgAAAAIAAAAAAAAAAgAAAAIAAAAEAAAABQAAAAIAAAACAAAAAAAAAAIAAAACAAAAAAAAAAIAAAAAAAAAAgAAAAAAAAACAAAAAAAAAAIAAAACAAAAAAAAAAUAAAACAAAABQAAAAAAAAAAAAAAAgAAAAAAAAAFAAAAAAAAAAAAAAAAAAAAAgAAAAIAAAAAAAAABQAAAAAAAAACAAAAAAAAAAIAAAAAAAAAAAAAAAIAAAAFAAAAAgAAAAUAAAACAAAAAgAAAAAAAAAAAAAAAgAAAAAAAAAFAAAAAgAAAAIAAAAAAAAAAgAAAAAAAAACAAAAAgAAAAIAAAAAAAAABQAAAAAAAAAFAAAAAgAAAAIAAAACAAAAAgAAAAIAAAAAAAAAAAAAAAIAAAACAAAAAgAAAAIAAAACAAAAAAAAAAIAAAACAAAAAgAAAAIAAAACAAAAAAAAAAIAAAAAAAAAAgAAAAIAAAAFAAAAAgAAAAAAAAACAAAAAgAAAAUAAAACAAAAAAAAAAIAAAAAAAAAAgAAAAAAAAACAAAAAgAAAAIAAAACAAAABQAAAAIAAAACAAAAAgAAAAIAAAACAAAABQAAAAUAAAAEAAAAAgAAAAAAAAAAAAAAAgAAAAIAAAACAAAAAgAAAAIAAAAAAAAAAgAAAAIAAAACAAAAAgAAAAIAAAACAAAAAgAAAAIAAAAFAAAAAgAAAAIAAAACAAAAAgAAAAIAAAACAAAAAAAAAAUAAAAFAAAAAgAAAAIAAAACAAAAAgAAAAAAAAACAAAABQAAAAIAAAACAAAAAAAAAAIAAAAAAAAABQAAAAIAAAAAAAAABQAAAAIAAAAFAAAAAgAAAAIAAAACAAAAAAAAAAIAAAACAAAAAAAAAAIAAAACAAAAAgAAAAIAAAACAAAAAgAAAAIAAAAAAAAAAgAAAAAAAAACAAAAAgAAAAIAAAACAAAAAAAAAAIAAAAFAAAAAgAAAAUAAAAFAAAABQAAAAUAAAACAAAAAAAAAAIAAAACAAAAAAAAAAIAAAAAAAAAAAAAAAAAAAACAAAABQAAAAIAAAAFAAAABAAAAAAAAAACAAAAAAAAAAIAAAAAAAAAAgAAAAIAAAAEAAAAAAAAAAIAAAAAAAAAAAAAAAAAAAAAAAAAAAAAAAIAAAACAAAABQAAAAIAAAACAAAAAgAAAAUAAAACAAAAAAAAAAIAAAAAAAAAAgAAAAUAAAACAAAAAgAAAAIAAAACAAAABQAAAAIAAAACAAAAAAAAAAIAAAACAAAAAgAAAAAAAAAAAAAABQAAAAAAAAACAAAABAAAAAIAAAACAAAABQAAAAIAAAAFAAAABQAAAAUAAAACAAAAAgAAAAAAAAAFAAAAAgAAAAIAAAAAAAAAAgAAAAAAAAAAAAAAAAAAAAIAAAAAAAAAAAAAAAIAAAACAAAAAgAAAAAAAAAAAAAAAAAAAAIAAAAAAAAAAgAAAAQAAAAFAAAAAgAAAAUAAAAAAAAABQAAAAAAAAACAAAAAwAAAAMAAAAAAAAAAAAAAAAAAAACAAAAAwAAAAIAAAACAAAAAgAAAAIAAAAFAAAABQAAAAAAAAAFAAAAAgAAAAIAAAACAAAABQAAAAIAAAAFAAAAAgAAAAIAAAACAAAABAAAAAAAAAACAAAAAgAAAAUAAAACAAAAAgAAAAAAAAAFAAAAAgAAAAUAAAACAAAABQAAAAUAAAAFAAAABQAAAAIAAAACAAAABQAAAAIAAAAFAAAAAgAAAAIAAAAEAAAAAgAAAAIAAAACAAAAAAAAAAUAAAAAAAAAAgAAAAIAAAACAAAAAgAAAAIAAAACAAAAAAAAAAIAAAAFAAAABQAAAAAAAAAFAAAAAgAAAAIAAAACAAAAAgAAAAAAAAACAAAAAgAAAAAAAAACAAAAAgAAAAAAAAADAAAABQAAAAIAAAAFAAAAAAAAAAAAAAACAAAABQAAAAIAAAAFAAAABQAAAAAAAAAFAAAAAAAAAAIAAAAFAAAAAgAAAAUAAAACAAAAAgAAAAAAAAACAAAAAgAAAAIAAAACAAAAAgAAAAAAAAAAAAAAAAAAAAIAAAAEAAAAAgAAAAAAAAACAAAAAAAAAAIAAAAFAAAAAgAAAAIAAAACAAAAAgAAAAAAAAACAAAAAgAAAAIAAAAAAAAAAgAAAAAAAAACAAAAAAAAAAIAAAACAAAAAgAAAAAAAAAAAAAAAgAAAAIAAAAEAAAAAgAAAAIAAAACAAAAAwAAAAUAAAACAAAABQAAAAQAAAAFAAAABAAAAAIAAAADAAAAAgAAAAEAAAACAAAABAAAAAIAAAAFAAAABQAAAAIAAAA=\",\"dtype\":\"int32\",\"order\":\"little\",\"shape\":[533]},\"CoinName\":[\"42 Coin\",\"404Coin\",\"EliteCoin\",\"Bitcoin\",\"Ethereum\",\"Litecoin\",\"Dash\",\"Monero\",\"Ethereum Classic\",\"ZCash\",\"Bitshares\",\"DigiByte\",\"BitcoinDark\",\"PayCoin\",\"ProsperCoin\",\"KoboCoin\",\"Spreadcoin\",\"Argentum\",\"Aurora Coin\",\"BlueCoin\",\"MyriadCoin\",\"MoonCoin\",\"ZetaCoin\",\"SexCoin\",\"Quatloo\",\"EnergyCoin\",\"QuarkCoin\",\"Riecoin\",\"Digitalcoin \",\"BitBar\",\"Catcoin\",\"CryptoBullion\",\"CannaCoin\",\"CryptCoin\",\"CasinoCoin\",\"Diamond\",\"Verge\",\"DevCoin\",\"EarthCoin\",\"E-Gulden\",\"Einsteinium\",\"Emerald\",\"Exclusive Coin\",\"FlutterCoin\",\"Franko\",\"FeatherCoin\",\"GrandCoin\",\"GlobalCoin\",\"GoldCoin\",\"HoboNickels\",\"HyperStake\",\"Infinite Coin\",\"IOCoin\",\"IXcoin\",\"KrugerCoin\",\"LuckyCoin\",\"Litebar \",\"MaxCoin\",\"MegaCoin\",\"MediterraneanCoin\",\"MintCoin\",\"MinCoin\",\"MazaCoin\",\"Nautilus Coin\",\"NavCoin\",\"NobleCoin\",\"Namecoin\",\"NyanCoin\",\"OpalCoin\",\"Orbitcoin\",\"PotCoin\",\"PhoenixCoin\",\"Reddcoin\",\"RonPaulCoin\",\"StableCoin\",\"SmartCoin\",\"SuperCoin\",\"SyncCoin\",\"SysCoin\",\"TeslaCoin\",\"TigerCoin\",\"TittieCoin\",\"TorCoin\",\"TerraCoin\",\"UnbreakableCoin\",\"Unobtanium\",\"UroCoin\",\"UnitaryStatus Dollar\",\"UltraCoin\",\"ViaCoin\",\"VeriCoin\",\"Vertcoin\",\"WorldCoin\",\"X11 Coin\",\"Crypti\",\"JouleCoin\",\"StealthCoin\",\"ZCC Coin\",\"ByteCoin\",\"DigitalNote \",\"BurstCoin\",\"StorjCoin\",\"MonaCoin\",\"Neutron\",\"FairCoin\",\"Gulden\",\"RubyCoin\",\"PesetaCoin\",\"Kore\",\"Wild Beast Coin\",\"Dnotes\",\"Flo\",\"8BIT Coin\",\"Sativa Coin\",\"ArtByte\",\"Folding Coin\",\"Ucoin\",\"Unitus\",\"CypherPunkCoin\",\"OmniCron\",\"Vtorrent\",\"GreenCoin\",\"Cryptonite\",\"MasterCoin\",\"SoonCoin\",\"1Credit\",\"IslaCoin\",\"Nexus\",\"MarsCoin \",\"Crypto\",\"Anarchists Prime\",\"Droidz\",\"BowsCoin\",\"Squall Coin\",\"Song Coin\",\"BitZeny\",\"Diggits\",\"Expanse\",\"Paycon\",\"Siacoin\",\"Emercoin\",\"EverGreenCoin\",\"MindCoin\",\"I0coin\",\"Decred\",\"Revolution VR\",\"HOdlcoin\",\"EDRCoin\",\"Hitcoin\",\"Gamecredits\",\"DubaiCoin\",\"CarpeDiemCoin\",\"PWR Coin\",\"BillaryCoin\",\"GPU Coin\",\"Adzcoin\",\"SoilCoin\",\"YoCoin\",\"SibCoin\",\"EuropeCoin\",\"ZeitCoin\",\"SwingCoin\",\"SafeExchangeCoin\",\"Nebuchadnezzar\",\"Francs\",\"BolivarCoin\",\"Ratecoin\",\"Revenu\",\"Clockcoin\",\"VIP Tokens\",\"BitSend\",\"Omni\",\"Let it Ride\",\"PutinCoin\",\"iBankCoin\",\"Frankywillcoin\",\"MudraCoin\",\"PizzaCoin\",\"Lutetium Coin\",\"Komodo\",\"GoldBlocks\",\"CarterCoin\",\"Karbo\",\"BitTokens\",\"ZayedCoin\",\"MustangCoin\",\"ZoneCoin\",\"Circuits of Value\",\"RootCoin\",\"DopeCoin\",\"BitCurrency\",\"DollarCoin\",\"Swiscoin\",\"Shilling\",\"BuzzCoin\",\"Opair\",\"PesoBit\",\"Halloween Coin\",\"ZCoin\",\"CoffeeCoin\",\"RoyalCoin\",\"GanjaCoin V2\",\"TeamUP\",\"LanaCoin\",\"Elementrem\",\"ZClassic\",\"ARK\",\"InsaneCoin\",\"KiloCoin\",\"ArtexCoin\",\"EmberCoin\",\"XenixCoin\",\"FreeCoin\",\"PLNCoin\",\"AquariusCoin\",\"Kurrent\",\"Creatio\",\"Eternity\",\"Eurocoin\",\"BitcoinFast\",\"Stakenet\",\"BitConnect Coin\",\"MoneyCoin\",\"Enigma\",\"Cannabis Industry Coin\",\"Russiacoin\",\"PandaCoin\",\"GameUnits\",\"GAKHcoin\",\"Allsafe\",\"LiteCreed\",\"OsmiumCoin\",\"Bikercoins\",\"HexxCoin\",\"Klingon Empire Darsek\",\"Internet of People\",\"KushCoin\",\"Printerium\",\"PacCoin\",\"Impeach\",\"Citadel\",\"Zilbercoin\",\"FirstCoin\",\"BeaverCoin\",\"FindCoin\",\"VaultCoin\",\"Zero\",\"OpenChat\",\"Canada eCoin\",\"Zoin\",\"RenosCoin\",\"DubaiCoin\",\"VirtacoinPlus\",\"TajCoin\",\"Impact\",\"EB3coin\",\"Atmos\",\"HappyCoin\",\"Coinonat\",\"MacronCoin\",\"Condensate\",\"Independent Money System\",\"ArgusCoin\",\"LomoCoin\",\"ProCurrency\",\"GoldReserve\",\"BenjiRolls\",\"GrowthCoin\",\"ILCoin\",\"Phreak\",\"Degas Coin\",\"HTML5 Coin\",\"Ultimate Secure Cash\",\"EquiTrader\",\"QTUM\",\"Quantum Resistant Ledger\",\"Espers\",\"Dynamic\",\"Nano\",\"ChanCoin\",\"Dinastycoin\",\"Denarius\",\"DigitalPrice\",\"Virta Unique Coin\",\"Bitcoin Planet\",\"Unify\",\"BritCoin\",\"SocialCoin\",\"ArcticCoin\",\"DAS\",\"Linda\",\"LeviarCoin\",\"DeepOnion\",\"Bitcore\",\"gCn Coin\",\"SmartCash\",\"Signatum\",\"Onix\",\"Cream\",\"Bitcoin Cash\",\"Monoeci\",\"Draftcoin\",\"Vechain\",\"Sojourn Coin\",\"Stakecoin\",\"NewYorkCoin\",\"FrazCoin\",\"Kronecoin\",\"AdCoin\",\"Linx\",\"CoinonatX\",\"Ethereum Dark\",\"Sumokoin\",\"Obsidian\",\"Cardano\",\"Regalcoin\",\"BitcoinZ\",\"TrezarCoin\",\"Elements\",\"TerraNovaCoin\",\"VIVO Coin\",\"Rupee\",\"Bitcoin Gold\",\"WomenCoin\",\"Theresa May Coin\",\"NamoCoin\",\"LUXCoin\",\"Pirl\",\"Xios\",\"Bitcloud 2.0\",\"eBoost\",\"KekCoin\",\"BlackholeCoin\",\"Infinity Economics\",\"Pura\",\"Innova\",\"Ellaism\",\"GoByte\",\"Magnet\",\"Lamden Tau\",\"Electra\",\"Bitcoin Diamond\",\"SHIELD\",\"Cash & Back Coin\",\"UltraNote\",\"BitCoal\",\"DaxxCoin\",\"Bulwark\",\"Kalkulus\",\"AC3\",\"Lethean\",\"GermanCoin\",\"LiteCoin Ultra\",\"PopularCoin\",\"PhantomX\",\"Photon\",\"Sucre\",\"SparksPay\",\"Digiwage\",\"GunCoin\",\"IrishCoin\",\"Trollcoin\",\"Litecoin Plus\",\"Monkey Project\",\"Pioneer Coin\",\"UnitedBitcoin\",\"Interzone\",\"TokenPay\",\"1717 Masonic Commemorative Token\",\"My Big Coin\",\"TurtleCoin\",\"MUNcoin\",\"Unified Society USDEX\",\"Niobio Cash\",\"ShareChain\",\"Travelflex\",\"KREDS\",\"Tokyo Coin\",\"BiblePay\",\"LitecoinCash\",\"BitFlip\",\"LottoCoin\",\"Crypto Improvement Fund\",\"Stipend\",\"Poa Network\",\"Pushi\",\"Ellerium\",\"Velox\",\"Ontology\",\"Callisto Network\",\"BitTube\",\"Poseidon\",\"Aidos Kuneen\",\"Bitspace\",\"Briacoin\",\"Ignition\",\"Bitrolium\",\"MedicCoin\",\"Alpenschillling\",\"Bitcoin Green\",\"Deviant Coin\",\"Abjcoin\",\"Semux\",\"FuturoCoin\",\"Carebit\",\"Zealium\",\"Monero Classic\",\"Proton\",\"iDealCash\",\"Jumpcoin\",\"Infinex\",\"Bitcoin Incognito\",\"KEYCO\",\"HollyWoodCoin\",\"GINcoin\",\"PlatinCoin\",\"Loki\",\"Newton Coin\",\"Swisscoin\",\"Xt3ch\",\"MassGrid\",\"TheVig\",\"PluraCoin\",\"EmaratCoin\",\"Dekado\",\"Lynx\",\"Poseidon Quark\",\"BitcoinWSpectrum\",\"Muse\",\"Motion\",\"PlusOneCoin\",\"Axe\",\"Trivechain\",\"Dystem\",\"Giant\",\"Peony Coin\",\"Absolute Coin\",\"Vitae\",\"HexCoin\",\"TPCash\",\"Webchain\",\"Ryo\",\"Urals Coin\",\"Qwertycoin\",\"ARENON\",\"EUNO\",\"MMOCoin\",\"Ketan\",\"Project Pai\",\"XDNA\",\"PAXEX\",\"Azart\",\"ThunderStake\",\"Kcash\",\"Xchange\",\"Acute Angle Cloud\",\"CrypticCoin\",\"Bettex coin\",\"Actinium\",\"Bitcoin SV\",\"BitMoney\",\"Junson Ming Chan Coin\",\"FREDEnergy\",\"HerbCoin\",\"Universal Molecule\",\"Lithium\",\"PirateCash\",\"Exosis\",\"Block-Logic\",\"Oduwa\",\"Beam\",\"Galilel\",\"Bithereum\",\"Crypto Sports\",\"Credit\",\"SLICE\",\"Dash Platinum\",\"Nasdacoin\",\"Beetle Coin\",\"Titan Coin\",\"Award\",\"BLAST\",\"Bitcoin Rhodium\",\"GlobalToken\",\"Insane Coin\",\"ALAX\",\"LiteDoge\",\"SolarCoin\",\"TruckCoin\",\"UFO Coin\",\"OrangeCoin\",\"BlakeCoin\",\"BitstarCoin\",\"NeosCoin\",\"HyperCoin\",\"PinkCoin\",\"Crypto Escudo\",\"AudioCoin\",\"IncaKoin\",\"Piggy Coin\",\"Crown Coin\",\"Genstake\",\"SmileyCoin\",\"XiaoMiCoin\",\"Groestlcoin\",\"CapriCoin\",\" ClubCoin\",\"Radium\",\"Bata\",\"Pakcoin\",\"Creditbit \",\"OKCash\",\"Lisk\",\"HiCoin\",\"WhiteCoin\",\"FriendshipCoin\",\"Fiii\",\"JoinCoin\",\"Triangles Coin\",\"Vollar\",\"EOS\",\"Reality Clash\",\"Oxycoin\",\"TigerCash\",\"Waves\",\"Particl\",\"BitTorrent\",\"Nxt\",\"ZEPHYR\",\"Gapcoin\",\"Beldex\",\"Horizen\",\"BitcoinPlus\"],\"TotalCoinSupply\":{\"__ndarray__\":\"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\",\"dtype\":\"float64\",\"order\":\"little\",\"shape\":[533]},\"TotalCoinsMined\":{\"__ndarray__\":\"EzTWAG6MZj6N6leQCeLwP6RYP1+IRz1Aa7NWWYBbkj+u07t2MZG7P0GOVgBXI7A/HQXfz/9+gj9NfAstLZ2RP+K7ETkkBb0/aWM2ErI9fj/Jjo1AvO4FQFs1i/T7zyZA+E/mCOEdVT95pUaYApGIP4Hd2eyCoHc/41wIjNInmj938Qf3q9WGP7LdDyJa/4g/No6E9QGSkj/HGLOAZFXkPwBUceMWA/s/DGc1X1Cfdz7F/NDnQcnFP9ogORgjgcA/lEsSADUjfj95xTMyC4G/PzIXsKeVnNA/FGZ9oW5eqT/GsG96cB+hP7R8qK/rUgY/k6XJWqySfT/jUzgCXwZRP3Z5HwtgRHM/UfxQRbh3dD+TfFnp//9DQAn5wVkDEms/AwGhcevbL0CqQ26GG8YyQEjlbsz5EylAbFd3eo5plT8qkb2K/gPMPwWJUS739pM/WGadM5pDdz9C9uwEn47dP0OQWU33uFI/QrwTOau1yj8CeaQxwkrsP+doqWrtz7A/ysqCRUhUpT+8PcqgMtq2P76q+OE32/o/+OBE0SCmVkDiqg7JFBOSP7CB+kBymJU/Szl596Jiwz/yprJSR8qTP3pkUZb0F1I/BR3nFdN1rz9gpX6wqIijPydANP57s6Q/Fd+vsj5LNUDatcRiJsZ3P5Gqac1F0vk/qKlla32RkD9HVOZ8FeuwP2Vr2yu07QJASnd8IB4ujj+B5SE84GvVPzjqAslMCo8/IZrzMh9iaj8Pw6X1r4DMP+MQwLn+7rI/fe2OAslQPUBQZgMBLBdSP7ZiTVbdy5g/Auvqnz41mj88fb3JWvapPySkli8tv7M+rs2wWtoG4j/sR+Ui84u0P/pQWJh0SqY/6Zc/nwz1+T/dRvFNnnVXP7GW9l5gfJc/MSzad6CpYj8RZN0le1UqP7Ii1T3Tx1M/gCRRUE+V8T9VsOz5bbipP5dH8BLetJc/FjbWGhJloD+Y+Wk8cTOqP843+HuPnr4/YM3eg3l4fD+amZmZmZm5P1TJZ8V2EaQ/PJyyKKnxoD+UQR8YWPHCP+9RLnYjAmdAtzamgFigG0DWBA/bLwL9Pxe208ddM6o/vkBVyjR1sT/SlpY4wgekPyTn/Mg4PKs/zYCrI+SP2j/i8cNEQNabPx9SKrItmsE/CNt/kWqRYD+9mE1nMtgnP8yF3MnNWsY/gLvb6pp9wz+LfM5FkgxYP0RW9t6REX0/q5MzFHdc6T+Ik4fHdgXnP2EBUdLxCGY/6eOf7kOrsD8Cu3kufBJ6P4Q1GrpNxIQ/Gd3AazfEhz8/KxAj/XASQH7jjN0VrOY/w2ET4I5MRD8MbpSKAIaJP/NO4szfHxc/67RAS+/MWD8b5Q3u1kuwPwXhKaRYf6A/LdUjEicljD9z3aqtxzOOP6axWqQejIE/hpgBHZw+kD/YheJND5M1Pw0H+CRmrKA/5neazHhbsz+amZmZmZm5P+LuLV6MfoU/evNg+nqYlz+E1A77lIxAQAcB6/TuC6Y/s59/iui1iz8sA1r8nj+QP6ozvNFcgJU/RrOfDEU6hT/hehSuR+HKP+iDOuyLcoc/MvW7zuYPbj9cPOdnHf4lQAuHlFXH4LE/D2pANikCdT9WA+PMbr01QBa30dKOIyRAgXto3+5tgj999EEnaLmkP0t8lUyzGKc/rzDi2gdbdz8PJ5fwCNtEPyazkyR8rZE/JhsMG2hQhT/p3Xh2UXxCQEee1uWz7XE/fXoE6AsuAUB7FK5H4XqUP2cU6L/96Xo/ZlhQ7qv2iz9yOeGnGDnBP3MAszFlllM/aSfW6w4QkT/cF7lvAV21P7TAn3wY+Zg/Tar1/yMzRD/balscC8KjPwPxWTnaBOo/Ik7R2DGKcj+amZmZmZm5P3sUrkfhenQ/4w3nHGeTVj+gGi/dJAblP48BUPp/q70/3dRFrPPfjz+lh6HVyRmmP5bDzyU1BYA/suyBCtKCQz//kJ8JJJN5P72MXEynjEU/mTOylsgmZT8AAAAAAADwP38QBvR7yF8/SiP0oJHpvT+/W5VOaLXFP9ekbnaKpoI/QZhDoVFJ5T8CidzCqcWGP1Nzpd3pkzNA6Jb7KuHzsj+l3vXH6ymhP1eKk+p98NA/jLxCB+v/fj916YoSJwnDPxE4HNoje2Q/mpmZmZmZuT8vAqKEDz+SP3ZXicSJUPE/wIzq85/Vmj+moaHaO/52P3KYI7whs7s/rHvOV3XIkj8Dq9u6SiDJP5HtfD81Xuo/fE0eNVcMV0CxZqAPA5FvP5qZmZmZmak/tSlopO9/kT/fbWncIhFkP4WZ63E1a68/exSuR+F6lD+3lmcwUNx4P9JE36rZbYk/ic/nbdm6lD/lYL/y41mzPzX8zGF9sYY/60LrYkxahj9l7Kem9LFKP0GpSTKjBlA/qz5cFGsogT8v3MQYFehAQCIw8oxfc2w/YQ4YqrYpaz8iJ4iPV4qFPyEGuvYF9J4/SFxEN6JLTT94/JAXzymDP7Q9iecgvV4/1Ojn42CKmD9p8QYOkrFkP3D+s0X+LXc/rj0jef01iD+4yMsH9S7hP5i277liMjQ/9SGGAhV3hj/uJ6ZsKvFnPylcj8L1KLw/6rVQZyuFaT/ClceQNL+NP9MCSRJjHZ8/8n4kUuFZfD8AAAAAAADwP84PcG1Wj7k/5afEt6j9kj9MI16FMXWiP2qGpZi7SmI/L7TKRhL1ij92lDwYB/SIPyr2wulFUrw//4gkT5losD+KEtrwZXO8P4MMzHivCZY/gWpy53i7hD96aE1j47DZP3EP3Y93Jb8/yTAcP7z9dT9kEp2Ba9BSP/yp8dJNYkA/j+aGrl29uT8c73fwX5WRPy0r5vpBw5Q/jX763X/j0j8TLA5nfhX1P0S2bUDCU4c/l7FzYxLflT94tHHEWlREQHc1lyDFLoU/hvaei80AjD+amZmZmZm5PzlXjCpYrLE/5yoiMkjNNkBEbmrXUEKUP8ls7rpHDsE/nY0tP1rZkj/k8aXRk/P8P/9TTtQCFnE/pkLhWLz9oT9d2arJ+BywP/eNKQTk3ns/I+v8HYKRkj9bcFp+TceVP5Gu4wnOKnU/lgMufdmqmj+Vluoyl3xlP/2bRzABFyJAMC/mBd0AjT+EdP0uanGWP7l9sPKmOpI/7BLVW8NhZEDvlG80lu0BQBwj1GoapLs/o89wPZBavz93DGe/3zuoPwjYBZRvbZI/t5k23Om9iT+pYP+ueByTPzIt+780uktAKq/1QorMPz/8qfHSTWJwP2NNdqM24GFA0mk7eLbfgz/zFolLZd+RPzdeeYQSt6A/dGwC4UpDoT9Bz7+NLwKUPxWMSuoENHE/kWpZcJ9Sgj+amZmZmZmZP43LqX5U7TlAZpw3NC6/fT8rJtJqodgUQL0zf/GxYMc/KED8ynKfBUCHF0/KlrBSP09X2mdVEHE/+n5qvHSTmD+GMyrpfp2RP+OrTf7POkhAQRWSJ6SQtz/LsSdHIvDhP9W23EqeAoE/EPstz71moT+n5QL1OJxhP7twiETZcp8/zWdX2vGYuT+wGoPO5ECJPwvZes5XwZA/xBmq////IUBLoRIoeW3GP2MGSZHxHHo/pWylmAIgij9iIJ30neN3P1/WISfEjqM/YQdraxNw0j81jUG1LmY8QLJvTf0Kfsc/Yag4cazU3j8jgRW4/Gi8PypDunIlSDNAO99PjZducj8FXvs8JavgP9C3dEBWIYs/S5/uHtpckT86XWdamo+0P6Y4bZ5xPdw/AqWdU2ClE0Dy6PYMMT6BP6VQ9SSvtg9AknluGBMhpz9K+qK29BY+QLCWhmp4UnE/1RByhk4SgD9yQSqDcvSbP1a84sDjL9M/5K3f4o1Jpz/9Q7uJqOniP6ZiH85JhGQ/4J9Is1YNcj9c+/fm91yBP1vs9lllppQ/0mcsYblniD9p/oOKwu+UP6oEaLSFglo/gGMbZvY/gz9U/Moe5pFKQDZYGAZlvHM/laCPQ3EPzj/eLnv4siTBPwAAAAAAACRALbOfK6t5uz95nyvi+ZnkPw7olmdves0/XJpEq3xa/D+3wOXIoG3kP/gnzENXfYk/Zh4APmb7LEAIcooPzQvLP+x63ZXxCoc/KXucgF4syj9Up+5PQ8JhP/jZjAtGejs/eGawiAYvmj+vsOB+wNPkP7TR283Dsc8/VaUnwRh+tD+NwRpB7atwP5qZmZmZmZk/Ap6qhc48jD87rGZgubVLP+k6xKdPXlM/wAAbQFpEsj9axoO2ZxvRPwcezAEm/5s/05Q7LvUThD/A11Pk0GaWP/xmcJQ6PIQ/NxmABs4rVD/iRYb3R0igPzXsebL84sE/SJ3+cJ+uhj/6BkKMuWaQPzFmpg+4CXI/b2y34m139j9N/mfkM5OVPymjfKlQ4XQ/GwTEXldVhj/Vx+NssRBKP3khlQFh0aM/6cbyY8WdfD9N1eL4RhkWP+eRKHwCnZM/JYT41LKlREBmZmZmZmYkQFLQjYiiQH8/4M3SjPBjwT9WRSJgmAShP5ncEGA57OE/txsKJiMelj8S1vYD0gKfP+1L29PPd1NArDN/pGtAZj/jsUtNZ5mtP4GPSnyxoZI/RGoiJEukgD+0aQLGrrSBP6SL2XiSc3Q/ijwQV5bnoj+4lEgxbQJ9P0kNae8IP3g/wz7kWYQSUT9d2zmwIU6LP0QNLSzo6LA/5lBtYuo1Vz8CSOcvTCJ2P2FN+POC6I8/ehOcKnoIdD9drFIqOzOOP9YRtClm41hABU0C7GK7kz+q3ulOd4KfP8iZZbBplrs/HVpmaRoagz/NzMzMzMwAQOxzbGJ8I3M/m+720nRzcj94PlVniIt0P6yj62iS9fA/AAAAAAAA8D91l1KmxvmDPwAAAAAAAPA/nV/yEcHwEEDn0F80HM17P07ar5aW7Is/fuPsN6Fskj8W1BPZpbDKPzDRu4+9NTFAI3lJ7nTf/T8W0tZVcBSiP0DT/6fK21k/g2kKdh86kD9P1XddQ5mLP63Ce4kXnTo/EhWfpNYQoj/KkeYasUOOPyT6jHaiRaI/5i7lJxC0kj+i5B/HIMGZPzKQDRu6sl8/dxsGu2HTPkAwmR851niKP7RANvNic0c/6K3DKiYKlT9t3vsbznbJPw3cvp39ruw/gblU2KSUjz9XjzL8QcaqP/KJ6QCQLFM/JCtQQTSptT/t0wiwuViYPwAAAAAAAPA/NCbgKkWjLkDJHMKTBnOsP0p8ZRSrDM8/uVSgdPSYDkAaA0by8PlsP649U6fX6pc/RjgFsAMSlT/+KGPYnf1xP6LK7seFuYM/O1OrwDft2z8UqA9ufPfoP2PsQi8pYu8/EPEQ0pHwMUDJijyao6HfP6wlobLiiZc/uB6F61G4rj8AKQNTgJU9QJLp7DVS4Nk/UUGNzKvDsj+o6nBoTsbJP3GjSZn2hro/YN6rr7tNbz90Nf0m/bF0P9sWJinX1rE/9OlPB4BOkT8H1L94+B2zP/1HbJgdub4/2nAFEiAAJEDYfify2yDQP0G+Jj08W1I/R+9rTgKsF8B8PWckpU1rP26Vg7G3cyI/mpmZmZmZuT/wT2t+JlTwP5K7JhxeE5k/evEKIEf18T8AAAAAAADwP5qZmZmZmbk/MF2noQkDgz9Eg5fi6O+OQAAAAAAAAPA/Pme9/v///z9bRm8XK5SOP3loisb7Xe8/2g78XvnifT9UGkSB8NEgPw==\",\"dtype\":\"float64\",\"order\":\"little\",\"shape\":[533]},\"color\":{\"__ndarray__\":\"AgAAAAIAAAAEAAAAAAAAAAUAAAAAAAAAAgAAAAUAAAAFAAAABQAAAAIAAAAFAAAAAgAAAAIAAAAAAAAAAgAAAAAAAAAAAAAAAgAAAAIAAAAFAAAABAAAAAAAAAAAAAAAAAAAAAIAAAAAAAAAAAAAAAAAAAACAAAAAAAAAAIAAAAAAAAAAAAAAAIAAAACAAAABQAAAAAAAAAAAAAAAAAAAAAAAAAAAAAAAgAAAAIAAAAAAAAAAAAAAAAAAAAAAAAAAAAAAAIAAAACAAAAAAAAAAIAAAAAAAAAAAAAAAAAAAAAAAAAAgAAAAAAAAAFAAAAAgAAAAAAAAACAAAAAgAAAAIAAAAAAAAAAAAAAAAAAAACAAAAAgAAAAIAAAACAAAAAgAAAAAAAAAAAAAAAAAAAAIAAAACAAAAAAAAAAIAAAAAAAAAAgAAAAIAAAAAAAAAAAAAAAAAAAAAAAAAAgAAAAIAAAAAAAAAAgAAAAAAAAAAAAAAAgAAAAIAAAAAAAAAAgAAAAIAAAAEAAAABQAAAAIAAAACAAAAAAAAAAIAAAACAAAAAAAAAAIAAAAAAAAAAgAAAAAAAAACAAAAAAAAAAIAAAACAAAAAAAAAAUAAAACAAAABQAAAAAAAAAAAAAAAgAAAAAAAAAFAAAAAAAAAAAAAAAAAAAAAgAAAAIAAAAAAAAABQAAAAAAAAACAAAAAAAAAAIAAAAAAAAAAAAAAAIAAAAFAAAAAgAAAAUAAAACAAAAAgAAAAAAAAAAAAAAAgAAAAAAAAAFAAAAAgAAAAIAAAAAAAAAAgAAAAAAAAACAAAAAgAAAAIAAAAAAAAABQAAAAAAAAAFAAAAAgAAAAIAAAACAAAAAgAAAAIAAAAAAAAAAAAAAAIAAAACAAAAAgAAAAIAAAACAAAAAAAAAAIAAAACAAAAAgAAAAIAAAACAAAAAAAAAAIAAAAAAAAAAgAAAAIAAAAFAAAAAgAAAAAAAAACAAAAAgAAAAUAAAACAAAAAAAAAAIAAAAAAAAAAgAAAAAAAAACAAAAAgAAAAIAAAACAAAABQAAAAIAAAACAAAAAgAAAAIAAAACAAAABQAAAAUAAAAEAAAAAgAAAAAAAAAAAAAAAgAAAAIAAAACAAAAAgAAAAIAAAAAAAAAAgAAAAIAAAACAAAAAgAAAAIAAAACAAAAAgAAAAIAAAAFAAAAAgAAAAIAAAACAAAAAgAAAAIAAAACAAAAAAAAAAUAAAAFAAAAAgAAAAIAAAACAAAAAgAAAAAAAAACAAAABQAAAAIAAAACAAAAAAAAAAIAAAAAAAAABQAAAAIAAAAAAAAABQAAAAIAAAAFAAAAAgAAAAIAAAACAAAAAAAAAAIAAAACAAAAAAAAAAIAAAACAAAAAgAAAAIAAAACAAAAAgAAAAIAAAAAAAAAAgAAAAAAAAACAAAAAgAAAAIAAAACAAAAAAAAAAIAAAAFAAAAAgAAAAUAAAAFAAAABQAAAAUAAAACAAAAAAAAAAIAAAACAAAAAAAAAAIAAAAAAAAAAAAAAAAAAAACAAAABQAAAAIAAAAFAAAABAAAAAAAAAACAAAAAAAAAAIAAAAAAAAAAgAAAAIAAAAEAAAAAAAAAAIAAAAAAAAAAAAAAAAAAAAAAAAAAAAAAAIAAAACAAAABQAAAAIAAAACAAAAAgAAAAUAAAACAAAAAAAAAAIAAAAAAAAAAgAAAAUAAAACAAAAAgAAAAIAAAACAAAABQAAAAIAAAACAAAAAAAAAAIAAAACAAAAAgAAAAAAAAAAAAAABQAAAAAAAAACAAAABAAAAAIAAAACAAAABQAAAAIAAAAFAAAABQAAAAUAAAACAAAAAgAAAAAAAAAFAAAAAgAAAAIAAAAAAAAAAgAAAAAAAAAAAAAAAAAAAAIAAAAAAAAAAAAAAAIAAAACAAAAAgAAAAAAAAAAAAAAAAAAAAIAAAAAAAAAAgAAAAQAAAAFAAAAAgAAAAUAAAAAAAAABQAAAAAAAAACAAAAAwAAAAMAAAAAAAAAAAAAAAAAAAACAAAAAwAAAAIAAAACAAAAAgAAAAIAAAAFAAAABQAAAAAAAAAFAAAAAgAAAAIAAAACAAAABQAAAAIAAAAFAAAAAgAAAAIAAAACAAAABAAAAAAAAAACAAAAAgAAAAUAAAACAAAAAgAAAAAAAAAFAAAAAgAAAAUAAAACAAAABQAAAAUAAAAFAAAABQAAAAIAAAACAAAABQAAAAIAAAAFAAAAAgAAAAIAAAAEAAAAAgAAAAIAAAACAAAAAAAAAAUAAAAAAAAAAgAAAAIAAAACAAAAAgAAAAIAAAACAAAAAAAAAAIAAAAFAAAABQAAAAAAAAAFAAAAAgAAAAIAAAACAAAAAgAAAAAAAAACAAAAAgAAAAAAAAACAAAAAgAAAAAAAAADAAAABQAAAAIAAAAFAAAAAAAAAAAAAAACAAAABQAAAAIAAAAFAAAABQAAAAAAAAAFAAAAAAAAAAIAAAAFAAAAAgAAAAUAAAACAAAAAgAAAAAAAAACAAAAAgAAAAIAAAACAAAAAgAAAAAAAAAAAAAAAAAAAAIAAAAEAAAAAgAAAAAAAAACAAAAAAAAAAIAAAAFAAAAAgAAAAIAAAACAAAAAgAAAAAAAAACAAAAAgAAAAIAAAAAAAAAAgAAAAAAAAACAAAAAAAAAAIAAAACAAAAAgAAAAAAAAAAAAAAAgAAAAIAAAAEAAAAAgAAAAIAAAACAAAAAwAAAAUAAAACAAAABQAAAAQAAAAFAAAABAAAAAIAAAADAAAAAgAAAAEAAAACAAAABAAAAAIAAAAFAAAABQAAAAIAAAA=\",\"dtype\":\"int32\",\"order\":\"little\",\"shape\":[533]}},\"selected\":{\"id\":\"1361\"},\"selection_policy\":{\"id\":\"1385\"}},\"id\":\"1360\",\"type\":\"ColumnDataSource\"},{\"attributes\":{\"fill_color\":{\"field\":\"color\",\"transform\":{\"id\":\"1359\"}},\"line_color\":{\"field\":\"color\",\"transform\":{\"id\":\"1359\"}},\"size\":{\"units\":\"screen\",\"value\":5.477225575051661},\"x\":{\"field\":\"TotalCoinsMined\"},\"y\":{\"field\":\"TotalCoinSupply\"}},\"id\":\"1366\",\"type\":\"Scatter\"},{\"attributes\":{},\"id\":\"1336\",\"type\":\"LinearScale\"},{\"attributes\":{},\"id\":\"1370\",\"type\":\"BasicTicker\"},{\"attributes\":{},\"id\":\"1350\",\"type\":\"ResetTool\"},{\"attributes\":{},\"id\":\"1361\",\"type\":\"Selection\"},{\"attributes\":{\"text\":\"\",\"text_color\":{\"value\":\"black\"},\"text_font_size\":{\"value\":\"12pt\"}},\"id\":\"1330\",\"type\":\"Title\"},{\"attributes\":{\"margin\":[5,5,5,5],\"name\":\"HSpacer02168\",\"sizing_mode\":\"stretch_width\"},\"id\":\"1325\",\"type\":\"Spacer\"},{\"attributes\":{\"axis_label\":\"TotalCoinsMined\",\"bounds\":\"auto\",\"formatter\":{\"id\":\"1373\"},\"major_label_orientation\":\"horizontal\",\"ticker\":{\"id\":\"1339\"}},\"id\":\"1338\",\"type\":\"LinearAxis\"},{\"attributes\":{\"data_source\":{\"id\":\"1360\"},\"glyph\":{\"id\":\"1363\"},\"hover_glyph\":{\"id\":\"1366\"},\"muted_glyph\":{\"id\":\"1367\"},\"nonselection_glyph\":{\"id\":\"1364\"},\"selection_glyph\":{\"id\":\"1365\"},\"view\":{\"id\":\"1369\"}},\"id\":\"1368\",\"type\":\"GlyphRenderer\"},{\"attributes\":{\"axis\":{\"id\":\"1342\"},\"dimension\":1,\"grid_line_color\":null,\"ticker\":null},\"id\":\"1345\",\"type\":\"Grid\"},{\"attributes\":{},\"id\":\"1380\",\"type\":\"BasicTickFormatter\"},{\"attributes\":{\"margin\":[5,5,5,5],\"name\":\"HSpacer02169\",\"sizing_mode\":\"stretch_width\"},\"id\":\"1395\",\"type\":\"Spacer\"},{\"attributes\":{\"end\":1100.0,\"reset_end\":1100.0,\"reset_start\":-100.0,\"start\":-100.0,\"tags\":[[[\"TotalCoinSupply\",\"TotalCoinSupply\",null]]]},\"id\":\"1327\",\"type\":\"Range1d\"},{\"attributes\":{\"bar_line_color\":\"black\",\"color_mapper\":{\"id\":\"1359\"},\"formatter\":{\"id\":\"1380\"},\"label_standoff\":8,\"location\":[0,0],\"major_tick_line_color\":\"black\",\"ticker\":{\"id\":\"1370\"}},\"id\":\"1371\",\"type\":\"ColorBar\"},{\"attributes\":{\"axis\":{\"id\":\"1338\"},\"grid_line_color\":null,\"ticker\":null},\"id\":\"1341\",\"type\":\"Grid\"},{\"attributes\":{},\"id\":\"1385\",\"type\":\"UnionRenderers\"},{\"attributes\":{\"fill_color\":{\"field\":\"color\",\"transform\":{\"id\":\"1359\"}},\"line_color\":{\"field\":\"color\",\"transform\":{\"id\":\"1359\"}},\"size\":{\"units\":\"screen\",\"value\":5.477225575051661},\"x\":{\"field\":\"TotalCoinsMined\"},\"y\":{\"field\":\"TotalCoinSupply\"}},\"id\":\"1365\",\"type\":\"Scatter\"},{\"attributes\":{},\"id\":\"1343\",\"type\":\"BasicTicker\"},{\"attributes\":{\"axis_label\":\"TotalCoinSupply\",\"bounds\":\"auto\",\"formatter\":{\"id\":\"1375\"},\"major_label_orientation\":\"horizontal\",\"ticker\":{\"id\":\"1343\"}},\"id\":\"1342\",\"type\":\"LinearAxis\"},{\"attributes\":{},\"id\":\"1373\",\"type\":\"BasicTickFormatter\"},{\"attributes\":{\"children\":[{\"id\":\"1325\"},{\"id\":\"1329\"},{\"id\":\"1395\"}],\"margin\":[0,0,0,0],\"name\":\"Row02164\",\"tags\":[\"embedded\"]},\"id\":\"1324\",\"type\":\"Row\"}],\"root_ids\":[\"1324\"]},\"title\":\"Bokeh Application\",\"version\":\"2.2.3\"}};\n    var render_items = [{\"docid\":\"be2feda7-36f5-4faf-a13d-f1f200dfc867\",\"root_ids\":[\"1324\"],\"roots\":{\"1324\":\"53fc7127-ea3a-41c6-af8f-43898d638e53\"}}];\n    root.Bokeh.embed.embed_items_notebook(docs_json, render_items);\n  }\n  if (root.Bokeh !== undefined && root.Bokeh.Panel !== undefined) {\n    embed_document(root);\n  } else {\n    var attempts = 0;\n    var timer = setInterval(function(root) {\n      if (root.Bokeh !== undefined && root.Bokeh.Panel !== undefined) {\n        clearInterval(timer);\n        embed_document(root);\n      } else if (document.readyState == \"complete\") {\n        attempts++;\n        if (attempts > 100) {\n          clearInterval(timer);\n          console.log(\"Bokeh: ERROR: Unable to run BokehJS code because BokehJS library is missing\");\n        }\n      }\n    }, 10, root)\n  }\n})(window);</script>",
      "application/vnd.holoviews_exec.v0+json": "",
      "text/plain": [
       ":Scatter   [TotalCoinsMined]   (TotalCoinSupply,Class,CoinName)"
      ]
     },
     "metadata": {
      "application/vnd.holoviews_exec.v0+json": {
       "id": "1324"
      }
     },
     "execution_count": 37
    }
   ],
   "source": [
    "# Plot the scatter with x=\"TotalCoinsMined\" and y=\"TotalCoinSupply\"\n",
    "clustered_df.hvplot(\n",
    "    kind=\"scatter\", \n",
    "    x=\"TotalCoinsMined\", \n",
    "    y=\"TotalCoinSupply\", \n",
    "    c='Class', \n",
    "    colormap=\"viridis\", \n",
    "    hover_cols=['CoinName']\n",
    ")\n"
   ]
  },
  {
   "cell_type": "code",
   "execution_count": null,
   "metadata": {},
   "outputs": [],
   "source": []
  }
 ],
 "metadata": {
  "file_extension": ".py",
  "kernelspec": {
   "name": "python379jvsc74a57bd0301f5ebbd6897e42b6e036910aa582b5e44fcab4af683796097fedcfbf015009",
   "display_name": "Python 3.7.9 64-bit ('dev': conda)"
  },
  "language_info": {
   "codemirror_mode": {
    "name": "ipython",
    "version": 3
   },
   "file_extension": ".py",
   "mimetype": "text/x-python",
   "name": "python",
   "nbconvert_exporter": "python",
   "pygments_lexer": "ipython3",
   "version": "3.7.9"
  },
  "mimetype": "text/x-python",
  "name": "python",
  "npconvert_exporter": "python",
  "pygments_lexer": "ipython3",
  "version": 3
 },
 "nbformat": 4,
 "nbformat_minor": 4
}